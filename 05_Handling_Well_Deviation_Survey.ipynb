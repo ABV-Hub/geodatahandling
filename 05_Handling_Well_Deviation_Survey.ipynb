{
  "nbformat": 4,
  "nbformat_minor": 0,
  "metadata": {
    "colab": {
      "name": "05-Handling Well Deviation Survey.ipynb",
      "provenance": [],
      "collapsed_sections": [
        "Pij2PSOOXJ1x",
        "cFhLNSyaX1qZ",
        "XoWzrsN9M5ep"
      ],
      "toc_visible": true
    },
    "kernelspec": {
      "name": "python3",
      "display_name": "Python 3"
    }
  },
  "cells": [
    {
      "cell_type": "markdown",
      "metadata": {
        "id": "BuEfxdD5vLuq",
        "colab_type": "text"
      },
      "source": [
        "<table align=\"center\">\n",
        "  <td align=\"center\"><a target=\"_blank\" href=\"https://colab.research.google.com/drive/11scjsE3K5z76nibxbJu3oVx0OV6RMLQN?usp=sharing\">\n",
        "        <img src=\"https://i.ibb.co/3723Hm9/colab.png\"  style=\"padding-bottom:5px;\" />Run in Google Colab</a></td>\n",
        "  <td align=\"center\"><a target=\"_blank\" href=\"https://github.com/leocd91/geodatahandling\">\n",
        "        <img src=\"https://i.ibb.co/L5p10GH/github.png\"  height=\"70px\" style=\"padding-bottom:5px;\"  />View Source on GitHub</a></td>\n",
        "</table>\n"
      ]
    },
    {
      "cell_type": "markdown",
      "metadata": {
        "id": "Pij2PSOOXJ1x",
        "colab_type": "text"
      },
      "source": [
        "# **Introduction** (you can read it or skip it)"
      ]
    },
    {
      "cell_type": "markdown",
      "metadata": {
        "id": "ITe_TZChEczk",
        "colab_type": "text"
      },
      "source": [
        "By : leocd91@gmail.com\n",
        "\n",
        "---\n",
        "Welcome to the fourth episode of \"***Digital Geoscience Data Handling using Python***\" Series.\n",
        "During this physical-distancing-new-normal year, I try to compile my experiences in handling digital geoscience / petrotechnical data. \n",
        "\n",
        "This will include: Parsing any type of data, QC analysis, database, feeding data for geophysical inversion - machine learning / deep learning stuffs, and maybe handling those data to do some GP-GPU too.\n",
        "\n",
        "I made this tutorial as beginner-friendly as possible, so some explanation might not be as \"*cool & marketing-friendly*\" as developers intended. \n",
        "And some code are not *pythonic* for that reason too.\n",
        "\n",
        "\n",
        "\n",
        "\n",
        "any feedback just hmu.\n",
        "\n",
        "---"
      ]
    },
    {
      "cell_type": "markdown",
      "metadata": {
        "id": "Jwg3LODIctIj",
        "colab_type": "text"
      },
      "source": [
        "**- Why don't we just install X to read those files?**\n",
        "\n",
        "> Yes you can do that too. \n",
        "\n",
        "> This tutorial for those who wish how to parse any digital geoscience data content without dependencies. \n",
        "> People who work with geoscience data for some years often struggles with python package that evolve really fast which make their code obsolete quickly. Also some package use their own class/data-type which you will find challenging to inspect your own array."
      ]
    },
    {
      "cell_type": "markdown",
      "metadata": {
        "id": "2ZguU1ugJUAd",
        "colab_type": "text"
      },
      "source": [
        "**- Is there any Prereq.?**\n",
        "\n",
        "> Just knowing basic stuff about programming is enough.\n",
        "If you don't even know what an array is, I suggest watching some crash course python on youtube."
      ]
    },
    {
      "cell_type": "markdown",
      "metadata": {
        "id": "IPdihNIKLSie",
        "colab_type": "text"
      },
      "source": [
        " **- Who are you giving some tutorials on the internet!?**\n",
        "\n",
        " \n",
        "\n",
        "> I'm a Petrotechnical Data Management on a NOC in Indonesia. More than 5 years here and still going strong.\n",
        "\n",
        "> I code my way to finish my undergraduate thesis (FDTD Elastic Wave in cuda) and get some side-gigs from there too (Inversion Method, Numerical Simulation, Etc.).\n",
        "\n",
        "> I know some C, F95, and Matlab (Now I'm Python *Muallaf* tho).\n",
        "\n",
        "> My main interest is in computational geophysics and GP-GPU.\n",
        "\n",
        "> I also *(lazily)* wrote some stuff on my blog about computational geophysics here http://redigitize.blogspot.com/ \n",
        "\n",
        "> I also ***love*** deep-fried banana.\n",
        " \n",
        "\n",
        " \n",
        " **TL;DR** I'm not a PhD, CEO, or Someone famous. I'm just glad that I can share something that I learn and learn more from this."
      ]
    },
    {
      "cell_type": "markdown",
      "metadata": {
        "id": "MKxxEXbmRZIb",
        "colab_type": "text"
      },
      "source": [
        "**- Which Python or Software or IDE or whatever that means to learn python? What is this stuff called Notebook!? Even this google colab thing!?   I hate you!**\n",
        "\n",
        "\n",
        "> Grab your towel and don't panic! \n",
        "> You can use this stuff inside google colab thing which people usually call by \"notebook format\", it's easy to make a step-by-step tutorial here. Also to run your specific line of code you just have to click the \"play\" button (it's actually RUN button tho) on the left.\n",
        "\n",
        "> Try this one below!\n",
        "\n",
        "\n",
        "\n"
      ]
    },
    {
      "cell_type": "code",
      "metadata": {
        "id": "7jhWkegLUSjJ",
        "colab_type": "code",
        "colab": {
          "base_uri": "https://localhost:8080/",
          "height": 0
        },
        "outputId": "1f2b851c-aac7-4ea4-eb7c-aa8c233df2c3"
      },
      "source": [
        "print(\"hello stranger, what are you buyin'?\") #click run button on the left and see result below."
      ],
      "execution_count": 38,
      "outputs": [
        {
          "output_type": "stream",
          "text": [
            "hello stranger, what are you buyin'?\n"
          ],
          "name": "stdout"
        }
      ]
    },
    {
      "cell_type": "markdown",
      "metadata": {
        "id": "2FToGcsCUrPR",
        "colab_type": "text"
      },
      "source": [
        "\n",
        "> As for what \"*software*\" to use, For me, I rarely use a notebook, some people that prefer IDE or Editor type of python use pycharm (https://www.jetbrains.com/pycharm/) or SPYDER (https://www.spyder-ide.org/) (for former Matlab user, maybe spyder is your favorite editor. It got variable explorer!)\n",
        "\n",
        "**TL;DR** you can use google colab notebook or install pycharm or install anaconda (got spyder and stuff installed in your pc already like google colab)\n",
        "\n",
        "---"
      ]
    },
    {
      "cell_type": "markdown",
      "metadata": {
        "id": "SqnzgER3GQdC",
        "colab_type": "text"
      },
      "source": [
        "# **Deviation Trajectory Data Handling**\n",
        "---\n",
        "Now how do we handle digital trajectory / deviation survey data using Python?\n",
        "\n",
        "---"
      ]
    },
    {
      "cell_type": "markdown",
      "metadata": {
        "id": "GdeORNGhmGpy",
        "colab_type": "text"
      },
      "source": [
        "First, just like the last tutorial, We put this 3 lines of code on top of our code. \n",
        "\n",
        "<del>We have this habit to always use this just like some cult chants to summon a Dark Lord.</del>\n",
        "```\n",
        "import numpy as np\n",
        "import pandas as pd\n",
        "import matplotlib.pyplot as plt\n",
        "```\n",
        "\n",
        "we need `numpy` to make array and some scientific function to calculate the deviation survey method, \n",
        "\n",
        "`pandas` for... well.. uh.. the dataframe , \n",
        "and `matplotlib` to plot those data.\n",
        "\n",
        "---"
      ]
    },
    {
      "cell_type": "code",
      "metadata": {
        "id": "c7ie_mgV_ztR",
        "colab_type": "code",
        "colab": {}
      },
      "source": [
        "import numpy as np \n",
        "import pandas as pd \n",
        "import matplotlib.pyplot as plt"
      ],
      "execution_count": 39,
      "outputs": []
    },
    {
      "cell_type": "markdown",
      "metadata": {
        "id": "SEUzZzqu1wMi",
        "colab_type": "text"
      },
      "source": [
        "Set up the pandas table look on colab to make it more readable."
      ]
    },
    {
      "cell_type": "code",
      "metadata": {
        "id": "-VukOel7BdQl",
        "colab_type": "code",
        "colab": {
          "base_uri": "https://localhost:8080/",
          "height": 54
        },
        "outputId": "e0966926-b958-4767-c9da-11a3d3d5f610"
      },
      "source": [
        "%load_ext google.colab.data_table \n",
        "#setting display table (only for google colab)"
      ],
      "execution_count": 40,
      "outputs": [
        {
          "output_type": "stream",
          "text": [
            "The google.colab.data_table extension is already loaded. To reload it, use:\n",
            "  %reload_ext google.colab.data_table\n"
          ],
          "name": "stdout"
        }
      ]
    },
    {
      "cell_type": "markdown",
      "metadata": {
        "id": "2VwBzP3_15MH",
        "colab_type": "text"
      },
      "source": [
        "---\n",
        "There are a lot of format for well trajectory / deviation survey. Commonly in ASCII with `.prn` or `.asc` extension and in spreadsheet format.\n",
        "\n",
        "For this tutorial let's use this sample in ASCII format."
      ]
    },
    {
      "cell_type": "code",
      "metadata": {
        "id": "ysZU60I3SnTA",
        "colab_type": "code",
        "colab": {
          "base_uri": "https://localhost:8080/",
          "height": 223
        },
        "outputId": "8eefa9ef-c6ef-4e0c-bd79-a1277b915b21"
      },
      "source": [
        "!wget \"https://raw.githubusercontent.com/leocd91/geodatahandling/master/sample_data/well-001_dev_survey.prn\""
      ],
      "execution_count": 41,
      "outputs": [
        {
          "output_type": "stream",
          "text": [
            "--2020-06-24 06:54:16--  https://raw.githubusercontent.com/leocd91/geodatahandling/master/sample_data/well-001_dev_survey.prn\n",
            "Resolving raw.githubusercontent.com (raw.githubusercontent.com)... 151.101.0.133, 151.101.64.133, 151.101.128.133, ...\n",
            "Connecting to raw.githubusercontent.com (raw.githubusercontent.com)|151.101.0.133|:443... connected.\n",
            "HTTP request sent, awaiting response... 200 OK\n",
            "Length: 1486 (1.5K) [text/plain]\n",
            "Saving to: ‘well-001_dev_survey.prn.1’\n",
            "\n",
            "\r          well-001_   0%[                    ]       0  --.-KB/s               \rwell-001_dev_survey 100%[===================>]   1.45K  --.-KB/s    in 0s      \n",
            "\n",
            "2020-06-24 06:54:16 (25.6 MB/s) - ‘well-001_dev_survey.prn.1’ saved [1486/1486]\n",
            "\n"
          ],
          "name": "stdout"
        }
      ]
    },
    {
      "cell_type": "markdown",
      "metadata": {
        "id": "6GuvwyCE2iXq",
        "colab_type": "text"
      },
      "source": [
        "Let's read the data into pandas dataframe."
      ]
    },
    {
      "cell_type": "code",
      "metadata": {
        "id": "fbbqtHvfAZf6",
        "colab_type": "code",
        "colab": {}
      },
      "source": [
        "df_raw = pd.read_csv('well-001_dev_survey.prn', delimiter=',')"
      ],
      "execution_count": 42,
      "outputs": []
    },
    {
      "cell_type": "code",
      "metadata": {
        "id": "TV4Z5Z5EA7OR",
        "colab_type": "code",
        "colab": {
          "base_uri": "https://localhost:8080/",
          "height": 635
        },
        "outputId": "dad2bf31-2dfe-4141-de1a-af4e670eab6f"
      },
      "source": [
        "df_raw"
      ],
      "execution_count": 43,
      "outputs": [
        {
          "output_type": "execute_result",
          "data": {
            "application/vnd.google.colaboratory.module+javascript": "\n      import \"https://ssl.gstatic.com/colaboratory/data_table/a6224c040fa35dcf/data_table.js\";\n\n      window.createDataTable({\n        data: [[{\n            'v': 0,\n            'f': \"0\",\n        },\n{\n            'v': 0.0,\n            'f': \"0.0\",\n        },\n{\n            'v': 0.0,\n            'f': \"0.0\",\n        },\n\"N 0 E\"],\n [{\n            'v': 1,\n            'f': \"1\",\n        },\n{\n            'v': 168.9,\n            'f': \"168.9\",\n        },\n{\n            'v': 0.0,\n            'f': \"0.0\",\n        },\n\"N 0 E\"],\n [{\n            'v': 2,\n            'f': \"2\",\n        },\n{\n            'v': 178.5,\n            'f': \"178.5\",\n        },\n{\n            'v': 2.5,\n            'f': \"2.5\",\n        },\n\"N 1 E\"],\n [{\n            'v': 3,\n            'f': \"3\",\n        },\n{\n            'v': 190.4,\n            'f': \"190.4\",\n        },\n{\n            'v': 4.5,\n            'f': \"4.5\",\n        },\n\"N 1.3 E\"],\n [{\n            'v': 4,\n            'f': \"4\",\n        },\n{\n            'v': 210.9,\n            'f': \"210.9\",\n        },\n{\n            'v': 5.9,\n            'f': \"5.9\",\n        },\n\"N 1.6 E\"],\n [{\n            'v': 5,\n            'f': \"5\",\n        },\n{\n            'v': 216.1,\n            'f': \"216.1\",\n        },\n{\n            'v': 6.8,\n            'f': \"6.8\",\n        },\n\"N 2.63 E\"],\n [{\n            'v': 6,\n            'f': \"6\",\n        },\n{\n            'v': 236.4,\n            'f': \"236.4\",\n        },\n{\n            'v': 7.0,\n            'f': \"7.0\",\n        },\n\"N 7.46 E\"],\n [{\n            'v': 7,\n            'f': \"7\",\n        },\n{\n            'v': 264.3,\n            'f': \"264.3\",\n        },\n{\n            'v': 7.1,\n            'f': \"7.1\",\n        },\n\"N 5.71 E\"],\n [{\n            'v': 8,\n            'f': \"8\",\n        },\n{\n            'v': 282.2,\n            'f': \"282.2\",\n        },\n{\n            'v': 8.4,\n            'f': \"8.4\",\n        },\n\"N 9.31 E\"],\n [{\n            'v': 9,\n            'f': \"9\",\n        },\n{\n            'v': 316.0,\n            'f': \"316.0\",\n        },\n{\n            'v': 11.4,\n            'f': \"11.4\",\n        },\n\"N 8.62 E\"],\n [{\n            'v': 10,\n            'f': \"10\",\n        },\n{\n            'v': 332.2,\n            'f': \"332.2\",\n        },\n{\n            'v': 12.3,\n            'f': \"12.3\",\n        },\n\"N 10.16 E\"],\n [{\n            'v': 11,\n            'f': \"11\",\n        },\n{\n            'v': 341.0,\n            'f': \"341.0\",\n        },\n{\n            'v': 13.7,\n            'f': \"13.7\",\n        },\n\"N 9.9 E\"],\n [{\n            'v': 12,\n            'f': \"12\",\n        },\n{\n            'v': 353.4,\n            'f': \"353.4\",\n        },\n{\n            'v': 14.4,\n            'f': \"14.4\",\n        },\n\"N 12 E\"],\n [{\n            'v': 13,\n            'f': \"13\",\n        },\n{\n            'v': 374.7,\n            'f': \"374.7\",\n        },\n{\n            'v': 17.8,\n            'f': \"17.8\",\n        },\n\"N 12.65 E\"],\n [{\n            'v': 14,\n            'f': \"14\",\n        },\n{\n            'v': 393.4,\n            'f': \"393.4\",\n        },\n{\n            'v': 22.3,\n            'f': \"22.3\",\n        },\n\"N 20.12 E\"],\n [{\n            'v': 15,\n            'f': \"15\",\n        },\n{\n            'v': 432.2,\n            'f': \"432.2\",\n        },\n{\n            'v': 25.3,\n            'f': \"25.3\",\n        },\n\"N 22.77 E\"],\n [{\n            'v': 16,\n            'f': \"16\",\n        },\n{\n            'v': 446.7,\n            'f': \"446.7\",\n        },\n{\n            'v': 29.1,\n            'f': \"29.1\",\n        },\n\"N 25.14 E\"],\n [{\n            'v': 17,\n            'f': \"17\",\n        },\n{\n            'v': 476.5,\n            'f': \"476.5\",\n        },\n{\n            'v': 31.5,\n            'f': \"31.5\",\n        },\n\"N 24.14 E\"],\n [{\n            'v': 18,\n            'f': \"18\",\n        },\n{\n            'v': 503.8,\n            'f': \"503.8\",\n        },\n{\n            'v': 33.8,\n            'f': \"33.8\",\n        },\n\"N 24.91 E\"],\n [{\n            'v': 19,\n            'f': \"19\",\n        },\n{\n            'v': 548.4,\n            'f': \"548.4\",\n        },\n{\n            'v': 36.6,\n            'f': \"36.6\",\n        },\n\"N 24.8 E\"],\n [{\n            'v': 20,\n            'f': \"20\",\n        },\n{\n            'v': 594.0,\n            'f': \"594.0\",\n        },\n{\n            'v': 39.5,\n            'f': \"39.5\",\n        },\n\"N 24.14 E\"],\n [{\n            'v': 21,\n            'f': \"21\",\n        },\n{\n            'v': 623.2,\n            'f': \"623.2\",\n        },\n{\n            'v': 39.2,\n            'f': \"39.2\",\n        },\n\"N 24.74 E\"],\n [{\n            'v': 22,\n            'f': \"22\",\n        },\n{\n            'v': 671.4,\n            'f': \"671.4\",\n        },\n{\n            'v': 40.0,\n            'f': \"40.0\",\n        },\n\"N 25.01 E\"],\n [{\n            'v': 23,\n            'f': \"23\",\n        },\n{\n            'v': 691.3,\n            'f': \"691.3\",\n        },\n{\n            'v': 39.2,\n            'f': \"39.2\",\n        },\n\"N 24.89 E\"],\n [{\n            'v': 24,\n            'f': \"24\",\n        },\n{\n            'v': 714.7,\n            'f': \"714.7\",\n        },\n{\n            'v': 36.9,\n            'f': \"36.9\",\n        },\n\"N 24.85 E\"],\n [{\n            'v': 25,\n            'f': \"25\",\n        },\n{\n            'v': 741.6,\n            'f': \"741.6\",\n        },\n{\n            'v': 37.1,\n            'f': \"37.1\",\n        },\n\"N 30.71 E\"],\n [{\n            'v': 26,\n            'f': \"26\",\n        },\n{\n            'v': 744.7,\n            'f': \"744.7\",\n        },\n{\n            'v': 36.2,\n            'f': \"36.2\",\n        },\n\"N 34.4 E\"],\n [{\n            'v': 27,\n            'f': \"27\",\n        },\n{\n            'v': 773.3,\n            'f': \"773.3\",\n        },\n{\n            'v': 36.7,\n            'f': \"36.7\",\n        },\n\"N 35.4 E\"],\n [{\n            'v': 28,\n            'f': \"28\",\n        },\n{\n            'v': 788.4,\n            'f': \"788.4\",\n        },\n{\n            'v': 37.9,\n            'f': \"37.9\",\n        },\n\"N 36.7 E\"],\n [{\n            'v': 29,\n            'f': \"29\",\n        },\n{\n            'v': 809.9,\n            'f': \"809.9\",\n        },\n{\n            'v': 40.0,\n            'f': \"40.0\",\n        },\n\"N 37.91 E\"],\n [{\n            'v': 30,\n            'f': \"30\",\n        },\n{\n            'v': 831.9,\n            'f': \"831.9\",\n        },\n{\n            'v': 40.8,\n            'f': \"40.8\",\n        },\n\"N 37.84 E\"],\n [{\n            'v': 31,\n            'f': \"31\",\n        },\n{\n            'v': 888.1,\n            'f': \"888.1\",\n        },\n{\n            'v': 41.8,\n            'f': \"41.8\",\n        },\n\"N 39.77 E\"],\n [{\n            'v': 32,\n            'f': \"32\",\n        },\n{\n            'v': 911.4,\n            'f': \"911.4\",\n        },\n{\n            'v': 42.1,\n            'f': \"42.1\",\n        },\n\"N 40.08 E\"],\n [{\n            'v': 33,\n            'f': \"33\",\n        },\n{\n            'v': 944.0,\n            'f': \"944.0\",\n        },\n{\n            'v': 39.8,\n            'f': \"39.8\",\n        },\n\"N 40.22 E\"],\n [{\n            'v': 34,\n            'f': \"34\",\n        },\n{\n            'v': 990.6,\n            'f': \"990.6\",\n        },\n{\n            'v': 35.6,\n            'f': \"35.6\",\n        },\n\"N 40.07 E\"],\n [{\n            'v': 35,\n            'f': \"35\",\n        },\n{\n            'v': 1021.2,\n            'f': \"1021.2\",\n        },\n{\n            'v': 36.5,\n            'f': \"36.5\",\n        },\n\"N 41.93 E\"],\n [{\n            'v': 36,\n            'f': \"36\",\n        },\n{\n            'v': 1058.3,\n            'f': \"1058.3\",\n        },\n{\n            'v': 38.0,\n            'f': \"38.0\",\n        },\n\"N 42.63 E\"],\n [{\n            'v': 37,\n            'f': \"37\",\n        },\n{\n            'v': 1109.1,\n            'f': \"1109.1\",\n        },\n{\n            'v': 39.2,\n            'f': \"39.2\",\n        },\n\"N 43.22 E\"],\n [{\n            'v': 38,\n            'f': \"38\",\n        },\n{\n            'v': 1159.9,\n            'f': \"1159.9\",\n        },\n{\n            'v': 39.8,\n            'f': \"39.8\",\n        },\n\"N 44.38 E\"],\n [{\n            'v': 39,\n            'f': \"39\",\n        },\n{\n            'v': 1189.0,\n            'f': \"1189.0\",\n        },\n{\n            'v': 38.9,\n            'f': \"38.9\",\n        },\n\"N 44.72 E\"],\n [{\n            'v': 40,\n            'f': \"40\",\n        },\n{\n            'v': 1208.6,\n            'f': \"1208.6\",\n        },\n{\n            'v': 39.0,\n            'f': \"39.0\",\n        },\n\"N 44.71 E\"],\n [{\n            'v': 41,\n            'f': \"41\",\n        },\n{\n            'v': 1213.1,\n            'f': \"1213.1\",\n        },\n{\n            'v': 40.3,\n            'f': \"40.3\",\n        },\n\"N 45.13 E\"],\n [{\n            'v': 42,\n            'f': \"42\",\n        },\n{\n            'v': 1246.6,\n            'f': \"1246.6\",\n        },\n{\n            'v': 41.1,\n            'f': \"41.1\",\n        },\n\"N 45.78 E\"],\n [{\n            'v': 43,\n            'f': \"43\",\n        },\n{\n            'v': 1268.9,\n            'f': \"1268.9\",\n        },\n{\n            'v': 42.4,\n            'f': \"42.4\",\n        },\n\"N 47.76 E\"],\n [{\n            'v': 44,\n            'f': \"44\",\n        },\n{\n            'v': 1294.3,\n            'f': \"1294.3\",\n        },\n{\n            'v': 43.2,\n            'f': \"43.2\",\n        },\n\"N 48.82 E\"],\n [{\n            'v': 45,\n            'f': \"45\",\n        },\n{\n            'v': 1310.5,\n            'f': \"1310.5\",\n        },\n{\n            'v': 42.0,\n            'f': \"42.0\",\n        },\n\"N 50.87 E\"],\n [{\n            'v': 46,\n            'f': \"46\",\n        },\n{\n            'v': 1315.1,\n            'f': \"1315.1\",\n        },\n{\n            'v': 42.8,\n            'f': \"42.8\",\n        },\n\"N 50.35 E\"],\n [{\n            'v': 47,\n            'f': \"47\",\n        },\n{\n            'v': 1341.3,\n            'f': \"1341.3\",\n        },\n{\n            'v': 41.6,\n            'f': \"41.6\",\n        },\n\"N 55.26 E\"],\n [{\n            'v': 48,\n            'f': \"48\",\n        },\n{\n            'v': 1353.8,\n            'f': \"1353.8\",\n        },\n{\n            'v': 41.0,\n            'f': \"41.0\",\n        },\n\"N 55.77 E\"],\n [{\n            'v': 49,\n            'f': \"49\",\n        },\n{\n            'v': 1362.6,\n            'f': \"1362.6\",\n        },\n{\n            'v': 41.6,\n            'f': \"41.6\",\n        },\n\"N 55.26 E\"],\n [{\n            'v': 50,\n            'f': \"50\",\n        },\n{\n            'v': 1370.5,\n            'f': \"1370.5\",\n        },\n{\n            'v': 41.1,\n            'f': \"41.1\",\n        },\n\"N 55.99 E\"],\n [{\n            'v': 51,\n            'f': \"51\",\n        },\n{\n            'v': 1380.1,\n            'f': \"1380.1\",\n        },\n{\n            'v': 40.4,\n            'f': \"40.4\",\n        },\n\"N 60.97 E\"],\n [{\n            'v': 52,\n            'f': \"52\",\n        },\n{\n            'v': 1384.4,\n            'f': \"1384.4\",\n        },\n{\n            'v': 40.4,\n            'f': \"40.4\",\n        },\n\"N 60.39 E\"],\n [{\n            'v': 53,\n            'f': \"53\",\n        },\n{\n            'v': 1400.5,\n            'f': \"1400.5\",\n        },\n{\n            'v': 40.9,\n            'f': \"40.9\",\n        },\n\"N 60.9 E\"],\n [{\n            'v': 54,\n            'f': \"54\",\n        },\n{\n            'v': 1396.2,\n            'f': \"1396.2\",\n        },\n{\n            'v': 40.2,\n            'f': \"40.2\",\n        },\n\"N 60.3 E\"],\n [{\n            'v': 55,\n            'f': \"55\",\n        },\n{\n            'v': 1406.4,\n            'f': \"1406.4\",\n        },\n{\n            'v': 40.8,\n            'f': \"40.8\",\n        },\n\"N 60.13 E\"],\n [{\n            'v': 56,\n            'f': \"56\",\n        },\n{\n            'v': 1418.5,\n            'f': \"1418.5\",\n        },\n{\n            'v': 40.3,\n            'f': \"40.3\",\n        },\n\"N 60.2 E\"],\n [{\n            'v': 57,\n            'f': \"57\",\n        },\n{\n            'v': 1420.6,\n            'f': \"1420.6\",\n        },\n{\n            'v': 40.5,\n            'f': \"40.5\",\n        },\n\"N 60.26 E\"],\n [{\n            'v': 58,\n            'f': \"58\",\n        },\n{\n            'v': 1429.7,\n            'f': \"1429.7\",\n        },\n{\n            'v': 40.6,\n            'f': \"40.6\",\n        },\n\"N 60.16 E\"],\n [{\n            'v': 59,\n            'f': \"59\",\n        },\n{\n            'v': 1435.2,\n            'f': \"1435.2\",\n        },\n{\n            'v': 40.0,\n            'f': \"40.0\",\n        },\n\"N 60.61 E\"],\n [{\n            'v': 60,\n            'f': \"60\",\n        },\n{\n            'v': 1442.6,\n            'f': \"1442.6\",\n        },\n{\n            'v': 40.1,\n            'f': \"40.1\",\n        },\n\"N 63.31 E\"],\n [{\n            'v': 61,\n            'f': \"61\",\n        },\n{\n            'v': 1447.1,\n            'f': \"1447.1\",\n        },\n{\n            'v': 40.2,\n            'f': \"40.2\",\n        },\n\"N 63.06 E\"],\n [{\n            'v': 62,\n            'f': \"62\",\n        },\n{\n            'v': 1450.6,\n            'f': \"1450.6\",\n        },\n{\n            'v': 40.3,\n            'f': \"40.3\",\n        },\n\"N 63.37 E\"],\n [{\n            'v': 63,\n            'f': \"63\",\n        },\n{\n            'v': 1463.5,\n            'f': \"1463.5\",\n        },\n{\n            'v': 40.2,\n            'f': \"40.2\",\n        },\n\"N 63.54 E\"],\n [{\n            'v': 64,\n            'f': \"64\",\n        },\n{\n            'v': 1481.4,\n            'f': \"1481.4\",\n        },\n{\n            'v': 40.8,\n            'f': \"40.8\",\n        },\n\"N 63.12 E\"],\n [{\n            'v': 65,\n            'f': \"65\",\n        },\n{\n            'v': 1479.8,\n            'f': \"1479.8\",\n        },\n{\n            'v': 40.4,\n            'f': \"40.4\",\n        },\n\"N 63.46 E\"],\n [{\n            'v': 66,\n            'f': \"66\",\n        },\n{\n            'v': 1483.8,\n            'f': \"1483.8\",\n        },\n{\n            'v': 40.4,\n            'f': \"40.4\",\n        },\n\"N 63.45 E\"],\n [{\n            'v': 67,\n            'f': \"67\",\n        },\n{\n            'v': 1493.0,\n            'f': \"1493.0\",\n        },\n{\n            'v': 41.1,\n            'f': \"41.1\",\n        },\n\"N 63.6 E\"],\n [{\n            'v': 68,\n            'f': \"68\",\n        },\n{\n            'v': 1532.5,\n            'f': \"1532.5\",\n        },\n{\n            'v': 41.5,\n            'f': \"41.5\",\n        },\n\"N 64.38 E\"],\n [{\n            'v': 69,\n            'f': \"69\",\n        },\n{\n            'v': 1540.5,\n            'f': \"1540.5\",\n        },\n{\n            'v': 41.0,\n            'f': \"41.0\",\n        },\n\"N 64.81 E\"]],\n        columns: [[\"number\", \"index\"], [\"number\", \"MD(M)\"], [\"number\", \"Inclination\"], [\"string\", \"Azimuth\"]],\n        columnOptions: [{\"width\": \"1px\", \"className\": \"index_column\"}],\n        rowsPerPage: 25,\n        helpUrl: \"https://colab.research.google.com/notebooks/data_table.ipynb\",\n        suppressOutputScrolling: true,\n        minimumWidth: undefined,\n      });\n    ",
            "text/html": [
              "<div>\n",
              "<style scoped>\n",
              "    .dataframe tbody tr th:only-of-type {\n",
              "        vertical-align: middle;\n",
              "    }\n",
              "\n",
              "    .dataframe tbody tr th {\n",
              "        vertical-align: top;\n",
              "    }\n",
              "\n",
              "    .dataframe thead th {\n",
              "        text-align: right;\n",
              "    }\n",
              "</style>\n",
              "<table border=\"1\" class=\"dataframe\">\n",
              "  <thead>\n",
              "    <tr style=\"text-align: right;\">\n",
              "      <th></th>\n",
              "      <th>MD(M)</th>\n",
              "      <th>Inclination</th>\n",
              "      <th>Azimuth</th>\n",
              "    </tr>\n",
              "  </thead>\n",
              "  <tbody>\n",
              "    <tr>\n",
              "      <th>0</th>\n",
              "      <td>0.0</td>\n",
              "      <td>0.0</td>\n",
              "      <td>N 0 E</td>\n",
              "    </tr>\n",
              "    <tr>\n",
              "      <th>1</th>\n",
              "      <td>168.9</td>\n",
              "      <td>0.0</td>\n",
              "      <td>N 0 E</td>\n",
              "    </tr>\n",
              "    <tr>\n",
              "      <th>2</th>\n",
              "      <td>178.5</td>\n",
              "      <td>2.5</td>\n",
              "      <td>N 1 E</td>\n",
              "    </tr>\n",
              "    <tr>\n",
              "      <th>3</th>\n",
              "      <td>190.4</td>\n",
              "      <td>4.5</td>\n",
              "      <td>N 1.3 E</td>\n",
              "    </tr>\n",
              "    <tr>\n",
              "      <th>4</th>\n",
              "      <td>210.9</td>\n",
              "      <td>5.9</td>\n",
              "      <td>N 1.6 E</td>\n",
              "    </tr>\n",
              "    <tr>\n",
              "      <th>...</th>\n",
              "      <td>...</td>\n",
              "      <td>...</td>\n",
              "      <td>...</td>\n",
              "    </tr>\n",
              "    <tr>\n",
              "      <th>65</th>\n",
              "      <td>1479.8</td>\n",
              "      <td>40.4</td>\n",
              "      <td>N 63.46 E</td>\n",
              "    </tr>\n",
              "    <tr>\n",
              "      <th>66</th>\n",
              "      <td>1483.8</td>\n",
              "      <td>40.4</td>\n",
              "      <td>N 63.45 E</td>\n",
              "    </tr>\n",
              "    <tr>\n",
              "      <th>67</th>\n",
              "      <td>1493.0</td>\n",
              "      <td>41.1</td>\n",
              "      <td>N 63.6 E</td>\n",
              "    </tr>\n",
              "    <tr>\n",
              "      <th>68</th>\n",
              "      <td>1532.5</td>\n",
              "      <td>41.5</td>\n",
              "      <td>N 64.38 E</td>\n",
              "    </tr>\n",
              "    <tr>\n",
              "      <th>69</th>\n",
              "      <td>1540.5</td>\n",
              "      <td>41.0</td>\n",
              "      <td>N 64.81 E</td>\n",
              "    </tr>\n",
              "  </tbody>\n",
              "</table>\n",
              "<p>70 rows × 3 columns</p>\n",
              "</div>"
            ],
            "text/plain": [
              "     MD(M)  Inclination    Azimuth\n",
              "0      0.0          0.0      N 0 E\n",
              "1    168.9          0.0      N 0 E\n",
              "2    178.5          2.5      N 1 E\n",
              "3    190.4          4.5    N 1.3 E\n",
              "4    210.9          5.9    N 1.6 E\n",
              "..     ...          ...        ...\n",
              "65  1479.8         40.4  N 63.46 E\n",
              "66  1483.8         40.4  N 63.45 E\n",
              "67  1493.0         41.1   N 63.6 E\n",
              "68  1532.5         41.5  N 64.38 E\n",
              "69  1540.5         41.0  N 64.81 E\n",
              "\n",
              "[70 rows x 3 columns]"
            ]
          },
          "metadata": {
            "tags": []
          },
          "execution_count": 43
        }
      ]
    },
    {
      "cell_type": "markdown",
      "metadata": {
        "id": "FeY4u8Ib3PID",
        "colab_type": "text"
      },
      "source": [
        "---\n",
        "Nice. \n",
        "\n",
        "But those azimuth it's still in a `string` and bearing format, glad all of them are in **N ... E** so let's just get the number using regex and convert it into `float` (just like the LAS tutorial)."
      ]
    },
    {
      "cell_type": "code",
      "metadata": {
        "id": "zl7dzbi2B5vK",
        "colab_type": "code",
        "colab": {}
      },
      "source": [
        "df_raw['Azimuth']=df_raw['Azimuth'].str.extract('(\\d*\\.\\d+|\\d+)')"
      ],
      "execution_count": 44,
      "outputs": []
    },
    {
      "cell_type": "code",
      "metadata": {
        "id": "LtcWXkczDdAb",
        "colab_type": "code",
        "colab": {
          "base_uri": "https://localhost:8080/",
          "height": 92
        },
        "outputId": "52d3e20b-addb-4f93-c3c4-84077072ed1b"
      },
      "source": [
        "df_raw=df_raw.astype('float')\n",
        "df_raw.dtypes"
      ],
      "execution_count": 45,
      "outputs": [
        {
          "output_type": "execute_result",
          "data": {
            "text/plain": [
              "MD(M)          float64\n",
              "Inclination    float64\n",
              "Azimuth        float64\n",
              "dtype: object"
            ]
          },
          "metadata": {
            "tags": []
          },
          "execution_count": 45
        }
      ]
    },
    {
      "cell_type": "markdown",
      "metadata": {
        "id": "_IUJqAFT3vuO",
        "colab_type": "text"
      },
      "source": [
        "Let's see the result."
      ]
    },
    {
      "cell_type": "code",
      "metadata": {
        "id": "TRGmYnJriTC-",
        "colab_type": "code",
        "colab": {
          "base_uri": "https://localhost:8080/",
          "height": 635
        },
        "outputId": "31e1161e-ec5b-4d83-820c-b90cb0fde5e3"
      },
      "source": [
        "df_raw"
      ],
      "execution_count": 46,
      "outputs": [
        {
          "output_type": "execute_result",
          "data": {
            "application/vnd.google.colaboratory.module+javascript": "\n      import \"https://ssl.gstatic.com/colaboratory/data_table/a6224c040fa35dcf/data_table.js\";\n\n      window.createDataTable({\n        data: [[{\n            'v': 0,\n            'f': \"0\",\n        },\n{\n            'v': 0,\n            'f': \"0\",\n        },\n{\n            'v': 0,\n            'f': \"0\",\n        },\n{\n            'v': 0,\n            'f': \"0\",\n        }],\n [{\n            'v': 1,\n            'f': \"1\",\n        },\n{\n            'v': 168.9,\n            'f': \"168.9\",\n        },\n{\n            'v': 0,\n            'f': \"0\",\n        },\n{\n            'v': 0,\n            'f': \"0\",\n        }],\n [{\n            'v': 2,\n            'f': \"2\",\n        },\n{\n            'v': 178.5,\n            'f': \"178.5\",\n        },\n{\n            'v': 2.5,\n            'f': \"2.5\",\n        },\n{\n            'v': 1,\n            'f': \"1\",\n        }],\n [{\n            'v': 3,\n            'f': \"3\",\n        },\n{\n            'v': 190.4,\n            'f': \"190.4\",\n        },\n{\n            'v': 4.5,\n            'f': \"4.5\",\n        },\n{\n            'v': 1.3,\n            'f': \"1.3\",\n        }],\n [{\n            'v': 4,\n            'f': \"4\",\n        },\n{\n            'v': 210.9,\n            'f': \"210.9\",\n        },\n{\n            'v': 5.9,\n            'f': \"5.9\",\n        },\n{\n            'v': 1.6,\n            'f': \"1.6\",\n        }],\n [{\n            'v': 5,\n            'f': \"5\",\n        },\n{\n            'v': 216.1,\n            'f': \"216.1\",\n        },\n{\n            'v': 6.8,\n            'f': \"6.8\",\n        },\n{\n            'v': 2.63,\n            'f': \"2.63\",\n        }],\n [{\n            'v': 6,\n            'f': \"6\",\n        },\n{\n            'v': 236.4,\n            'f': \"236.4\",\n        },\n{\n            'v': 7,\n            'f': \"7\",\n        },\n{\n            'v': 7.46,\n            'f': \"7.46\",\n        }],\n [{\n            'v': 7,\n            'f': \"7\",\n        },\n{\n            'v': 264.3,\n            'f': \"264.3\",\n        },\n{\n            'v': 7.1,\n            'f': \"7.1\",\n        },\n{\n            'v': 5.71,\n            'f': \"5.71\",\n        }],\n [{\n            'v': 8,\n            'f': \"8\",\n        },\n{\n            'v': 282.2,\n            'f': \"282.2\",\n        },\n{\n            'v': 8.4,\n            'f': \"8.4\",\n        },\n{\n            'v': 9.31,\n            'f': \"9.31\",\n        }],\n [{\n            'v': 9,\n            'f': \"9\",\n        },\n{\n            'v': 316,\n            'f': \"316\",\n        },\n{\n            'v': 11.4,\n            'f': \"11.4\",\n        },\n{\n            'v': 8.62,\n            'f': \"8.62\",\n        }],\n [{\n            'v': 10,\n            'f': \"10\",\n        },\n{\n            'v': 332.2,\n            'f': \"332.2\",\n        },\n{\n            'v': 12.3,\n            'f': \"12.3\",\n        },\n{\n            'v': 10.16,\n            'f': \"10.16\",\n        }],\n [{\n            'v': 11,\n            'f': \"11\",\n        },\n{\n            'v': 341,\n            'f': \"341\",\n        },\n{\n            'v': 13.7,\n            'f': \"13.7\",\n        },\n{\n            'v': 9.9,\n            'f': \"9.9\",\n        }],\n [{\n            'v': 12,\n            'f': \"12\",\n        },\n{\n            'v': 353.4,\n            'f': \"353.4\",\n        },\n{\n            'v': 14.4,\n            'f': \"14.4\",\n        },\n{\n            'v': 12,\n            'f': \"12\",\n        }],\n [{\n            'v': 13,\n            'f': \"13\",\n        },\n{\n            'v': 374.7,\n            'f': \"374.7\",\n        },\n{\n            'v': 17.8,\n            'f': \"17.8\",\n        },\n{\n            'v': 12.65,\n            'f': \"12.65\",\n        }],\n [{\n            'v': 14,\n            'f': \"14\",\n        },\n{\n            'v': 393.4,\n            'f': \"393.4\",\n        },\n{\n            'v': 22.3,\n            'f': \"22.3\",\n        },\n{\n            'v': 20.12,\n            'f': \"20.12\",\n        }],\n [{\n            'v': 15,\n            'f': \"15\",\n        },\n{\n            'v': 432.2,\n            'f': \"432.2\",\n        },\n{\n            'v': 25.3,\n            'f': \"25.3\",\n        },\n{\n            'v': 22.77,\n            'f': \"22.77\",\n        }],\n [{\n            'v': 16,\n            'f': \"16\",\n        },\n{\n            'v': 446.7,\n            'f': \"446.7\",\n        },\n{\n            'v': 29.1,\n            'f': \"29.1\",\n        },\n{\n            'v': 25.14,\n            'f': \"25.14\",\n        }],\n [{\n            'v': 17,\n            'f': \"17\",\n        },\n{\n            'v': 476.5,\n            'f': \"476.5\",\n        },\n{\n            'v': 31.5,\n            'f': \"31.5\",\n        },\n{\n            'v': 24.14,\n            'f': \"24.14\",\n        }],\n [{\n            'v': 18,\n            'f': \"18\",\n        },\n{\n            'v': 503.8,\n            'f': \"503.8\",\n        },\n{\n            'v': 33.8,\n            'f': \"33.8\",\n        },\n{\n            'v': 24.91,\n            'f': \"24.91\",\n        }],\n [{\n            'v': 19,\n            'f': \"19\",\n        },\n{\n            'v': 548.4,\n            'f': \"548.4\",\n        },\n{\n            'v': 36.6,\n            'f': \"36.6\",\n        },\n{\n            'v': 24.8,\n            'f': \"24.8\",\n        }],\n [{\n            'v': 20,\n            'f': \"20\",\n        },\n{\n            'v': 594,\n            'f': \"594\",\n        },\n{\n            'v': 39.5,\n            'f': \"39.5\",\n        },\n{\n            'v': 24.14,\n            'f': \"24.14\",\n        }],\n [{\n            'v': 21,\n            'f': \"21\",\n        },\n{\n            'v': 623.2,\n            'f': \"623.2\",\n        },\n{\n            'v': 39.2,\n            'f': \"39.2\",\n        },\n{\n            'v': 24.74,\n            'f': \"24.74\",\n        }],\n [{\n            'v': 22,\n            'f': \"22\",\n        },\n{\n            'v': 671.4,\n            'f': \"671.4\",\n        },\n{\n            'v': 40,\n            'f': \"40\",\n        },\n{\n            'v': 25.01,\n            'f': \"25.01\",\n        }],\n [{\n            'v': 23,\n            'f': \"23\",\n        },\n{\n            'v': 691.3,\n            'f': \"691.3\",\n        },\n{\n            'v': 39.2,\n            'f': \"39.2\",\n        },\n{\n            'v': 24.89,\n            'f': \"24.89\",\n        }],\n [{\n            'v': 24,\n            'f': \"24\",\n        },\n{\n            'v': 714.7,\n            'f': \"714.7\",\n        },\n{\n            'v': 36.9,\n            'f': \"36.9\",\n        },\n{\n            'v': 24.85,\n            'f': \"24.85\",\n        }],\n [{\n            'v': 25,\n            'f': \"25\",\n        },\n{\n            'v': 741.6,\n            'f': \"741.6\",\n        },\n{\n            'v': 37.1,\n            'f': \"37.1\",\n        },\n{\n            'v': 30.71,\n            'f': \"30.71\",\n        }],\n [{\n            'v': 26,\n            'f': \"26\",\n        },\n{\n            'v': 744.7,\n            'f': \"744.7\",\n        },\n{\n            'v': 36.2,\n            'f': \"36.2\",\n        },\n{\n            'v': 34.4,\n            'f': \"34.4\",\n        }],\n [{\n            'v': 27,\n            'f': \"27\",\n        },\n{\n            'v': 773.3,\n            'f': \"773.3\",\n        },\n{\n            'v': 36.7,\n            'f': \"36.7\",\n        },\n{\n            'v': 35.4,\n            'f': \"35.4\",\n        }],\n [{\n            'v': 28,\n            'f': \"28\",\n        },\n{\n            'v': 788.4,\n            'f': \"788.4\",\n        },\n{\n            'v': 37.9,\n            'f': \"37.9\",\n        },\n{\n            'v': 36.7,\n            'f': \"36.7\",\n        }],\n [{\n            'v': 29,\n            'f': \"29\",\n        },\n{\n            'v': 809.9,\n            'f': \"809.9\",\n        },\n{\n            'v': 40,\n            'f': \"40\",\n        },\n{\n            'v': 37.91,\n            'f': \"37.91\",\n        }],\n [{\n            'v': 30,\n            'f': \"30\",\n        },\n{\n            'v': 831.9,\n            'f': \"831.9\",\n        },\n{\n            'v': 40.8,\n            'f': \"40.8\",\n        },\n{\n            'v': 37.84,\n            'f': \"37.84\",\n        }],\n [{\n            'v': 31,\n            'f': \"31\",\n        },\n{\n            'v': 888.1,\n            'f': \"888.1\",\n        },\n{\n            'v': 41.8,\n            'f': \"41.8\",\n        },\n{\n            'v': 39.77,\n            'f': \"39.77\",\n        }],\n [{\n            'v': 32,\n            'f': \"32\",\n        },\n{\n            'v': 911.4,\n            'f': \"911.4\",\n        },\n{\n            'v': 42.1,\n            'f': \"42.1\",\n        },\n{\n            'v': 40.08,\n            'f': \"40.08\",\n        }],\n [{\n            'v': 33,\n            'f': \"33\",\n        },\n{\n            'v': 944,\n            'f': \"944\",\n        },\n{\n            'v': 39.8,\n            'f': \"39.8\",\n        },\n{\n            'v': 40.22,\n            'f': \"40.22\",\n        }],\n [{\n            'v': 34,\n            'f': \"34\",\n        },\n{\n            'v': 990.6,\n            'f': \"990.6\",\n        },\n{\n            'v': 35.6,\n            'f': \"35.6\",\n        },\n{\n            'v': 40.07,\n            'f': \"40.07\",\n        }],\n [{\n            'v': 35,\n            'f': \"35\",\n        },\n{\n            'v': 1021.2,\n            'f': \"1021.2\",\n        },\n{\n            'v': 36.5,\n            'f': \"36.5\",\n        },\n{\n            'v': 41.93,\n            'f': \"41.93\",\n        }],\n [{\n            'v': 36,\n            'f': \"36\",\n        },\n{\n            'v': 1058.3,\n            'f': \"1058.3\",\n        },\n{\n            'v': 38,\n            'f': \"38\",\n        },\n{\n            'v': 42.63,\n            'f': \"42.63\",\n        }],\n [{\n            'v': 37,\n            'f': \"37\",\n        },\n{\n            'v': 1109.1,\n            'f': \"1109.1\",\n        },\n{\n            'v': 39.2,\n            'f': \"39.2\",\n        },\n{\n            'v': 43.22,\n            'f': \"43.22\",\n        }],\n [{\n            'v': 38,\n            'f': \"38\",\n        },\n{\n            'v': 1159.9,\n            'f': \"1159.9\",\n        },\n{\n            'v': 39.8,\n            'f': \"39.8\",\n        },\n{\n            'v': 44.38,\n            'f': \"44.38\",\n        }],\n [{\n            'v': 39,\n            'f': \"39\",\n        },\n{\n            'v': 1189,\n            'f': \"1189\",\n        },\n{\n            'v': 38.9,\n            'f': \"38.9\",\n        },\n{\n            'v': 44.72,\n            'f': \"44.72\",\n        }],\n [{\n            'v': 40,\n            'f': \"40\",\n        },\n{\n            'v': 1208.6,\n            'f': \"1208.6\",\n        },\n{\n            'v': 39,\n            'f': \"39\",\n        },\n{\n            'v': 44.71,\n            'f': \"44.71\",\n        }],\n [{\n            'v': 41,\n            'f': \"41\",\n        },\n{\n            'v': 1213.1,\n            'f': \"1213.1\",\n        },\n{\n            'v': 40.3,\n            'f': \"40.3\",\n        },\n{\n            'v': 45.13,\n            'f': \"45.13\",\n        }],\n [{\n            'v': 42,\n            'f': \"42\",\n        },\n{\n            'v': 1246.6,\n            'f': \"1246.6\",\n        },\n{\n            'v': 41.1,\n            'f': \"41.1\",\n        },\n{\n            'v': 45.78,\n            'f': \"45.78\",\n        }],\n [{\n            'v': 43,\n            'f': \"43\",\n        },\n{\n            'v': 1268.9,\n            'f': \"1268.9\",\n        },\n{\n            'v': 42.4,\n            'f': \"42.4\",\n        },\n{\n            'v': 47.76,\n            'f': \"47.76\",\n        }],\n [{\n            'v': 44,\n            'f': \"44\",\n        },\n{\n            'v': 1294.3,\n            'f': \"1294.3\",\n        },\n{\n            'v': 43.2,\n            'f': \"43.2\",\n        },\n{\n            'v': 48.82,\n            'f': \"48.82\",\n        }],\n [{\n            'v': 45,\n            'f': \"45\",\n        },\n{\n            'v': 1310.5,\n            'f': \"1310.5\",\n        },\n{\n            'v': 42,\n            'f': \"42\",\n        },\n{\n            'v': 50.87,\n            'f': \"50.87\",\n        }],\n [{\n            'v': 46,\n            'f': \"46\",\n        },\n{\n            'v': 1315.1,\n            'f': \"1315.1\",\n        },\n{\n            'v': 42.8,\n            'f': \"42.8\",\n        },\n{\n            'v': 50.35,\n            'f': \"50.35\",\n        }],\n [{\n            'v': 47,\n            'f': \"47\",\n        },\n{\n            'v': 1341.3,\n            'f': \"1341.3\",\n        },\n{\n            'v': 41.6,\n            'f': \"41.6\",\n        },\n{\n            'v': 55.26,\n            'f': \"55.26\",\n        }],\n [{\n            'v': 48,\n            'f': \"48\",\n        },\n{\n            'v': 1353.8,\n            'f': \"1353.8\",\n        },\n{\n            'v': 41,\n            'f': \"41\",\n        },\n{\n            'v': 55.77,\n            'f': \"55.77\",\n        }],\n [{\n            'v': 49,\n            'f': \"49\",\n        },\n{\n            'v': 1362.6,\n            'f': \"1362.6\",\n        },\n{\n            'v': 41.6,\n            'f': \"41.6\",\n        },\n{\n            'v': 55.26,\n            'f': \"55.26\",\n        }],\n [{\n            'v': 50,\n            'f': \"50\",\n        },\n{\n            'v': 1370.5,\n            'f': \"1370.5\",\n        },\n{\n            'v': 41.1,\n            'f': \"41.1\",\n        },\n{\n            'v': 55.99,\n            'f': \"55.99\",\n        }],\n [{\n            'v': 51,\n            'f': \"51\",\n        },\n{\n            'v': 1380.1,\n            'f': \"1380.1\",\n        },\n{\n            'v': 40.4,\n            'f': \"40.4\",\n        },\n{\n            'v': 60.97,\n            'f': \"60.97\",\n        }],\n [{\n            'v': 52,\n            'f': \"52\",\n        },\n{\n            'v': 1384.4,\n            'f': \"1384.4\",\n        },\n{\n            'v': 40.4,\n            'f': \"40.4\",\n        },\n{\n            'v': 60.39,\n            'f': \"60.39\",\n        }],\n [{\n            'v': 53,\n            'f': \"53\",\n        },\n{\n            'v': 1400.5,\n            'f': \"1400.5\",\n        },\n{\n            'v': 40.9,\n            'f': \"40.9\",\n        },\n{\n            'v': 60.9,\n            'f': \"60.9\",\n        }],\n [{\n            'v': 54,\n            'f': \"54\",\n        },\n{\n            'v': 1396.2,\n            'f': \"1396.2\",\n        },\n{\n            'v': 40.2,\n            'f': \"40.2\",\n        },\n{\n            'v': 60.3,\n            'f': \"60.3\",\n        }],\n [{\n            'v': 55,\n            'f': \"55\",\n        },\n{\n            'v': 1406.4,\n            'f': \"1406.4\",\n        },\n{\n            'v': 40.8,\n            'f': \"40.8\",\n        },\n{\n            'v': 60.13,\n            'f': \"60.13\",\n        }],\n [{\n            'v': 56,\n            'f': \"56\",\n        },\n{\n            'v': 1418.5,\n            'f': \"1418.5\",\n        },\n{\n            'v': 40.3,\n            'f': \"40.3\",\n        },\n{\n            'v': 60.2,\n            'f': \"60.2\",\n        }],\n [{\n            'v': 57,\n            'f': \"57\",\n        },\n{\n            'v': 1420.6,\n            'f': \"1420.6\",\n        },\n{\n            'v': 40.5,\n            'f': \"40.5\",\n        },\n{\n            'v': 60.26,\n            'f': \"60.26\",\n        }],\n [{\n            'v': 58,\n            'f': \"58\",\n        },\n{\n            'v': 1429.7,\n            'f': \"1429.7\",\n        },\n{\n            'v': 40.6,\n            'f': \"40.6\",\n        },\n{\n            'v': 60.16,\n            'f': \"60.16\",\n        }],\n [{\n            'v': 59,\n            'f': \"59\",\n        },\n{\n            'v': 1435.2,\n            'f': \"1435.2\",\n        },\n{\n            'v': 40,\n            'f': \"40\",\n        },\n{\n            'v': 60.61,\n            'f': \"60.61\",\n        }],\n [{\n            'v': 60,\n            'f': \"60\",\n        },\n{\n            'v': 1442.6,\n            'f': \"1442.6\",\n        },\n{\n            'v': 40.1,\n            'f': \"40.1\",\n        },\n{\n            'v': 63.31,\n            'f': \"63.31\",\n        }],\n [{\n            'v': 61,\n            'f': \"61\",\n        },\n{\n            'v': 1447.1,\n            'f': \"1447.1\",\n        },\n{\n            'v': 40.2,\n            'f': \"40.2\",\n        },\n{\n            'v': 63.06,\n            'f': \"63.06\",\n        }],\n [{\n            'v': 62,\n            'f': \"62\",\n        },\n{\n            'v': 1450.6,\n            'f': \"1450.6\",\n        },\n{\n            'v': 40.3,\n            'f': \"40.3\",\n        },\n{\n            'v': 63.37,\n            'f': \"63.37\",\n        }],\n [{\n            'v': 63,\n            'f': \"63\",\n        },\n{\n            'v': 1463.5,\n            'f': \"1463.5\",\n        },\n{\n            'v': 40.2,\n            'f': \"40.2\",\n        },\n{\n            'v': 63.54,\n            'f': \"63.54\",\n        }],\n [{\n            'v': 64,\n            'f': \"64\",\n        },\n{\n            'v': 1481.4,\n            'f': \"1481.4\",\n        },\n{\n            'v': 40.8,\n            'f': \"40.8\",\n        },\n{\n            'v': 63.12,\n            'f': \"63.12\",\n        }],\n [{\n            'v': 65,\n            'f': \"65\",\n        },\n{\n            'v': 1479.8,\n            'f': \"1479.8\",\n        },\n{\n            'v': 40.4,\n            'f': \"40.4\",\n        },\n{\n            'v': 63.46,\n            'f': \"63.46\",\n        }],\n [{\n            'v': 66,\n            'f': \"66\",\n        },\n{\n            'v': 1483.8,\n            'f': \"1483.8\",\n        },\n{\n            'v': 40.4,\n            'f': \"40.4\",\n        },\n{\n            'v': 63.45,\n            'f': \"63.45\",\n        }],\n [{\n            'v': 67,\n            'f': \"67\",\n        },\n{\n            'v': 1493,\n            'f': \"1493\",\n        },\n{\n            'v': 41.1,\n            'f': \"41.1\",\n        },\n{\n            'v': 63.6,\n            'f': \"63.6\",\n        }],\n [{\n            'v': 68,\n            'f': \"68\",\n        },\n{\n            'v': 1532.5,\n            'f': \"1532.5\",\n        },\n{\n            'v': 41.5,\n            'f': \"41.5\",\n        },\n{\n            'v': 64.38,\n            'f': \"64.38\",\n        }],\n [{\n            'v': 69,\n            'f': \"69\",\n        },\n{\n            'v': 1540.5,\n            'f': \"1540.5\",\n        },\n{\n            'v': 41,\n            'f': \"41\",\n        },\n{\n            'v': 64.81,\n            'f': \"64.81\",\n        }]],\n        columns: [[\"number\", \"index\"], [\"number\", \"MD(M)\"], [\"number\", \"Inclination\"], [\"number\", \"Azimuth\"]],\n        columnOptions: [{\"width\": \"1px\", \"className\": \"index_column\"}],\n        rowsPerPage: 25,\n        helpUrl: \"https://colab.research.google.com/notebooks/data_table.ipynb\",\n        suppressOutputScrolling: true,\n        minimumWidth: undefined,\n      });\n    ",
            "text/html": [
              "<div>\n",
              "<style scoped>\n",
              "    .dataframe tbody tr th:only-of-type {\n",
              "        vertical-align: middle;\n",
              "    }\n",
              "\n",
              "    .dataframe tbody tr th {\n",
              "        vertical-align: top;\n",
              "    }\n",
              "\n",
              "    .dataframe thead th {\n",
              "        text-align: right;\n",
              "    }\n",
              "</style>\n",
              "<table border=\"1\" class=\"dataframe\">\n",
              "  <thead>\n",
              "    <tr style=\"text-align: right;\">\n",
              "      <th></th>\n",
              "      <th>MD(M)</th>\n",
              "      <th>Inclination</th>\n",
              "      <th>Azimuth</th>\n",
              "    </tr>\n",
              "  </thead>\n",
              "  <tbody>\n",
              "    <tr>\n",
              "      <th>0</th>\n",
              "      <td>0.0</td>\n",
              "      <td>0.0</td>\n",
              "      <td>0.00</td>\n",
              "    </tr>\n",
              "    <tr>\n",
              "      <th>1</th>\n",
              "      <td>168.9</td>\n",
              "      <td>0.0</td>\n",
              "      <td>0.00</td>\n",
              "    </tr>\n",
              "    <tr>\n",
              "      <th>2</th>\n",
              "      <td>178.5</td>\n",
              "      <td>2.5</td>\n",
              "      <td>1.00</td>\n",
              "    </tr>\n",
              "    <tr>\n",
              "      <th>3</th>\n",
              "      <td>190.4</td>\n",
              "      <td>4.5</td>\n",
              "      <td>1.30</td>\n",
              "    </tr>\n",
              "    <tr>\n",
              "      <th>4</th>\n",
              "      <td>210.9</td>\n",
              "      <td>5.9</td>\n",
              "      <td>1.60</td>\n",
              "    </tr>\n",
              "    <tr>\n",
              "      <th>...</th>\n",
              "      <td>...</td>\n",
              "      <td>...</td>\n",
              "      <td>...</td>\n",
              "    </tr>\n",
              "    <tr>\n",
              "      <th>65</th>\n",
              "      <td>1479.8</td>\n",
              "      <td>40.4</td>\n",
              "      <td>63.46</td>\n",
              "    </tr>\n",
              "    <tr>\n",
              "      <th>66</th>\n",
              "      <td>1483.8</td>\n",
              "      <td>40.4</td>\n",
              "      <td>63.45</td>\n",
              "    </tr>\n",
              "    <tr>\n",
              "      <th>67</th>\n",
              "      <td>1493.0</td>\n",
              "      <td>41.1</td>\n",
              "      <td>63.60</td>\n",
              "    </tr>\n",
              "    <tr>\n",
              "      <th>68</th>\n",
              "      <td>1532.5</td>\n",
              "      <td>41.5</td>\n",
              "      <td>64.38</td>\n",
              "    </tr>\n",
              "    <tr>\n",
              "      <th>69</th>\n",
              "      <td>1540.5</td>\n",
              "      <td>41.0</td>\n",
              "      <td>64.81</td>\n",
              "    </tr>\n",
              "  </tbody>\n",
              "</table>\n",
              "<p>70 rows × 3 columns</p>\n",
              "</div>"
            ],
            "text/plain": [
              "     MD(M)  Inclination  Azimuth\n",
              "0      0.0          0.0     0.00\n",
              "1    168.9          0.0     0.00\n",
              "2    178.5          2.5     1.00\n",
              "3    190.4          4.5     1.30\n",
              "4    210.9          5.9     1.60\n",
              "..     ...          ...      ...\n",
              "65  1479.8         40.4    63.46\n",
              "66  1483.8         40.4    63.45\n",
              "67  1493.0         41.1    63.60\n",
              "68  1532.5         41.5    64.38\n",
              "69  1540.5         41.0    64.81\n",
              "\n",
              "[70 rows x 3 columns]"
            ]
          },
          "metadata": {
            "tags": []
          },
          "execution_count": 46
        }
      ]
    },
    {
      "cell_type": "markdown",
      "metadata": {
        "id": "kqIJ301b34gu",
        "colab_type": "text"
      },
      "source": [
        "# **Let's Calculate the TVD and stuff**"
      ]
    },
    {
      "cell_type": "markdown",
      "metadata": {
        "id": "Op5HiWLAPFrr",
        "colab_type": "text"
      },
      "source": [
        "---\n",
        "There are a lot of method to calculate the **TVD** (True Vertical Depth) and **subsurface coordinate** of well trajectory and this paper from [Farah Omar Farah](https://orkustofnun.is/gogn/unu-gtp-report/UNU-GTP-2013-27.pdf) really informative.\n",
        "\n",
        "Let's use minimum curvature method.\n",
        "\n",
        "Here's the equation :\n",
        "\n",
        "\n",
        " <img src=\"https://s7.gifyu.com/images/MINCUR.png\" width=\"500\"> \n",
        "\n",
        "Now let's make some room first for our calculation.\n",
        "\n",
        " ---\n",
        "\n"
      ]
    },
    {
      "cell_type": "code",
      "metadata": {
        "id": "jZ0mXGwrfPCj",
        "colab_type": "code",
        "colab": {}
      },
      "source": [
        "datalength = df_raw['Azimuth'].shape[0]"
      ],
      "execution_count": 47,
      "outputs": []
    },
    {
      "cell_type": "code",
      "metadata": {
        "id": "j7Cbdt9bZdhY",
        "colab_type": "code",
        "colab": {}
      },
      "source": [
        "df_com=pd.DataFrame(data=np.zeros([datalength,10],dtype=float),columns=['brad','rf','north','east','dtvd','dr','yoff','xoff','r','tvd'])"
      ],
      "execution_count": 48,
      "outputs": []
    },
    {
      "cell_type": "code",
      "metadata": {
        "id": "9M_DMXBJfir9",
        "colab_type": "code",
        "colab": {
          "base_uri": "https://localhost:8080/",
          "height": 635
        },
        "outputId": "c5412ff9-e552-44ba-c5ec-cb91a0358f33"
      },
      "source": [
        "df_com"
      ],
      "execution_count": 49,
      "outputs": [
        {
          "output_type": "execute_result",
          "data": {
            "application/vnd.google.colaboratory.module+javascript": "\n      import \"https://ssl.gstatic.com/colaboratory/data_table/a6224c040fa35dcf/data_table.js\";\n\n      window.createDataTable({\n        data: [[{\n            'v': 0,\n            'f': \"0\",\n        },\n{\n            'v': 0,\n            'f': \"0\",\n        },\n{\n            'v': 0,\n            'f': \"0\",\n        },\n{\n            'v': 0,\n            'f': \"0\",\n        },\n{\n            'v': 0,\n            'f': \"0\",\n        },\n{\n            'v': 0,\n            'f': \"0\",\n        },\n{\n            'v': 0,\n            'f': \"0\",\n        },\n{\n            'v': 0,\n            'f': \"0\",\n        },\n{\n            'v': 0,\n            'f': \"0\",\n        },\n{\n            'v': 0,\n            'f': \"0\",\n        },\n{\n            'v': 0,\n            'f': \"0\",\n        }],\n [{\n            'v': 1,\n            'f': \"1\",\n        },\n{\n            'v': 0,\n            'f': \"0\",\n        },\n{\n            'v': 0,\n            'f': \"0\",\n        },\n{\n            'v': 0,\n            'f': \"0\",\n        },\n{\n            'v': 0,\n            'f': \"0\",\n        },\n{\n            'v': 0,\n            'f': \"0\",\n        },\n{\n            'v': 0,\n            'f': \"0\",\n        },\n{\n            'v': 0,\n            'f': \"0\",\n        },\n{\n            'v': 0,\n            'f': \"0\",\n        },\n{\n            'v': 0,\n            'f': \"0\",\n        },\n{\n            'v': 0,\n            'f': \"0\",\n        }],\n [{\n            'v': 2,\n            'f': \"2\",\n        },\n{\n            'v': 0,\n            'f': \"0\",\n        },\n{\n            'v': 0,\n            'f': \"0\",\n        },\n{\n            'v': 0,\n            'f': \"0\",\n        },\n{\n            'v': 0,\n            'f': \"0\",\n        },\n{\n            'v': 0,\n            'f': \"0\",\n        },\n{\n            'v': 0,\n            'f': \"0\",\n        },\n{\n            'v': 0,\n            'f': \"0\",\n        },\n{\n            'v': 0,\n            'f': \"0\",\n        },\n{\n            'v': 0,\n            'f': \"0\",\n        },\n{\n            'v': 0,\n            'f': \"0\",\n        }],\n [{\n            'v': 3,\n            'f': \"3\",\n        },\n{\n            'v': 0,\n            'f': \"0\",\n        },\n{\n            'v': 0,\n            'f': \"0\",\n        },\n{\n            'v': 0,\n            'f': \"0\",\n        },\n{\n            'v': 0,\n            'f': \"0\",\n        },\n{\n            'v': 0,\n            'f': \"0\",\n        },\n{\n            'v': 0,\n            'f': \"0\",\n        },\n{\n            'v': 0,\n            'f': \"0\",\n        },\n{\n            'v': 0,\n            'f': \"0\",\n        },\n{\n            'v': 0,\n            'f': \"0\",\n        },\n{\n            'v': 0,\n            'f': \"0\",\n        }],\n [{\n            'v': 4,\n            'f': \"4\",\n        },\n{\n            'v': 0,\n            'f': \"0\",\n        },\n{\n            'v': 0,\n            'f': \"0\",\n        },\n{\n            'v': 0,\n            'f': \"0\",\n        },\n{\n            'v': 0,\n            'f': \"0\",\n        },\n{\n            'v': 0,\n            'f': \"0\",\n        },\n{\n            'v': 0,\n            'f': \"0\",\n        },\n{\n            'v': 0,\n            'f': \"0\",\n        },\n{\n            'v': 0,\n            'f': \"0\",\n        },\n{\n            'v': 0,\n            'f': \"0\",\n        },\n{\n            'v': 0,\n            'f': \"0\",\n        }],\n [{\n            'v': 5,\n            'f': \"5\",\n        },\n{\n            'v': 0,\n            'f': \"0\",\n        },\n{\n            'v': 0,\n            'f': \"0\",\n        },\n{\n            'v': 0,\n            'f': \"0\",\n        },\n{\n            'v': 0,\n            'f': \"0\",\n        },\n{\n            'v': 0,\n            'f': \"0\",\n        },\n{\n            'v': 0,\n            'f': \"0\",\n        },\n{\n            'v': 0,\n            'f': \"0\",\n        },\n{\n            'v': 0,\n            'f': \"0\",\n        },\n{\n            'v': 0,\n            'f': \"0\",\n        },\n{\n            'v': 0,\n            'f': \"0\",\n        }],\n [{\n            'v': 6,\n            'f': \"6\",\n        },\n{\n            'v': 0,\n            'f': \"0\",\n        },\n{\n            'v': 0,\n            'f': \"0\",\n        },\n{\n            'v': 0,\n            'f': \"0\",\n        },\n{\n            'v': 0,\n            'f': \"0\",\n        },\n{\n            'v': 0,\n            'f': \"0\",\n        },\n{\n            'v': 0,\n            'f': \"0\",\n        },\n{\n            'v': 0,\n            'f': \"0\",\n        },\n{\n            'v': 0,\n            'f': \"0\",\n        },\n{\n            'v': 0,\n            'f': \"0\",\n        },\n{\n            'v': 0,\n            'f': \"0\",\n        }],\n [{\n            'v': 7,\n            'f': \"7\",\n        },\n{\n            'v': 0,\n            'f': \"0\",\n        },\n{\n            'v': 0,\n            'f': \"0\",\n        },\n{\n            'v': 0,\n            'f': \"0\",\n        },\n{\n            'v': 0,\n            'f': \"0\",\n        },\n{\n            'v': 0,\n            'f': \"0\",\n        },\n{\n            'v': 0,\n            'f': \"0\",\n        },\n{\n            'v': 0,\n            'f': \"0\",\n        },\n{\n            'v': 0,\n            'f': \"0\",\n        },\n{\n            'v': 0,\n            'f': \"0\",\n        },\n{\n            'v': 0,\n            'f': \"0\",\n        }],\n [{\n            'v': 8,\n            'f': \"8\",\n        },\n{\n            'v': 0,\n            'f': \"0\",\n        },\n{\n            'v': 0,\n            'f': \"0\",\n        },\n{\n            'v': 0,\n            'f': \"0\",\n        },\n{\n            'v': 0,\n            'f': \"0\",\n        },\n{\n            'v': 0,\n            'f': \"0\",\n        },\n{\n            'v': 0,\n            'f': \"0\",\n        },\n{\n            'v': 0,\n            'f': \"0\",\n        },\n{\n            'v': 0,\n            'f': \"0\",\n        },\n{\n            'v': 0,\n            'f': \"0\",\n        },\n{\n            'v': 0,\n            'f': \"0\",\n        }],\n [{\n            'v': 9,\n            'f': \"9\",\n        },\n{\n            'v': 0,\n            'f': \"0\",\n        },\n{\n            'v': 0,\n            'f': \"0\",\n        },\n{\n            'v': 0,\n            'f': \"0\",\n        },\n{\n            'v': 0,\n            'f': \"0\",\n        },\n{\n            'v': 0,\n            'f': \"0\",\n        },\n{\n            'v': 0,\n            'f': \"0\",\n        },\n{\n            'v': 0,\n            'f': \"0\",\n        },\n{\n            'v': 0,\n            'f': \"0\",\n        },\n{\n            'v': 0,\n            'f': \"0\",\n        },\n{\n            'v': 0,\n            'f': \"0\",\n        }],\n [{\n            'v': 10,\n            'f': \"10\",\n        },\n{\n            'v': 0,\n            'f': \"0\",\n        },\n{\n            'v': 0,\n            'f': \"0\",\n        },\n{\n            'v': 0,\n            'f': \"0\",\n        },\n{\n            'v': 0,\n            'f': \"0\",\n        },\n{\n            'v': 0,\n            'f': \"0\",\n        },\n{\n            'v': 0,\n            'f': \"0\",\n        },\n{\n            'v': 0,\n            'f': \"0\",\n        },\n{\n            'v': 0,\n            'f': \"0\",\n        },\n{\n            'v': 0,\n            'f': \"0\",\n        },\n{\n            'v': 0,\n            'f': \"0\",\n        }],\n [{\n            'v': 11,\n            'f': \"11\",\n        },\n{\n            'v': 0,\n            'f': \"0\",\n        },\n{\n            'v': 0,\n            'f': \"0\",\n        },\n{\n            'v': 0,\n            'f': \"0\",\n        },\n{\n            'v': 0,\n            'f': \"0\",\n        },\n{\n            'v': 0,\n            'f': \"0\",\n        },\n{\n            'v': 0,\n            'f': \"0\",\n        },\n{\n            'v': 0,\n            'f': \"0\",\n        },\n{\n            'v': 0,\n            'f': \"0\",\n        },\n{\n            'v': 0,\n            'f': \"0\",\n        },\n{\n            'v': 0,\n            'f': \"0\",\n        }],\n [{\n            'v': 12,\n            'f': \"12\",\n        },\n{\n            'v': 0,\n            'f': \"0\",\n        },\n{\n            'v': 0,\n            'f': \"0\",\n        },\n{\n            'v': 0,\n            'f': \"0\",\n        },\n{\n            'v': 0,\n            'f': \"0\",\n        },\n{\n            'v': 0,\n            'f': \"0\",\n        },\n{\n            'v': 0,\n            'f': \"0\",\n        },\n{\n            'v': 0,\n            'f': \"0\",\n        },\n{\n            'v': 0,\n            'f': \"0\",\n        },\n{\n            'v': 0,\n            'f': \"0\",\n        },\n{\n            'v': 0,\n            'f': \"0\",\n        }],\n [{\n            'v': 13,\n            'f': \"13\",\n        },\n{\n            'v': 0,\n            'f': \"0\",\n        },\n{\n            'v': 0,\n            'f': \"0\",\n        },\n{\n            'v': 0,\n            'f': \"0\",\n        },\n{\n            'v': 0,\n            'f': \"0\",\n        },\n{\n            'v': 0,\n            'f': \"0\",\n        },\n{\n            'v': 0,\n            'f': \"0\",\n        },\n{\n            'v': 0,\n            'f': \"0\",\n        },\n{\n            'v': 0,\n            'f': \"0\",\n        },\n{\n            'v': 0,\n            'f': \"0\",\n        },\n{\n            'v': 0,\n            'f': \"0\",\n        }],\n [{\n            'v': 14,\n            'f': \"14\",\n        },\n{\n            'v': 0,\n            'f': \"0\",\n        },\n{\n            'v': 0,\n            'f': \"0\",\n        },\n{\n            'v': 0,\n            'f': \"0\",\n        },\n{\n            'v': 0,\n            'f': \"0\",\n        },\n{\n            'v': 0,\n            'f': \"0\",\n        },\n{\n            'v': 0,\n            'f': \"0\",\n        },\n{\n            'v': 0,\n            'f': \"0\",\n        },\n{\n            'v': 0,\n            'f': \"0\",\n        },\n{\n            'v': 0,\n            'f': \"0\",\n        },\n{\n            'v': 0,\n            'f': \"0\",\n        }],\n [{\n            'v': 15,\n            'f': \"15\",\n        },\n{\n            'v': 0,\n            'f': \"0\",\n        },\n{\n            'v': 0,\n            'f': \"0\",\n        },\n{\n            'v': 0,\n            'f': \"0\",\n        },\n{\n            'v': 0,\n            'f': \"0\",\n        },\n{\n            'v': 0,\n            'f': \"0\",\n        },\n{\n            'v': 0,\n            'f': \"0\",\n        },\n{\n            'v': 0,\n            'f': \"0\",\n        },\n{\n            'v': 0,\n            'f': \"0\",\n        },\n{\n            'v': 0,\n            'f': \"0\",\n        },\n{\n            'v': 0,\n            'f': \"0\",\n        }],\n [{\n            'v': 16,\n            'f': \"16\",\n        },\n{\n            'v': 0,\n            'f': \"0\",\n        },\n{\n            'v': 0,\n            'f': \"0\",\n        },\n{\n            'v': 0,\n            'f': \"0\",\n        },\n{\n            'v': 0,\n            'f': \"0\",\n        },\n{\n            'v': 0,\n            'f': \"0\",\n        },\n{\n            'v': 0,\n            'f': \"0\",\n        },\n{\n            'v': 0,\n            'f': \"0\",\n        },\n{\n            'v': 0,\n            'f': \"0\",\n        },\n{\n            'v': 0,\n            'f': \"0\",\n        },\n{\n            'v': 0,\n            'f': \"0\",\n        }],\n [{\n            'v': 17,\n            'f': \"17\",\n        },\n{\n            'v': 0,\n            'f': \"0\",\n        },\n{\n            'v': 0,\n            'f': \"0\",\n        },\n{\n            'v': 0,\n            'f': \"0\",\n        },\n{\n            'v': 0,\n            'f': \"0\",\n        },\n{\n            'v': 0,\n            'f': \"0\",\n        },\n{\n            'v': 0,\n            'f': \"0\",\n        },\n{\n            'v': 0,\n            'f': \"0\",\n        },\n{\n            'v': 0,\n            'f': \"0\",\n        },\n{\n            'v': 0,\n            'f': \"0\",\n        },\n{\n            'v': 0,\n            'f': \"0\",\n        }],\n [{\n            'v': 18,\n            'f': \"18\",\n        },\n{\n            'v': 0,\n            'f': \"0\",\n        },\n{\n            'v': 0,\n            'f': \"0\",\n        },\n{\n            'v': 0,\n            'f': \"0\",\n        },\n{\n            'v': 0,\n            'f': \"0\",\n        },\n{\n            'v': 0,\n            'f': \"0\",\n        },\n{\n            'v': 0,\n            'f': \"0\",\n        },\n{\n            'v': 0,\n            'f': \"0\",\n        },\n{\n            'v': 0,\n            'f': \"0\",\n        },\n{\n            'v': 0,\n            'f': \"0\",\n        },\n{\n            'v': 0,\n            'f': \"0\",\n        }],\n [{\n            'v': 19,\n            'f': \"19\",\n        },\n{\n            'v': 0,\n            'f': \"0\",\n        },\n{\n            'v': 0,\n            'f': \"0\",\n        },\n{\n            'v': 0,\n            'f': \"0\",\n        },\n{\n            'v': 0,\n            'f': \"0\",\n        },\n{\n            'v': 0,\n            'f': \"0\",\n        },\n{\n            'v': 0,\n            'f': \"0\",\n        },\n{\n            'v': 0,\n            'f': \"0\",\n        },\n{\n            'v': 0,\n            'f': \"0\",\n        },\n{\n            'v': 0,\n            'f': \"0\",\n        },\n{\n            'v': 0,\n            'f': \"0\",\n        }],\n [{\n            'v': 20,\n            'f': \"20\",\n        },\n{\n            'v': 0,\n            'f': \"0\",\n        },\n{\n            'v': 0,\n            'f': \"0\",\n        },\n{\n            'v': 0,\n            'f': \"0\",\n        },\n{\n            'v': 0,\n            'f': \"0\",\n        },\n{\n            'v': 0,\n            'f': \"0\",\n        },\n{\n            'v': 0,\n            'f': \"0\",\n        },\n{\n            'v': 0,\n            'f': \"0\",\n        },\n{\n            'v': 0,\n            'f': \"0\",\n        },\n{\n            'v': 0,\n            'f': \"0\",\n        },\n{\n            'v': 0,\n            'f': \"0\",\n        }],\n [{\n            'v': 21,\n            'f': \"21\",\n        },\n{\n            'v': 0,\n            'f': \"0\",\n        },\n{\n            'v': 0,\n            'f': \"0\",\n        },\n{\n            'v': 0,\n            'f': \"0\",\n        },\n{\n            'v': 0,\n            'f': \"0\",\n        },\n{\n            'v': 0,\n            'f': \"0\",\n        },\n{\n            'v': 0,\n            'f': \"0\",\n        },\n{\n            'v': 0,\n            'f': \"0\",\n        },\n{\n            'v': 0,\n            'f': \"0\",\n        },\n{\n            'v': 0,\n            'f': \"0\",\n        },\n{\n            'v': 0,\n            'f': \"0\",\n        }],\n [{\n            'v': 22,\n            'f': \"22\",\n        },\n{\n            'v': 0,\n            'f': \"0\",\n        },\n{\n            'v': 0,\n            'f': \"0\",\n        },\n{\n            'v': 0,\n            'f': \"0\",\n        },\n{\n            'v': 0,\n            'f': \"0\",\n        },\n{\n            'v': 0,\n            'f': \"0\",\n        },\n{\n            'v': 0,\n            'f': \"0\",\n        },\n{\n            'v': 0,\n            'f': \"0\",\n        },\n{\n            'v': 0,\n            'f': \"0\",\n        },\n{\n            'v': 0,\n            'f': \"0\",\n        },\n{\n            'v': 0,\n            'f': \"0\",\n        }],\n [{\n            'v': 23,\n            'f': \"23\",\n        },\n{\n            'v': 0,\n            'f': \"0\",\n        },\n{\n            'v': 0,\n            'f': \"0\",\n        },\n{\n            'v': 0,\n            'f': \"0\",\n        },\n{\n            'v': 0,\n            'f': \"0\",\n        },\n{\n            'v': 0,\n            'f': \"0\",\n        },\n{\n            'v': 0,\n            'f': \"0\",\n        },\n{\n            'v': 0,\n            'f': \"0\",\n        },\n{\n            'v': 0,\n            'f': \"0\",\n        },\n{\n            'v': 0,\n            'f': \"0\",\n        },\n{\n            'v': 0,\n            'f': \"0\",\n        }],\n [{\n            'v': 24,\n            'f': \"24\",\n        },\n{\n            'v': 0,\n            'f': \"0\",\n        },\n{\n            'v': 0,\n            'f': \"0\",\n        },\n{\n            'v': 0,\n            'f': \"0\",\n        },\n{\n            'v': 0,\n            'f': \"0\",\n        },\n{\n            'v': 0,\n            'f': \"0\",\n        },\n{\n            'v': 0,\n            'f': \"0\",\n        },\n{\n            'v': 0,\n            'f': \"0\",\n        },\n{\n            'v': 0,\n            'f': \"0\",\n        },\n{\n            'v': 0,\n            'f': \"0\",\n        },\n{\n            'v': 0,\n            'f': \"0\",\n        }],\n [{\n            'v': 25,\n            'f': \"25\",\n        },\n{\n            'v': 0,\n            'f': \"0\",\n        },\n{\n            'v': 0,\n            'f': \"0\",\n        },\n{\n            'v': 0,\n            'f': \"0\",\n        },\n{\n            'v': 0,\n            'f': \"0\",\n        },\n{\n            'v': 0,\n            'f': \"0\",\n        },\n{\n            'v': 0,\n            'f': \"0\",\n        },\n{\n            'v': 0,\n            'f': \"0\",\n        },\n{\n            'v': 0,\n            'f': \"0\",\n        },\n{\n            'v': 0,\n            'f': \"0\",\n        },\n{\n            'v': 0,\n            'f': \"0\",\n        }],\n [{\n            'v': 26,\n            'f': \"26\",\n        },\n{\n            'v': 0,\n            'f': \"0\",\n        },\n{\n            'v': 0,\n            'f': \"0\",\n        },\n{\n            'v': 0,\n            'f': \"0\",\n        },\n{\n            'v': 0,\n            'f': \"0\",\n        },\n{\n            'v': 0,\n            'f': \"0\",\n        },\n{\n            'v': 0,\n            'f': \"0\",\n        },\n{\n            'v': 0,\n            'f': \"0\",\n        },\n{\n            'v': 0,\n            'f': \"0\",\n        },\n{\n            'v': 0,\n            'f': \"0\",\n        },\n{\n            'v': 0,\n            'f': \"0\",\n        }],\n [{\n            'v': 27,\n            'f': \"27\",\n        },\n{\n            'v': 0,\n            'f': \"0\",\n        },\n{\n            'v': 0,\n            'f': \"0\",\n        },\n{\n            'v': 0,\n            'f': \"0\",\n        },\n{\n            'v': 0,\n            'f': \"0\",\n        },\n{\n            'v': 0,\n            'f': \"0\",\n        },\n{\n            'v': 0,\n            'f': \"0\",\n        },\n{\n            'v': 0,\n            'f': \"0\",\n        },\n{\n            'v': 0,\n            'f': \"0\",\n        },\n{\n            'v': 0,\n            'f': \"0\",\n        },\n{\n            'v': 0,\n            'f': \"0\",\n        }],\n [{\n            'v': 28,\n            'f': \"28\",\n        },\n{\n            'v': 0,\n            'f': \"0\",\n        },\n{\n            'v': 0,\n            'f': \"0\",\n        },\n{\n            'v': 0,\n            'f': \"0\",\n        },\n{\n            'v': 0,\n            'f': \"0\",\n        },\n{\n            'v': 0,\n            'f': \"0\",\n        },\n{\n            'v': 0,\n            'f': \"0\",\n        },\n{\n            'v': 0,\n            'f': \"0\",\n        },\n{\n            'v': 0,\n            'f': \"0\",\n        },\n{\n            'v': 0,\n            'f': \"0\",\n        },\n{\n            'v': 0,\n            'f': \"0\",\n        }],\n [{\n            'v': 29,\n            'f': \"29\",\n        },\n{\n            'v': 0,\n            'f': \"0\",\n        },\n{\n            'v': 0,\n            'f': \"0\",\n        },\n{\n            'v': 0,\n            'f': \"0\",\n        },\n{\n            'v': 0,\n            'f': \"0\",\n        },\n{\n            'v': 0,\n            'f': \"0\",\n        },\n{\n            'v': 0,\n            'f': \"0\",\n        },\n{\n            'v': 0,\n            'f': \"0\",\n        },\n{\n            'v': 0,\n            'f': \"0\",\n        },\n{\n            'v': 0,\n            'f': \"0\",\n        },\n{\n            'v': 0,\n            'f': \"0\",\n        }],\n [{\n            'v': 30,\n            'f': \"30\",\n        },\n{\n            'v': 0,\n            'f': \"0\",\n        },\n{\n            'v': 0,\n            'f': \"0\",\n        },\n{\n            'v': 0,\n            'f': \"0\",\n        },\n{\n            'v': 0,\n            'f': \"0\",\n        },\n{\n            'v': 0,\n            'f': \"0\",\n        },\n{\n            'v': 0,\n            'f': \"0\",\n        },\n{\n            'v': 0,\n            'f': \"0\",\n        },\n{\n            'v': 0,\n            'f': \"0\",\n        },\n{\n            'v': 0,\n            'f': \"0\",\n        },\n{\n            'v': 0,\n            'f': \"0\",\n        }],\n [{\n            'v': 31,\n            'f': \"31\",\n        },\n{\n            'v': 0,\n            'f': \"0\",\n        },\n{\n            'v': 0,\n            'f': \"0\",\n        },\n{\n            'v': 0,\n            'f': \"0\",\n        },\n{\n            'v': 0,\n            'f': \"0\",\n        },\n{\n            'v': 0,\n            'f': \"0\",\n        },\n{\n            'v': 0,\n            'f': \"0\",\n        },\n{\n            'v': 0,\n            'f': \"0\",\n        },\n{\n            'v': 0,\n            'f': \"0\",\n        },\n{\n            'v': 0,\n            'f': \"0\",\n        },\n{\n            'v': 0,\n            'f': \"0\",\n        }],\n [{\n            'v': 32,\n            'f': \"32\",\n        },\n{\n            'v': 0,\n            'f': \"0\",\n        },\n{\n            'v': 0,\n            'f': \"0\",\n        },\n{\n            'v': 0,\n            'f': \"0\",\n        },\n{\n            'v': 0,\n            'f': \"0\",\n        },\n{\n            'v': 0,\n            'f': \"0\",\n        },\n{\n            'v': 0,\n            'f': \"0\",\n        },\n{\n            'v': 0,\n            'f': \"0\",\n        },\n{\n            'v': 0,\n            'f': \"0\",\n        },\n{\n            'v': 0,\n            'f': \"0\",\n        },\n{\n            'v': 0,\n            'f': \"0\",\n        }],\n [{\n            'v': 33,\n            'f': \"33\",\n        },\n{\n            'v': 0,\n            'f': \"0\",\n        },\n{\n            'v': 0,\n            'f': \"0\",\n        },\n{\n            'v': 0,\n            'f': \"0\",\n        },\n{\n            'v': 0,\n            'f': \"0\",\n        },\n{\n            'v': 0,\n            'f': \"0\",\n        },\n{\n            'v': 0,\n            'f': \"0\",\n        },\n{\n            'v': 0,\n            'f': \"0\",\n        },\n{\n            'v': 0,\n            'f': \"0\",\n        },\n{\n            'v': 0,\n            'f': \"0\",\n        },\n{\n            'v': 0,\n            'f': \"0\",\n        }],\n [{\n            'v': 34,\n            'f': \"34\",\n        },\n{\n            'v': 0,\n            'f': \"0\",\n        },\n{\n            'v': 0,\n            'f': \"0\",\n        },\n{\n            'v': 0,\n            'f': \"0\",\n        },\n{\n            'v': 0,\n            'f': \"0\",\n        },\n{\n            'v': 0,\n            'f': \"0\",\n        },\n{\n            'v': 0,\n            'f': \"0\",\n        },\n{\n            'v': 0,\n            'f': \"0\",\n        },\n{\n            'v': 0,\n            'f': \"0\",\n        },\n{\n            'v': 0,\n            'f': \"0\",\n        },\n{\n            'v': 0,\n            'f': \"0\",\n        }],\n [{\n            'v': 35,\n            'f': \"35\",\n        },\n{\n            'v': 0,\n            'f': \"0\",\n        },\n{\n            'v': 0,\n            'f': \"0\",\n        },\n{\n            'v': 0,\n            'f': \"0\",\n        },\n{\n            'v': 0,\n            'f': \"0\",\n        },\n{\n            'v': 0,\n            'f': \"0\",\n        },\n{\n            'v': 0,\n            'f': \"0\",\n        },\n{\n            'v': 0,\n            'f': \"0\",\n        },\n{\n            'v': 0,\n            'f': \"0\",\n        },\n{\n            'v': 0,\n            'f': \"0\",\n        },\n{\n            'v': 0,\n            'f': \"0\",\n        }],\n [{\n            'v': 36,\n            'f': \"36\",\n        },\n{\n            'v': 0,\n            'f': \"0\",\n        },\n{\n            'v': 0,\n            'f': \"0\",\n        },\n{\n            'v': 0,\n            'f': \"0\",\n        },\n{\n            'v': 0,\n            'f': \"0\",\n        },\n{\n            'v': 0,\n            'f': \"0\",\n        },\n{\n            'v': 0,\n            'f': \"0\",\n        },\n{\n            'v': 0,\n            'f': \"0\",\n        },\n{\n            'v': 0,\n            'f': \"0\",\n        },\n{\n            'v': 0,\n            'f': \"0\",\n        },\n{\n            'v': 0,\n            'f': \"0\",\n        }],\n [{\n            'v': 37,\n            'f': \"37\",\n        },\n{\n            'v': 0,\n            'f': \"0\",\n        },\n{\n            'v': 0,\n            'f': \"0\",\n        },\n{\n            'v': 0,\n            'f': \"0\",\n        },\n{\n            'v': 0,\n            'f': \"0\",\n        },\n{\n            'v': 0,\n            'f': \"0\",\n        },\n{\n            'v': 0,\n            'f': \"0\",\n        },\n{\n            'v': 0,\n            'f': \"0\",\n        },\n{\n            'v': 0,\n            'f': \"0\",\n        },\n{\n            'v': 0,\n            'f': \"0\",\n        },\n{\n            'v': 0,\n            'f': \"0\",\n        }],\n [{\n            'v': 38,\n            'f': \"38\",\n        },\n{\n            'v': 0,\n            'f': \"0\",\n        },\n{\n            'v': 0,\n            'f': \"0\",\n        },\n{\n            'v': 0,\n            'f': \"0\",\n        },\n{\n            'v': 0,\n            'f': \"0\",\n        },\n{\n            'v': 0,\n            'f': \"0\",\n        },\n{\n            'v': 0,\n            'f': \"0\",\n        },\n{\n            'v': 0,\n            'f': \"0\",\n        },\n{\n            'v': 0,\n            'f': \"0\",\n        },\n{\n            'v': 0,\n            'f': \"0\",\n        },\n{\n            'v': 0,\n            'f': \"0\",\n        }],\n [{\n            'v': 39,\n            'f': \"39\",\n        },\n{\n            'v': 0,\n            'f': \"0\",\n        },\n{\n            'v': 0,\n            'f': \"0\",\n        },\n{\n            'v': 0,\n            'f': \"0\",\n        },\n{\n            'v': 0,\n            'f': \"0\",\n        },\n{\n            'v': 0,\n            'f': \"0\",\n        },\n{\n            'v': 0,\n            'f': \"0\",\n        },\n{\n            'v': 0,\n            'f': \"0\",\n        },\n{\n            'v': 0,\n            'f': \"0\",\n        },\n{\n            'v': 0,\n            'f': \"0\",\n        },\n{\n            'v': 0,\n            'f': \"0\",\n        }],\n [{\n            'v': 40,\n            'f': \"40\",\n        },\n{\n            'v': 0,\n            'f': \"0\",\n        },\n{\n            'v': 0,\n            'f': \"0\",\n        },\n{\n            'v': 0,\n            'f': \"0\",\n        },\n{\n            'v': 0,\n            'f': \"0\",\n        },\n{\n            'v': 0,\n            'f': \"0\",\n        },\n{\n            'v': 0,\n            'f': \"0\",\n        },\n{\n            'v': 0,\n            'f': \"0\",\n        },\n{\n            'v': 0,\n            'f': \"0\",\n        },\n{\n            'v': 0,\n            'f': \"0\",\n        },\n{\n            'v': 0,\n            'f': \"0\",\n        }],\n [{\n            'v': 41,\n            'f': \"41\",\n        },\n{\n            'v': 0,\n            'f': \"0\",\n        },\n{\n            'v': 0,\n            'f': \"0\",\n        },\n{\n            'v': 0,\n            'f': \"0\",\n        },\n{\n            'v': 0,\n            'f': \"0\",\n        },\n{\n            'v': 0,\n            'f': \"0\",\n        },\n{\n            'v': 0,\n            'f': \"0\",\n        },\n{\n            'v': 0,\n            'f': \"0\",\n        },\n{\n            'v': 0,\n            'f': \"0\",\n        },\n{\n            'v': 0,\n            'f': \"0\",\n        },\n{\n            'v': 0,\n            'f': \"0\",\n        }],\n [{\n            'v': 42,\n            'f': \"42\",\n        },\n{\n            'v': 0,\n            'f': \"0\",\n        },\n{\n            'v': 0,\n            'f': \"0\",\n        },\n{\n            'v': 0,\n            'f': \"0\",\n        },\n{\n            'v': 0,\n            'f': \"0\",\n        },\n{\n            'v': 0,\n            'f': \"0\",\n        },\n{\n            'v': 0,\n            'f': \"0\",\n        },\n{\n            'v': 0,\n            'f': \"0\",\n        },\n{\n            'v': 0,\n            'f': \"0\",\n        },\n{\n            'v': 0,\n            'f': \"0\",\n        },\n{\n            'v': 0,\n            'f': \"0\",\n        }],\n [{\n            'v': 43,\n            'f': \"43\",\n        },\n{\n            'v': 0,\n            'f': \"0\",\n        },\n{\n            'v': 0,\n            'f': \"0\",\n        },\n{\n            'v': 0,\n            'f': \"0\",\n        },\n{\n            'v': 0,\n            'f': \"0\",\n        },\n{\n            'v': 0,\n            'f': \"0\",\n        },\n{\n            'v': 0,\n            'f': \"0\",\n        },\n{\n            'v': 0,\n            'f': \"0\",\n        },\n{\n            'v': 0,\n            'f': \"0\",\n        },\n{\n            'v': 0,\n            'f': \"0\",\n        },\n{\n            'v': 0,\n            'f': \"0\",\n        }],\n [{\n            'v': 44,\n            'f': \"44\",\n        },\n{\n            'v': 0,\n            'f': \"0\",\n        },\n{\n            'v': 0,\n            'f': \"0\",\n        },\n{\n            'v': 0,\n            'f': \"0\",\n        },\n{\n            'v': 0,\n            'f': \"0\",\n        },\n{\n            'v': 0,\n            'f': \"0\",\n        },\n{\n            'v': 0,\n            'f': \"0\",\n        },\n{\n            'v': 0,\n            'f': \"0\",\n        },\n{\n            'v': 0,\n            'f': \"0\",\n        },\n{\n            'v': 0,\n            'f': \"0\",\n        },\n{\n            'v': 0,\n            'f': \"0\",\n        }],\n [{\n            'v': 45,\n            'f': \"45\",\n        },\n{\n            'v': 0,\n            'f': \"0\",\n        },\n{\n            'v': 0,\n            'f': \"0\",\n        },\n{\n            'v': 0,\n            'f': \"0\",\n        },\n{\n            'v': 0,\n            'f': \"0\",\n        },\n{\n            'v': 0,\n            'f': \"0\",\n        },\n{\n            'v': 0,\n            'f': \"0\",\n        },\n{\n            'v': 0,\n            'f': \"0\",\n        },\n{\n            'v': 0,\n            'f': \"0\",\n        },\n{\n            'v': 0,\n            'f': \"0\",\n        },\n{\n            'v': 0,\n            'f': \"0\",\n        }],\n [{\n            'v': 46,\n            'f': \"46\",\n        },\n{\n            'v': 0,\n            'f': \"0\",\n        },\n{\n            'v': 0,\n            'f': \"0\",\n        },\n{\n            'v': 0,\n            'f': \"0\",\n        },\n{\n            'v': 0,\n            'f': \"0\",\n        },\n{\n            'v': 0,\n            'f': \"0\",\n        },\n{\n            'v': 0,\n            'f': \"0\",\n        },\n{\n            'v': 0,\n            'f': \"0\",\n        },\n{\n            'v': 0,\n            'f': \"0\",\n        },\n{\n            'v': 0,\n            'f': \"0\",\n        },\n{\n            'v': 0,\n            'f': \"0\",\n        }],\n [{\n            'v': 47,\n            'f': \"47\",\n        },\n{\n            'v': 0,\n            'f': \"0\",\n        },\n{\n            'v': 0,\n            'f': \"0\",\n        },\n{\n            'v': 0,\n            'f': \"0\",\n        },\n{\n            'v': 0,\n            'f': \"0\",\n        },\n{\n            'v': 0,\n            'f': \"0\",\n        },\n{\n            'v': 0,\n            'f': \"0\",\n        },\n{\n            'v': 0,\n            'f': \"0\",\n        },\n{\n            'v': 0,\n            'f': \"0\",\n        },\n{\n            'v': 0,\n            'f': \"0\",\n        },\n{\n            'v': 0,\n            'f': \"0\",\n        }],\n [{\n            'v': 48,\n            'f': \"48\",\n        },\n{\n            'v': 0,\n            'f': \"0\",\n        },\n{\n            'v': 0,\n            'f': \"0\",\n        },\n{\n            'v': 0,\n            'f': \"0\",\n        },\n{\n            'v': 0,\n            'f': \"0\",\n        },\n{\n            'v': 0,\n            'f': \"0\",\n        },\n{\n            'v': 0,\n            'f': \"0\",\n        },\n{\n            'v': 0,\n            'f': \"0\",\n        },\n{\n            'v': 0,\n            'f': \"0\",\n        },\n{\n            'v': 0,\n            'f': \"0\",\n        },\n{\n            'v': 0,\n            'f': \"0\",\n        }],\n [{\n            'v': 49,\n            'f': \"49\",\n        },\n{\n            'v': 0,\n            'f': \"0\",\n        },\n{\n            'v': 0,\n            'f': \"0\",\n        },\n{\n            'v': 0,\n            'f': \"0\",\n        },\n{\n            'v': 0,\n            'f': \"0\",\n        },\n{\n            'v': 0,\n            'f': \"0\",\n        },\n{\n            'v': 0,\n            'f': \"0\",\n        },\n{\n            'v': 0,\n            'f': \"0\",\n        },\n{\n            'v': 0,\n            'f': \"0\",\n        },\n{\n            'v': 0,\n            'f': \"0\",\n        },\n{\n            'v': 0,\n            'f': \"0\",\n        }],\n [{\n            'v': 50,\n            'f': \"50\",\n        },\n{\n            'v': 0,\n            'f': \"0\",\n        },\n{\n            'v': 0,\n            'f': \"0\",\n        },\n{\n            'v': 0,\n            'f': \"0\",\n        },\n{\n            'v': 0,\n            'f': \"0\",\n        },\n{\n            'v': 0,\n            'f': \"0\",\n        },\n{\n            'v': 0,\n            'f': \"0\",\n        },\n{\n            'v': 0,\n            'f': \"0\",\n        },\n{\n            'v': 0,\n            'f': \"0\",\n        },\n{\n            'v': 0,\n            'f': \"0\",\n        },\n{\n            'v': 0,\n            'f': \"0\",\n        }],\n [{\n            'v': 51,\n            'f': \"51\",\n        },\n{\n            'v': 0,\n            'f': \"0\",\n        },\n{\n            'v': 0,\n            'f': \"0\",\n        },\n{\n            'v': 0,\n            'f': \"0\",\n        },\n{\n            'v': 0,\n            'f': \"0\",\n        },\n{\n            'v': 0,\n            'f': \"0\",\n        },\n{\n            'v': 0,\n            'f': \"0\",\n        },\n{\n            'v': 0,\n            'f': \"0\",\n        },\n{\n            'v': 0,\n            'f': \"0\",\n        },\n{\n            'v': 0,\n            'f': \"0\",\n        },\n{\n            'v': 0,\n            'f': \"0\",\n        }],\n [{\n            'v': 52,\n            'f': \"52\",\n        },\n{\n            'v': 0,\n            'f': \"0\",\n        },\n{\n            'v': 0,\n            'f': \"0\",\n        },\n{\n            'v': 0,\n            'f': \"0\",\n        },\n{\n            'v': 0,\n            'f': \"0\",\n        },\n{\n            'v': 0,\n            'f': \"0\",\n        },\n{\n            'v': 0,\n            'f': \"0\",\n        },\n{\n            'v': 0,\n            'f': \"0\",\n        },\n{\n            'v': 0,\n            'f': \"0\",\n        },\n{\n            'v': 0,\n            'f': \"0\",\n        },\n{\n            'v': 0,\n            'f': \"0\",\n        }],\n [{\n            'v': 53,\n            'f': \"53\",\n        },\n{\n            'v': 0,\n            'f': \"0\",\n        },\n{\n            'v': 0,\n            'f': \"0\",\n        },\n{\n            'v': 0,\n            'f': \"0\",\n        },\n{\n            'v': 0,\n            'f': \"0\",\n        },\n{\n            'v': 0,\n            'f': \"0\",\n        },\n{\n            'v': 0,\n            'f': \"0\",\n        },\n{\n            'v': 0,\n            'f': \"0\",\n        },\n{\n            'v': 0,\n            'f': \"0\",\n        },\n{\n            'v': 0,\n            'f': \"0\",\n        },\n{\n            'v': 0,\n            'f': \"0\",\n        }],\n [{\n            'v': 54,\n            'f': \"54\",\n        },\n{\n            'v': 0,\n            'f': \"0\",\n        },\n{\n            'v': 0,\n            'f': \"0\",\n        },\n{\n            'v': 0,\n            'f': \"0\",\n        },\n{\n            'v': 0,\n            'f': \"0\",\n        },\n{\n            'v': 0,\n            'f': \"0\",\n        },\n{\n            'v': 0,\n            'f': \"0\",\n        },\n{\n            'v': 0,\n            'f': \"0\",\n        },\n{\n            'v': 0,\n            'f': \"0\",\n        },\n{\n            'v': 0,\n            'f': \"0\",\n        },\n{\n            'v': 0,\n            'f': \"0\",\n        }],\n [{\n            'v': 55,\n            'f': \"55\",\n        },\n{\n            'v': 0,\n            'f': \"0\",\n        },\n{\n            'v': 0,\n            'f': \"0\",\n        },\n{\n            'v': 0,\n            'f': \"0\",\n        },\n{\n            'v': 0,\n            'f': \"0\",\n        },\n{\n            'v': 0,\n            'f': \"0\",\n        },\n{\n            'v': 0,\n            'f': \"0\",\n        },\n{\n            'v': 0,\n            'f': \"0\",\n        },\n{\n            'v': 0,\n            'f': \"0\",\n        },\n{\n            'v': 0,\n            'f': \"0\",\n        },\n{\n            'v': 0,\n            'f': \"0\",\n        }],\n [{\n            'v': 56,\n            'f': \"56\",\n        },\n{\n            'v': 0,\n            'f': \"0\",\n        },\n{\n            'v': 0,\n            'f': \"0\",\n        },\n{\n            'v': 0,\n            'f': \"0\",\n        },\n{\n            'v': 0,\n            'f': \"0\",\n        },\n{\n            'v': 0,\n            'f': \"0\",\n        },\n{\n            'v': 0,\n            'f': \"0\",\n        },\n{\n            'v': 0,\n            'f': \"0\",\n        },\n{\n            'v': 0,\n            'f': \"0\",\n        },\n{\n            'v': 0,\n            'f': \"0\",\n        },\n{\n            'v': 0,\n            'f': \"0\",\n        }],\n [{\n            'v': 57,\n            'f': \"57\",\n        },\n{\n            'v': 0,\n            'f': \"0\",\n        },\n{\n            'v': 0,\n            'f': \"0\",\n        },\n{\n            'v': 0,\n            'f': \"0\",\n        },\n{\n            'v': 0,\n            'f': \"0\",\n        },\n{\n            'v': 0,\n            'f': \"0\",\n        },\n{\n            'v': 0,\n            'f': \"0\",\n        },\n{\n            'v': 0,\n            'f': \"0\",\n        },\n{\n            'v': 0,\n            'f': \"0\",\n        },\n{\n            'v': 0,\n            'f': \"0\",\n        },\n{\n            'v': 0,\n            'f': \"0\",\n        }],\n [{\n            'v': 58,\n            'f': \"58\",\n        },\n{\n            'v': 0,\n            'f': \"0\",\n        },\n{\n            'v': 0,\n            'f': \"0\",\n        },\n{\n            'v': 0,\n            'f': \"0\",\n        },\n{\n            'v': 0,\n            'f': \"0\",\n        },\n{\n            'v': 0,\n            'f': \"0\",\n        },\n{\n            'v': 0,\n            'f': \"0\",\n        },\n{\n            'v': 0,\n            'f': \"0\",\n        },\n{\n            'v': 0,\n            'f': \"0\",\n        },\n{\n            'v': 0,\n            'f': \"0\",\n        },\n{\n            'v': 0,\n            'f': \"0\",\n        }],\n [{\n            'v': 59,\n            'f': \"59\",\n        },\n{\n            'v': 0,\n            'f': \"0\",\n        },\n{\n            'v': 0,\n            'f': \"0\",\n        },\n{\n            'v': 0,\n            'f': \"0\",\n        },\n{\n            'v': 0,\n            'f': \"0\",\n        },\n{\n            'v': 0,\n            'f': \"0\",\n        },\n{\n            'v': 0,\n            'f': \"0\",\n        },\n{\n            'v': 0,\n            'f': \"0\",\n        },\n{\n            'v': 0,\n            'f': \"0\",\n        },\n{\n            'v': 0,\n            'f': \"0\",\n        },\n{\n            'v': 0,\n            'f': \"0\",\n        }],\n [{\n            'v': 60,\n            'f': \"60\",\n        },\n{\n            'v': 0,\n            'f': \"0\",\n        },\n{\n            'v': 0,\n            'f': \"0\",\n        },\n{\n            'v': 0,\n            'f': \"0\",\n        },\n{\n            'v': 0,\n            'f': \"0\",\n        },\n{\n            'v': 0,\n            'f': \"0\",\n        },\n{\n            'v': 0,\n            'f': \"0\",\n        },\n{\n            'v': 0,\n            'f': \"0\",\n        },\n{\n            'v': 0,\n            'f': \"0\",\n        },\n{\n            'v': 0,\n            'f': \"0\",\n        },\n{\n            'v': 0,\n            'f': \"0\",\n        }],\n [{\n            'v': 61,\n            'f': \"61\",\n        },\n{\n            'v': 0,\n            'f': \"0\",\n        },\n{\n            'v': 0,\n            'f': \"0\",\n        },\n{\n            'v': 0,\n            'f': \"0\",\n        },\n{\n            'v': 0,\n            'f': \"0\",\n        },\n{\n            'v': 0,\n            'f': \"0\",\n        },\n{\n            'v': 0,\n            'f': \"0\",\n        },\n{\n            'v': 0,\n            'f': \"0\",\n        },\n{\n            'v': 0,\n            'f': \"0\",\n        },\n{\n            'v': 0,\n            'f': \"0\",\n        },\n{\n            'v': 0,\n            'f': \"0\",\n        }],\n [{\n            'v': 62,\n            'f': \"62\",\n        },\n{\n            'v': 0,\n            'f': \"0\",\n        },\n{\n            'v': 0,\n            'f': \"0\",\n        },\n{\n            'v': 0,\n            'f': \"0\",\n        },\n{\n            'v': 0,\n            'f': \"0\",\n        },\n{\n            'v': 0,\n            'f': \"0\",\n        },\n{\n            'v': 0,\n            'f': \"0\",\n        },\n{\n            'v': 0,\n            'f': \"0\",\n        },\n{\n            'v': 0,\n            'f': \"0\",\n        },\n{\n            'v': 0,\n            'f': \"0\",\n        },\n{\n            'v': 0,\n            'f': \"0\",\n        }],\n [{\n            'v': 63,\n            'f': \"63\",\n        },\n{\n            'v': 0,\n            'f': \"0\",\n        },\n{\n            'v': 0,\n            'f': \"0\",\n        },\n{\n            'v': 0,\n            'f': \"0\",\n        },\n{\n            'v': 0,\n            'f': \"0\",\n        },\n{\n            'v': 0,\n            'f': \"0\",\n        },\n{\n            'v': 0,\n            'f': \"0\",\n        },\n{\n            'v': 0,\n            'f': \"0\",\n        },\n{\n            'v': 0,\n            'f': \"0\",\n        },\n{\n            'v': 0,\n            'f': \"0\",\n        },\n{\n            'v': 0,\n            'f': \"0\",\n        }],\n [{\n            'v': 64,\n            'f': \"64\",\n        },\n{\n            'v': 0,\n            'f': \"0\",\n        },\n{\n            'v': 0,\n            'f': \"0\",\n        },\n{\n            'v': 0,\n            'f': \"0\",\n        },\n{\n            'v': 0,\n            'f': \"0\",\n        },\n{\n            'v': 0,\n            'f': \"0\",\n        },\n{\n            'v': 0,\n            'f': \"0\",\n        },\n{\n            'v': 0,\n            'f': \"0\",\n        },\n{\n            'v': 0,\n            'f': \"0\",\n        },\n{\n            'v': 0,\n            'f': \"0\",\n        },\n{\n            'v': 0,\n            'f': \"0\",\n        }],\n [{\n            'v': 65,\n            'f': \"65\",\n        },\n{\n            'v': 0,\n            'f': \"0\",\n        },\n{\n            'v': 0,\n            'f': \"0\",\n        },\n{\n            'v': 0,\n            'f': \"0\",\n        },\n{\n            'v': 0,\n            'f': \"0\",\n        },\n{\n            'v': 0,\n            'f': \"0\",\n        },\n{\n            'v': 0,\n            'f': \"0\",\n        },\n{\n            'v': 0,\n            'f': \"0\",\n        },\n{\n            'v': 0,\n            'f': \"0\",\n        },\n{\n            'v': 0,\n            'f': \"0\",\n        },\n{\n            'v': 0,\n            'f': \"0\",\n        }],\n [{\n            'v': 66,\n            'f': \"66\",\n        },\n{\n            'v': 0,\n            'f': \"0\",\n        },\n{\n            'v': 0,\n            'f': \"0\",\n        },\n{\n            'v': 0,\n            'f': \"0\",\n        },\n{\n            'v': 0,\n            'f': \"0\",\n        },\n{\n            'v': 0,\n            'f': \"0\",\n        },\n{\n            'v': 0,\n            'f': \"0\",\n        },\n{\n            'v': 0,\n            'f': \"0\",\n        },\n{\n            'v': 0,\n            'f': \"0\",\n        },\n{\n            'v': 0,\n            'f': \"0\",\n        },\n{\n            'v': 0,\n            'f': \"0\",\n        }],\n [{\n            'v': 67,\n            'f': \"67\",\n        },\n{\n            'v': 0,\n            'f': \"0\",\n        },\n{\n            'v': 0,\n            'f': \"0\",\n        },\n{\n            'v': 0,\n            'f': \"0\",\n        },\n{\n            'v': 0,\n            'f': \"0\",\n        },\n{\n            'v': 0,\n            'f': \"0\",\n        },\n{\n            'v': 0,\n            'f': \"0\",\n        },\n{\n            'v': 0,\n            'f': \"0\",\n        },\n{\n            'v': 0,\n            'f': \"0\",\n        },\n{\n            'v': 0,\n            'f': \"0\",\n        },\n{\n            'v': 0,\n            'f': \"0\",\n        }],\n [{\n            'v': 68,\n            'f': \"68\",\n        },\n{\n            'v': 0,\n            'f': \"0\",\n        },\n{\n            'v': 0,\n            'f': \"0\",\n        },\n{\n            'v': 0,\n            'f': \"0\",\n        },\n{\n            'v': 0,\n            'f': \"0\",\n        },\n{\n            'v': 0,\n            'f': \"0\",\n        },\n{\n            'v': 0,\n            'f': \"0\",\n        },\n{\n            'v': 0,\n            'f': \"0\",\n        },\n{\n            'v': 0,\n            'f': \"0\",\n        },\n{\n            'v': 0,\n            'f': \"0\",\n        },\n{\n            'v': 0,\n            'f': \"0\",\n        }],\n [{\n            'v': 69,\n            'f': \"69\",\n        },\n{\n            'v': 0,\n            'f': \"0\",\n        },\n{\n            'v': 0,\n            'f': \"0\",\n        },\n{\n            'v': 0,\n            'f': \"0\",\n        },\n{\n            'v': 0,\n            'f': \"0\",\n        },\n{\n            'v': 0,\n            'f': \"0\",\n        },\n{\n            'v': 0,\n            'f': \"0\",\n        },\n{\n            'v': 0,\n            'f': \"0\",\n        },\n{\n            'v': 0,\n            'f': \"0\",\n        },\n{\n            'v': 0,\n            'f': \"0\",\n        },\n{\n            'v': 0,\n            'f': \"0\",\n        }]],\n        columns: [[\"number\", \"index\"], [\"number\", \"brad\"], [\"number\", \"rf\"], [\"number\", \"north\"], [\"number\", \"east\"], [\"number\", \"dtvd\"], [\"number\", \"dr\"], [\"number\", \"yoff\"], [\"number\", \"xoff\"], [\"number\", \"r\"], [\"number\", \"tvd\"]],\n        columnOptions: [{\"width\": \"1px\", \"className\": \"index_column\"}],\n        rowsPerPage: 25,\n        helpUrl: \"https://colab.research.google.com/notebooks/data_table.ipynb\",\n        suppressOutputScrolling: true,\n        minimumWidth: undefined,\n      });\n    ",
            "text/html": [
              "<div>\n",
              "<style scoped>\n",
              "    .dataframe tbody tr th:only-of-type {\n",
              "        vertical-align: middle;\n",
              "    }\n",
              "\n",
              "    .dataframe tbody tr th {\n",
              "        vertical-align: top;\n",
              "    }\n",
              "\n",
              "    .dataframe thead th {\n",
              "        text-align: right;\n",
              "    }\n",
              "</style>\n",
              "<table border=\"1\" class=\"dataframe\">\n",
              "  <thead>\n",
              "    <tr style=\"text-align: right;\">\n",
              "      <th></th>\n",
              "      <th>brad</th>\n",
              "      <th>rf</th>\n",
              "      <th>north</th>\n",
              "      <th>east</th>\n",
              "      <th>dtvd</th>\n",
              "      <th>dr</th>\n",
              "      <th>yoff</th>\n",
              "      <th>xoff</th>\n",
              "      <th>r</th>\n",
              "      <th>tvd</th>\n",
              "    </tr>\n",
              "  </thead>\n",
              "  <tbody>\n",
              "    <tr>\n",
              "      <th>0</th>\n",
              "      <td>0.0</td>\n",
              "      <td>0.0</td>\n",
              "      <td>0.0</td>\n",
              "      <td>0.0</td>\n",
              "      <td>0.0</td>\n",
              "      <td>0.0</td>\n",
              "      <td>0.0</td>\n",
              "      <td>0.0</td>\n",
              "      <td>0.0</td>\n",
              "      <td>0.0</td>\n",
              "    </tr>\n",
              "    <tr>\n",
              "      <th>1</th>\n",
              "      <td>0.0</td>\n",
              "      <td>0.0</td>\n",
              "      <td>0.0</td>\n",
              "      <td>0.0</td>\n",
              "      <td>0.0</td>\n",
              "      <td>0.0</td>\n",
              "      <td>0.0</td>\n",
              "      <td>0.0</td>\n",
              "      <td>0.0</td>\n",
              "      <td>0.0</td>\n",
              "    </tr>\n",
              "    <tr>\n",
              "      <th>2</th>\n",
              "      <td>0.0</td>\n",
              "      <td>0.0</td>\n",
              "      <td>0.0</td>\n",
              "      <td>0.0</td>\n",
              "      <td>0.0</td>\n",
              "      <td>0.0</td>\n",
              "      <td>0.0</td>\n",
              "      <td>0.0</td>\n",
              "      <td>0.0</td>\n",
              "      <td>0.0</td>\n",
              "    </tr>\n",
              "    <tr>\n",
              "      <th>3</th>\n",
              "      <td>0.0</td>\n",
              "      <td>0.0</td>\n",
              "      <td>0.0</td>\n",
              "      <td>0.0</td>\n",
              "      <td>0.0</td>\n",
              "      <td>0.0</td>\n",
              "      <td>0.0</td>\n",
              "      <td>0.0</td>\n",
              "      <td>0.0</td>\n",
              "      <td>0.0</td>\n",
              "    </tr>\n",
              "    <tr>\n",
              "      <th>4</th>\n",
              "      <td>0.0</td>\n",
              "      <td>0.0</td>\n",
              "      <td>0.0</td>\n",
              "      <td>0.0</td>\n",
              "      <td>0.0</td>\n",
              "      <td>0.0</td>\n",
              "      <td>0.0</td>\n",
              "      <td>0.0</td>\n",
              "      <td>0.0</td>\n",
              "      <td>0.0</td>\n",
              "    </tr>\n",
              "    <tr>\n",
              "      <th>...</th>\n",
              "      <td>...</td>\n",
              "      <td>...</td>\n",
              "      <td>...</td>\n",
              "      <td>...</td>\n",
              "      <td>...</td>\n",
              "      <td>...</td>\n",
              "      <td>...</td>\n",
              "      <td>...</td>\n",
              "      <td>...</td>\n",
              "      <td>...</td>\n",
              "    </tr>\n",
              "    <tr>\n",
              "      <th>65</th>\n",
              "      <td>0.0</td>\n",
              "      <td>0.0</td>\n",
              "      <td>0.0</td>\n",
              "      <td>0.0</td>\n",
              "      <td>0.0</td>\n",
              "      <td>0.0</td>\n",
              "      <td>0.0</td>\n",
              "      <td>0.0</td>\n",
              "      <td>0.0</td>\n",
              "      <td>0.0</td>\n",
              "    </tr>\n",
              "    <tr>\n",
              "      <th>66</th>\n",
              "      <td>0.0</td>\n",
              "      <td>0.0</td>\n",
              "      <td>0.0</td>\n",
              "      <td>0.0</td>\n",
              "      <td>0.0</td>\n",
              "      <td>0.0</td>\n",
              "      <td>0.0</td>\n",
              "      <td>0.0</td>\n",
              "      <td>0.0</td>\n",
              "      <td>0.0</td>\n",
              "    </tr>\n",
              "    <tr>\n",
              "      <th>67</th>\n",
              "      <td>0.0</td>\n",
              "      <td>0.0</td>\n",
              "      <td>0.0</td>\n",
              "      <td>0.0</td>\n",
              "      <td>0.0</td>\n",
              "      <td>0.0</td>\n",
              "      <td>0.0</td>\n",
              "      <td>0.0</td>\n",
              "      <td>0.0</td>\n",
              "      <td>0.0</td>\n",
              "    </tr>\n",
              "    <tr>\n",
              "      <th>68</th>\n",
              "      <td>0.0</td>\n",
              "      <td>0.0</td>\n",
              "      <td>0.0</td>\n",
              "      <td>0.0</td>\n",
              "      <td>0.0</td>\n",
              "      <td>0.0</td>\n",
              "      <td>0.0</td>\n",
              "      <td>0.0</td>\n",
              "      <td>0.0</td>\n",
              "      <td>0.0</td>\n",
              "    </tr>\n",
              "    <tr>\n",
              "      <th>69</th>\n",
              "      <td>0.0</td>\n",
              "      <td>0.0</td>\n",
              "      <td>0.0</td>\n",
              "      <td>0.0</td>\n",
              "      <td>0.0</td>\n",
              "      <td>0.0</td>\n",
              "      <td>0.0</td>\n",
              "      <td>0.0</td>\n",
              "      <td>0.0</td>\n",
              "      <td>0.0</td>\n",
              "    </tr>\n",
              "  </tbody>\n",
              "</table>\n",
              "<p>70 rows × 10 columns</p>\n",
              "</div>"
            ],
            "text/plain": [
              "    brad   rf  north  east  dtvd   dr  yoff  xoff    r  tvd\n",
              "0    0.0  0.0    0.0   0.0   0.0  0.0   0.0   0.0  0.0  0.0\n",
              "1    0.0  0.0    0.0   0.0   0.0  0.0   0.0   0.0  0.0  0.0\n",
              "2    0.0  0.0    0.0   0.0   0.0  0.0   0.0   0.0  0.0  0.0\n",
              "3    0.0  0.0    0.0   0.0   0.0  0.0   0.0   0.0  0.0  0.0\n",
              "4    0.0  0.0    0.0   0.0   0.0  0.0   0.0   0.0  0.0  0.0\n",
              "..   ...  ...    ...   ...   ...  ...   ...   ...  ...  ...\n",
              "65   0.0  0.0    0.0   0.0   0.0  0.0   0.0   0.0  0.0  0.0\n",
              "66   0.0  0.0    0.0   0.0   0.0  0.0   0.0   0.0  0.0  0.0\n",
              "67   0.0  0.0    0.0   0.0   0.0  0.0   0.0   0.0  0.0  0.0\n",
              "68   0.0  0.0    0.0   0.0   0.0  0.0   0.0   0.0  0.0  0.0\n",
              "69   0.0  0.0    0.0   0.0   0.0  0.0   0.0   0.0  0.0  0.0\n",
              "\n",
              "[70 rows x 10 columns]"
            ]
          },
          "metadata": {
            "tags": []
          },
          "execution_count": 49
        }
      ]
    },
    {
      "cell_type": "markdown",
      "metadata": {
        "id": "1FkOvePR5j4h",
        "colab_type": "text"
      },
      "source": [
        "---\n",
        "Now after put the equation and calculate all of them to the dataframe."
      ]
    },
    {
      "cell_type": "code",
      "metadata": {
        "id": "hI-bMIh7Zj57",
        "colab_type": "code",
        "colab": {}
      },
      "source": [
        "for i in range(1,datalength):\n",
        "  df_com['brad'].values[i]=np.arccos(np.cos((df_raw['Inclination'].values[i]-df_raw['Inclination'].values[i-1])*(np.pi/180.0))-\n",
        "                                   (np.sin(df_raw['Inclination'].values[i-1]*(np.pi/180.0))*np.sin(df_raw['Inclination'].values[i]*(np.pi/180.0)))*\n",
        "                                    (1.0-np.cos((df_raw['Azimuth'].values[i]-df_raw['Azimuth'].values[i-1])*(np.pi/180.0))))\n",
        "  if df_com['brad'].values[i]==0.0:\n",
        "    df_com['rf'].values[i]=0.0\n",
        "  else:\n",
        "    df_com['rf'].values[i]=(2.0/df_com['brad'].values[i])*np.tan(df_com['brad'].values[i]/2.0)\n",
        "\n",
        "  if df_com['brad'].values[i]==0.0:\n",
        "    df_com['north'].values[i]=(df_raw['MD(M)'].values[i]-df_raw['MD(M)'].values[i-1])*np.sin(df_raw['Inclination'].values[i]*(np.pi/180.0))*np.cos(df_raw['Azimuth'].values[i]*(np.pi/180.0))\n",
        "  else:\n",
        "    df_com['north'].values[i]=(df_raw['MD(M)'].values[i]-df_raw['MD(M)'].values[i-1])/2.0*((np.sin(df_raw['Inclination'].values[i-1]*(np.pi/180.0))*np.cos(df_raw['Azimuth'].values[i-1]*(np.pi/180.0)))+\n",
        "                                                                                          (np.sin(df_raw['Inclination'].values[i]*(np.pi/180.0))*np.cos(df_raw['Azimuth'].values[i]*(np.pi/180.0))))*df_com['rf'].values[i]\n",
        "\n",
        "  if df_com['brad'].values[i]==0.0:\n",
        "    df_com['east'].values[i]=(df_raw['MD(M)'].values[i]-df_raw['MD(M)'].values[i-1])*np.sin(df_raw['Inclination'].values[i]*(np.pi/180.0))*np.sin(df_raw['Azimuth'].values[i]*(np.pi/180.0))\n",
        "  else:\n",
        "    df_com['east'].values[i]=(df_raw['MD(M)'].values[i]-df_raw['MD(M)'].values[i-1])/2.0*((np.sin(df_raw['Inclination'].values[i-1]*(np.pi/180.0))*np.sin(df_raw['Azimuth'].values[i-1]*(np.pi/180.0)))+\n",
        "                                                                                          (np.sin(df_raw['Inclination'].values[i]*(np.pi/180.0))*np.sin(df_raw['Azimuth'].values[i]*(np.pi/180.0))))*df_com['rf'].values[i]\n",
        "\n",
        "  df_com['dr'].values[i]=np.sqrt((df_com['north'].values[i]**2)+(df_com['east'].values[i]**2))\n",
        "  df_com['r'].values[i]=df_com['r'].values[i-1]+df_com['dr'].values[i]\n",
        "  df_com['xoff'].values[i]=df_com['xoff'].values[i-1]+df_com['east'].values[i]\n",
        "  df_com['yoff'].values[i]=df_com['yoff'].values[i-1]+df_com['north'].values[i]\n",
        "\n",
        "  if df_com['brad'].values[i]==0.0:\n",
        "    df_com['dtvd'].values[i]=(df_raw['MD(M)'].values[i]-df_raw['MD(M)'].values[i-1])*np.cos(df_raw['Inclination'].values[i]*(np.pi/180.0))\n",
        "  else:\n",
        "    df_com['dtvd'].values[i]=(df_raw['MD(M)'].values[i]-df_raw['MD(M)'].values[i-1])/2.0*((np.cos(df_raw['Inclination'].values[i-1]*(np.pi/180.0))+\n",
        "                                                                                          np.cos(df_raw['Inclination'].values[i]*(np.pi/180.0)))*df_com['rf'].values[i])\n",
        "  df_com['tvd'].values[i]=df_com['tvd'].values[i-1]+df_com['dtvd'].values[i]"
      ],
      "execution_count": 50,
      "outputs": []
    },
    {
      "cell_type": "markdown",
      "metadata": {
        "id": "wvpkFv4BGTrG",
        "colab_type": "text"
      },
      "source": [
        "... and boom! here's our computed result using Minimum Curvature.\n"
      ]
    },
    {
      "cell_type": "code",
      "metadata": {
        "id": "pu1Dc37bGc7d",
        "colab_type": "code",
        "colab": {
          "base_uri": "https://localhost:8080/",
          "height": 650
        },
        "outputId": "fa1436e1-3c2f-445c-d5c5-4870f45a8a55"
      },
      "source": [
        "df_com"
      ],
      "execution_count": 51,
      "outputs": [
        {
          "output_type": "execute_result",
          "data": {
            "application/vnd.google.colaboratory.module+javascript": "\n      import \"https://ssl.gstatic.com/colaboratory/data_table/a6224c040fa35dcf/data_table.js\";\n\n      window.createDataTable({\n        data: [[{\n            'v': 0,\n            'f': \"0\",\n        },\n{\n            'v': 0,\n            'f': \"0\",\n        },\n{\n            'v': 0,\n            'f': \"0\",\n        },\n{\n            'v': 0,\n            'f': \"0\",\n        },\n{\n            'v': 0,\n            'f': \"0\",\n        },\n{\n            'v': 0,\n            'f': \"0\",\n        },\n{\n            'v': 0,\n            'f': \"0\",\n        },\n{\n            'v': 0,\n            'f': \"0\",\n        },\n{\n            'v': 0,\n            'f': \"0\",\n        },\n{\n            'v': 0,\n            'f': \"0\",\n        },\n{\n            'v': 0,\n            'f': \"0\",\n        }],\n [{\n            'v': 1,\n            'f': \"1\",\n        },\n{\n            'v': 0,\n            'f': \"0\",\n        },\n{\n            'v': 0,\n            'f': \"0\",\n        },\n{\n            'v': 0,\n            'f': \"0\",\n        },\n{\n            'v': 0,\n            'f': \"0\",\n        },\n{\n            'v': 168.9,\n            'f': \"168.9\",\n        },\n{\n            'v': 0,\n            'f': \"0\",\n        },\n{\n            'v': 0,\n            'f': \"0\",\n        },\n{\n            'v': 0,\n            'f': \"0\",\n        },\n{\n            'v': 0,\n            'f': \"0\",\n        },\n{\n            'v': 168.9,\n            'f': \"168.9\",\n        }],\n [{\n            'v': 2,\n            'f': \"2\",\n        },\n{\n            'v': 0.04363323129985742,\n            'f': \"0.04363323129985742\",\n        },\n{\n            'v': 1.0001586851176143,\n            'f': \"1.0001586851176143\",\n        },\n{\n            'v': 0.20937439015086542,\n            'f': \"0.20937439015086542\",\n        },\n{\n            'v': 0.0036546435743893164,\n            'f': \"0.0036546435743893164\",\n        },\n{\n            'v': 9.596954115763273,\n            'f': \"9.596954115763273\",\n        },\n{\n            'v': 0.20940628374216147,\n            'f': \"0.20940628374216147\",\n        },\n{\n            'v': 0.20937439015086542,\n            'f': \"0.20937439015086542\",\n        },\n{\n            'v': 0.0036546435743893164,\n            'f': \"0.0036546435743893164\",\n        },\n{\n            'v': 0.20940628374216147,\n            'f': \"0.20940628374216147\",\n        },\n{\n            'v': 178.4969541157633,\n            'f': \"178.4969541157633\",\n        }],\n [{\n            'v': 3,\n            'f': \"3\",\n        },\n{\n            'v': 0.03490792923277778,\n            'f': \"0.03490792923277778\",\n        },\n{\n            'v': 1.000101559335945,\n            'f': \"1.000101559335945\",\n        },\n{\n            'v': 0.7262810409359579,\n            'f': \"0.7262810409359579\",\n        },\n{\n            'v': 0.015122216819316229,\n            'f': \"0.015122216819316229\",\n        },\n{\n            'v': 11.877201172295555,\n            'f': \"11.877201172295555\",\n        },\n{\n            'v': 0.7264384570385498,\n            'f': \"0.7264384570385498\",\n        },\n{\n            'v': 0.9356554310868234,\n            'f': \"0.9356554310868234\",\n        },\n{\n            'v': 0.018776860393705547,\n            'f': \"0.018776860393705547\",\n        },\n{\n            'v': 0.9358447407807113,\n            'f': \"0.9358447407807113\",\n        },\n{\n            'v': 190.37415528805883,\n            'f': \"190.37415528805883\",\n        }],\n [{\n            'v': 4,\n            'f': \"4\",\n        },\n{\n            'v': 0.024439134008768966,\n            'f': \"0.024439134008768966\",\n        },\n{\n            'v': 1.0000497755788793,\n            'f': \"1.0000497755788793\",\n        },\n{\n            'v': 1.8573038900400978,\n            'f': \"1.8573038900400978\",\n        },\n{\n            'v': 0.047666550972627675,\n            'f': \"0.047666550972627675\",\n        },\n{\n            'v': 20.41512267018624,\n            'f': \"20.41512267018624\",\n        },\n{\n            'v': 1.8579154555683384,\n            'f': \"1.8579154555683384\",\n        },\n{\n            'v': 2.7929593211269212,\n            'f': \"2.7929593211269212\",\n        },\n{\n            'v': 0.06644341136633322,\n            'f': \"0.06644341136633322\",\n        },\n{\n            'v': 2.7937601963490497,\n            'f': \"2.7937601963490497\",\n        },\n{\n            'v': 210.78927795824507,\n            'f': \"210.78927795824507\",\n        }],\n [{\n            'v': 5,\n            'f': \"5\",\n        },\n{\n            'v': 0.01583267086532957,\n            'f': \"0.01583267086532957\",\n        },\n{\n            'v': 1.0000208899792173,\n            'f': \"1.0000208899792173\",\n        },\n{\n            'v': 0.5746944528267359,\n            'f': \"0.5746944528267359\",\n        },\n{\n            'v': 0.021588837274177222,\n            'f': \"0.021588837274177222\",\n        },\n{\n            'v': 5.168045603691651,\n            'f': \"5.168045603691651\",\n        },\n{\n            'v': 0.5750998104717757,\n            'f': \"0.5750998104717757\",\n        },\n{\n            'v': 3.3676537739536574,\n            'f': \"3.3676537739536574\",\n        },\n{\n            'v': 0.08803224864051044,\n            'f': \"0.08803224864051044\",\n        },\n{\n            'v': 3.3688600068208254,\n            'f': \"3.3688600068208254\",\n        },\n{\n            'v': 215.9573235619367,\n            'f': \"215.9573235619367\",\n        }],\n [{\n            'v': 6,\n            'f': \"6\",\n        },\n{\n            'v': 0.010708358577408377,\n            'f': \"0.010708358577408377\",\n        },\n{\n            'v': 1.0000095558548612,\n            'f': \"1.0000095558548612\",\n        },\n{\n            'v': 2.427061364125033,\n            'f': \"2.427061364125033\",\n        },\n{\n            'v': 0.21574918195294307,\n            'f': \"0.21574918195294307\",\n        },\n{\n            'v': 20.15313592504242,\n            'f': \"20.15313592504242\",\n        },\n{\n            'v': 2.4366318094332247,\n            'f': \"2.4366318094332247\",\n        },\n{\n            'v': 5.79471513807869,\n            'f': \"5.79471513807869\",\n        },\n{\n            'v': 0.3037814305934535,\n            'f': \"0.3037814305934535\",\n        },\n{\n            'v': 5.80549181625405,\n            'f': \"5.80549181625405\",\n        },\n{\n            'v': 236.11045948697912,\n            'f': \"236.11045948697912\",\n        }],\n [{\n            'v': 7,\n            'f': \"7\",\n        },\n{\n            'v': 0.004134906957324751,\n            'f': \"0.004134906957324751\",\n        },\n{\n            'v': 1.000001424790398,\n            'f': \"1.000001424790398\",\n        },\n{\n            'v': 3.401377595721651,\n            'f': \"3.401377595721651\",\n        },\n{\n            'v': 0.39227899381589465,\n            'f': \"0.39227899381589465\",\n        },\n{\n            'v': 27.689088799990657,\n            'f': \"27.689088799990657\",\n        },\n{\n            'v': 3.423923532683873,\n            'f': \"3.423923532683873\",\n        },\n{\n            'v': 9.196092733800342,\n            'f': \"9.196092733800342\",\n        },\n{\n            'v': 0.6960604244093482,\n            'f': \"0.6960604244093482\",\n        },\n{\n            'v': 9.229415348937923,\n            'f': \"9.229415348937923\",\n        },\n{\n            'v': 263.79954828696975,\n            'f': \"263.79954828696975\",\n        }],\n [{\n            'v': 8,\n            'f': \"8\",\n        },\n{\n            'v': 0.02420886342183884,\n            'f': \"0.02420886342183884\",\n        },\n{\n            'v': 1.0000488419514924,\n            'f': \"1.0000488419514924\",\n        },\n{\n            'v': 2.391081916986319,\n            'f': \"2.391081916986319\",\n        },\n{\n            'v': 0.3215916214295494,\n            'f': \"0.3215916214295494\",\n        },\n{\n            'v': 17.736224453599927,\n            'f': \"17.736224453599927\",\n        },\n{\n            'v': 2.4126114284552034,\n            'f': \"2.4126114284552034\",\n        },\n{\n            'v': 11.587174650786661,\n            'f': \"11.587174650786661\",\n        },\n{\n            'v': 1.0176520458388976,\n            'f': \"1.0176520458388976\",\n        },\n{\n            'v': 11.642026777393127,\n            'f': \"11.642026777393127\",\n        },\n{\n            'v': 281.53577274056966,\n            'f': \"281.53577274056966\",\n        }],\n [{\n            'v': 9,\n            'f': \"9\",\n        },\n{\n            'v': 0.05239986877045131,\n            'f': \"0.05239986877045131\",\n        },\n{\n            'v': 1.0002288750307444,\n            'f': \"1.0002288750307444\",\n        },\n{\n            'v': 5.740272570852214,\n            'f': \"5.740272570852214\",\n        },\n{\n            'v': 0.9002613425773615,\n            'f': \"0.9002613425773615\",\n        },\n{\n            'v': 33.29290344887299,\n            'f': \"33.29290344887299\",\n        },\n{\n            'v': 5.81043885370266,\n            'f': \"5.81043885370266\",\n        },\n{\n            'v': 17.327447221638877,\n            'f': \"17.327447221638877\",\n        },\n{\n            'v': 1.9179133884162591,\n            'f': \"1.9179133884162591\",\n        },\n{\n            'v': 17.452465631095787,\n            'f': \"17.452465631095787\",\n        },\n{\n            'v': 314.82867618944266,\n            'f': \"314.82867618944266\",\n        }],\n [{\n            'v': 10,\n            'f': \"10\",\n        },\n{\n            'v': 0.016648093261427955,\n            'f': \"0.016648093261427955\",\n        },\n{\n            'v': 1.0000230972242639,\n            'f': \"1.0000230972242639\",\n        },\n{\n            'v': 3.2815031078900296,\n            'f': \"3.2815031078900296\",\n        },\n{\n            'v': 0.5443570738262645,\n            'f': \"0.5443570738262645\",\n        },\n{\n            'v': 15.85463185689123,\n            'f': \"15.85463185689123\",\n        },\n{\n            'v': 3.3263474368917954,\n            'f': \"3.3263474368917954\",\n        },\n{\n            'v': 20.608950329528906,\n            'f': \"20.608950329528906\",\n        },\n{\n            'v': 2.4622704622425235,\n            'f': \"2.4622704622425235\",\n        },\n{\n            'v': 20.77881306798758,\n            'f': \"20.77881306798758\",\n        },\n{\n            'v': 330.6833080463339,\n            'f': \"330.6833080463339\",\n        }],\n [{\n            'v': 11,\n            'f': \"11\",\n        },\n{\n            'v': 0.024455862169626797,\n            'f': \"0.024455862169626797\",\n        },\n{\n            'v': 1.0000498437473078,\n            'f': \"1.0000498437473078\",\n        },\n{\n            'v': 1.949302974895279,\n            'f': \"1.949302974895279\",\n        },\n{\n            'v': 0.34452581094312146,\n            'f': \"0.34452581094312146\",\n        },\n{\n            'v': 8.574244006655654,\n            'f': \"8.574244006655654\",\n        },\n{\n            'v': 1.9795151230393773,\n            'f': \"1.9795151230393773\",\n        },\n{\n            'v': 22.558253304424184,\n            'f': \"22.558253304424184\",\n        },\n{\n            'v': 2.806796273185645,\n            'f': \"2.806796273185645\",\n        },\n{\n            'v': 22.75832819102696,\n            'f': \"22.75832819102696\",\n        },\n{\n            'v': 339.2575520529895,\n            'f': \"339.2575520529895\",\n        }],\n [{\n            'v': 12,\n            'f': \"12\",\n        },\n{\n            'v': 0.015112221325712527,\n            'f': \"0.015112221325712527\",\n        },\n{\n            'v': 1.0000190320374354,\n            'f': \"1.0000190320374354\",\n        },\n{\n            'v': 2.9547709084404534,\n            'f': \"2.9547709084404534\",\n        },\n{\n            'v': 0.573045312638971,\n            'f': \"0.573045312638971\",\n        },\n{\n            'v': 12.02904907593816,\n            'f': \"12.02904907593816\",\n        },\n{\n            'v': 3.0098259171758617,\n            'f': \"3.0098259171758617\",\n        },\n{\n            'v': 25.513024212864636,\n            'f': \"25.513024212864636\",\n        },\n{\n            'v': 3.3798415858246162,\n            'f': \"3.3798415858246162\",\n        },\n{\n            'v': 25.768154108202822,\n            'f': \"25.768154108202822\",\n        },\n{\n            'v': 351.28660112892766,\n            'f': \"351.28660112892766\",\n        }],\n [{\n            'v': 13,\n            'f': \"13\",\n        },\n{\n            'v': 0.05942362567608001,\n            'f': \"0.05942362567608001\",\n        },\n{\n            'v': 1.0002943678873701,\n            'f': \"1.0002943678873701\",\n        },\n{\n            'v': 5.768995200555596,\n            'f': \"5.768995200555596\",\n        },\n{\n            'v': 1.2640074562196706,\n            'f': \"1.2640074562196706\",\n        },\n{\n            'v': 20.461610167153864,\n            'f': \"20.461610167153864\",\n        },\n{\n            'v': 5.905846296121532,\n            'f': \"5.905846296121532\",\n        },\n{\n            'v': 31.28201941342023,\n            'f': \"31.28201941342023\",\n        },\n{\n            'v': 4.643849042044287,\n            'f': \"4.643849042044287\",\n        },\n{\n            'v': 31.674000404324353,\n            'f': \"31.674000404324353\",\n        },\n{\n            'v': 371.74821129608154,\n            'f': \"371.74821129608154\",\n        }],\n [{\n            'v': 14,\n            'f': \"14\",\n        },\n{\n            'v': 0.09022076199291518,\n            'f': \"0.09022076199291518\",\n        },\n{\n            'v': 1.000678868080653,\n            'f': \"1.000678868080653\",\n        },\n{\n            'v': 6.124425699684749,\n            'f': \"6.124425699684749\",\n        },\n{\n            'v': 1.8476339643936104,\n            'f': \"1.8476339643936104\",\n        },\n{\n            'v': 17.565036942397693,\n            'f': \"17.565036942397693\",\n        },\n{\n            'v': 6.397057246683031,\n            'f': \"6.397057246683031\",\n        },\n{\n            'v': 37.40644511310498,\n            'f': \"37.40644511310498\",\n        },\n{\n            'v': 6.491483006437897,\n            'f': \"6.491483006437897\",\n        },\n{\n            'v': 38.071057651007386,\n            'f': \"38.071057651007386\",\n        },\n{\n            'v': 389.3132482384792,\n            'f': \"389.3132482384792\",\n        }],\n [{\n            'v': 15,\n            'f': \"15\",\n        },\n{\n            'v': 0.05557481358293442,\n            'f': \"0.05557481358293442\",\n        },\n{\n            'v': 1.0002574595102691,\n            'f': \"1.0002574595102691\",\n        },\n{\n            'v': 14.560570422577715,\n            'f': \"14.560570422577715\",\n        },\n{\n            'v': 5.742514232880674,\n            'f': \"5.742514232880674\",\n        },\n{\n            'v': 35.49740679271781,\n            'f': \"35.49740679271781\",\n        },\n{\n            'v': 15.652050368743454,\n            'f': \"15.652050368743454\",\n        },\n{\n            'v': 51.96701553568269,\n            'f': \"51.96701553568269\",\n        },\n{\n            'v': 12.23399723931857,\n            'f': \"12.23399723931857\",\n        },\n{\n            'v': 53.72310801975084,\n            'f': \"53.72310801975084\",\n        },\n{\n            'v': 424.81065503119703,\n            'f': \"424.81065503119703\",\n        }],\n [{\n            'v': 16,\n            'f': \"16\",\n        },\n{\n            'v': 0.06895295723989979,\n            'f': \"0.06895295723989979\",\n        },\n{\n            'v': 1.000396397661421,\n            'f': \"1.000396397661421\",\n        },\n{\n            'v': 6.051204226773281,\n            'f': \"6.051204226773281\",\n        },\n{\n            'v': 2.6981570774369454,\n            'f': \"2.6981570774369454\",\n        },\n{\n            'v': 12.894556448736026,\n            'f': \"12.894556448736026\",\n        },\n{\n            'v': 6.625490488155719,\n            'f': \"6.625490488155719\",\n        },\n{\n            'v': 58.01821976245597,\n            'f': \"58.01821976245597\",\n        },\n{\n            'v': 14.932154316755517,\n            'f': \"14.932154316755517\",\n        },\n{\n            'v': 60.34859850790656,\n            'f': \"60.34859850790656\",\n        },\n{\n            'v': 437.70521147993304,\n            'f': \"437.70521147993304\",\n        }],\n [{\n            'v': 17,\n            'f': \"17\",\n        },\n{\n            'v': 0.04280214602958362,\n            'f': \"0.04280214602958362\",\n        },\n{\n            'v': 1.0001526966165044,\n            'f': \"1.0001526966165044\",\n        },\n{\n            'v': 13.666451787037019,\n            'f': \"13.666451787037019\",\n        },\n{\n            'v': 6.263360779913942,\n            'f': \"6.263360779913942\",\n        },\n{\n            'v': 25.727472470325075,\n            'f': \"25.727472470325075\",\n        },\n{\n            'v': 15.033349350918828,\n            'f': \"15.033349350918828\",\n        },\n{\n            'v': 71.68467154949299,\n            'f': \"71.68467154949299\",\n        },\n{\n            'v': 21.19551509666946,\n            'f': \"21.19551509666946\",\n        },\n{\n            'v': 75.38194785882538,\n            'f': \"75.38194785882538\",\n        },\n{\n            'v': 463.43268395025814,\n            'f': \"463.43268395025814\",\n        }],\n [{\n            'v': 18,\n            'f': \"18\",\n        },\n{\n            'v': 0.04079136891204343,\n            'f': \"0.04079136891204343\",\n        },\n{\n            'v': 1.0001386843910476,\n            'f': \"1.0001386843910476\",\n        },\n{\n            'v': 13.397274379662832,\n            'f': \"13.397274379662832\",\n        },\n{\n            'v': 6.115958588535263,\n            'f': \"6.115958588535263\",\n        },\n{\n            'v': 22.98466342106692,\n            'f': \"22.98466342106692\",\n        },\n{\n            'v': 14.727250600863977,\n            'f': \"14.727250600863977\",\n        },\n{\n            'v': 85.08194592915582,\n            'f': \"85.08194592915582\",\n        },\n{\n            'v': 27.311473685204724,\n            'f': \"27.311473685204724\",\n        },\n{\n            'v': 90.10919845968937,\n            'f': \"90.10919845968937\",\n        },\n{\n            'v': 486.41734737132504,\n            'f': \"486.41734737132504\",\n        }],\n [{\n            'v': 19,\n            'f': \"19\",\n        },\n{\n            'v': 0.04888173050562401,\n            'f': \"0.04888173050562401\",\n        },\n{\n            'v': 1.0001991662208172,\n            'f': \"1.0001991662208172\",\n        },\n{\n            'v': 23.325610889157154,\n            'f': \"23.325610889157154\",\n        },\n{\n            'v': 10.80418678132586,\n            'f': \"10.80418678132586\",\n        },\n{\n            'v': 36.441039740521546,\n            'f': \"36.441039740521546\",\n        },\n{\n            'v': 25.706313920088643,\n            'f': \"25.706313920088643\",\n        },\n{\n            'v': 108.40755681831297,\n            'f': \"108.40755681831297\",\n        },\n{\n            'v': 38.115660466530585,\n            'f': \"38.115660466530585\",\n        },\n{\n            'v': 115.81551237977801,\n            'f': \"115.81551237977801\",\n        },\n{\n            'v': 522.8583871118466,\n            'f': \"522.8583871118466\",\n        }],\n [{\n            'v': 20,\n            'f': \"20\",\n        },\n{\n            'v': 0.05110945377581961,\n            'f': \"0.05110945377581961\",\n        },\n{\n            'v': 1.0002177382326798,\n            'f': \"1.0002177382326798\",\n        },\n{\n            'v': 25.580145825599335,\n            'f': \"25.580145825599335\",\n        },\n{\n            'v': 11.635621325423289,\n            'f': \"11.635621325423289\",\n        },\n{\n            'v': 35.9050951456709,\n            'f': \"35.9050951456709\",\n        },\n{\n            'v': 28.10216262296502,\n            'f': \"28.10216262296502\",\n        },\n{\n            'v': 133.98770264391231,\n            'f': \"133.98770264391231\",\n        },\n{\n            'v': 49.75128179195387,\n            'f': \"49.75128179195387\",\n        },\n{\n            'v': 143.91767500274304,\n            'f': \"143.91767500274304\",\n        },\n{\n            'v': 558.7634822575175,\n            'f': \"558.7634822575175\",\n        }],\n [{\n            'v': 21,\n            'f': \"21\",\n        },\n{\n            'v': 0.008455883316276789,\n            'f': \"0.008455883316276789\",\n        },\n{\n            'v': 1.000005958539493,\n            'f': \"1.000005958539493\",\n        },\n{\n            'v': 16.855387866230917,\n            'f': \"16.855387866230917\",\n        },\n{\n            'v': 7.659796194759319,\n            'f': \"7.659796194759319\",\n        },\n{\n            'v': 22.580042995818026,\n            'f': \"22.580042995818026\",\n        },\n{\n            'v': 18.514226364240386,\n            'f': \"18.514226364240386\",\n        },\n{\n            'v': 150.84309051014324,\n            'f': \"150.84309051014324\",\n        },\n{\n            'v': 57.41107798671319,\n            'f': \"57.41107798671319\",\n        },\n{\n            'v': 162.43190136698342,\n            'f': \"162.43190136698342\",\n        },\n{\n            'v': 581.3435252533355,\n            'f': \"581.3435252533355\",\n        }],\n [{\n            'v': 22,\n            'f': \"22\",\n        },\n{\n            'v': 0.01428205526743063,\n            'f': \"0.01428205526743063\",\n        },\n{\n            'v': 1.0000169984386178,\n            'f': \"1.0000169984386178\",\n        },\n{\n            'v': 27.87297367839927,\n            'f': \"27.87297367839927\",\n        },\n{\n            'v': 12.92409762415446,\n            'f': \"12.92409762415446\",\n        },\n{\n            'v': 37.138464542117056,\n            'f': \"37.138464542117056\",\n        },\n{\n            'v': 30.72352455489789,\n            'f': \"30.72352455489789\",\n        },\n{\n            'v': 178.7160641885425,\n            'f': \"178.7160641885425\",\n        },\n{\n            'v': 70.33517561086765,\n            'f': \"70.33517561086765\",\n        },\n{\n            'v': 193.15542592188132,\n            'f': \"193.15542592188132\",\n        },\n{\n            'v': 618.4819897954526,\n            'f': \"618.4819897954526\",\n        }],\n [{\n            'v': 23,\n            'f': \"23\",\n        },\n{\n            'v': 0.014026306163946737,\n            'f': \"0.014026306163946737\",\n        },\n{\n            'v': 1.000016395094603,\n            'f': \"1.000016395094603\",\n        },\n{\n            'v': 11.50080477441045,\n            'f': \"11.50080477441045\",\n        },\n{\n            'v': 5.350823268957539,\n            'f': \"5.350823268957539\",\n        },\n{\n            'v': 15.33309125500063,\n            'f': \"15.33309125500063\",\n        },\n{\n            'v': 12.684629285663796,\n            'f': \"12.684629285663796\",\n        },\n{\n            'v': 190.21686896295296,\n            'f': \"190.21686896295296\",\n        },\n{\n            'v': 75.68599887982519,\n            'f': \"75.68599887982519\",\n        },\n{\n            'v': 205.8400552075451,\n            'f': \"205.8400552075451\",\n        },\n{\n            'v': 633.8150810504533,\n            'f': \"633.8150810504533\",\n        }],\n [{\n            'v': 24,\n            'f': \"24\",\n        },\n{\n            'v': 0.040144877080987865,\n            'f': \"0.040144877080987865\",\n        },\n{\n            'v': 1.0001343225772719,\n            'f': \"1.0001343225772719\",\n        },\n{\n            'v': 13.084145064675159,\n            'f': \"13.084145064675159\",\n        },\n{\n            'v': 6.065275283743374,\n            'f': \"6.065275283743374\",\n        },\n{\n            'v': 18.425635668607917,\n            'f': \"18.425635668607917\",\n        },\n{\n            'v': 14.421595485280108,\n            'f': \"14.421595485280108\",\n        },\n{\n            'v': 203.30101402762813,\n            'f': \"203.30101402762813\",\n        },\n{\n            'v': 81.75127416356857,\n            'f': \"81.75127416356857\",\n        },\n{\n            'v': 220.2616506928252,\n            'f': \"220.2616506928252\",\n        },\n{\n            'v': 652.2407167190612,\n            'f': \"652.2407167190612\",\n        }],\n [{\n            'v': 25,\n            'f': \"25\",\n        },\n{\n            'v': 0.061633026156999664,\n            'f': \"0.061633026156999664\",\n        },\n{\n            'v': 1.000316672785588,\n            'f': \"1.000316672785588\",\n        },\n{\n            'v': 14.307850910913551,\n            'f': \"14.307850910913551\",\n        },\n{\n            'v': 7.539459431793803,\n            'f': \"7.539459431793803\",\n        },\n{\n            'v': 21.490065663929858,\n            'f': \"21.490065663929858\",\n        },\n{\n            'v': 16.172756296086153,\n            'f': \"16.172756296086153\",\n        },\n{\n            'v': 217.60886493854167,\n            'f': \"217.60886493854167\",\n        },\n{\n            'v': 89.29073359536237,\n            'f': \"89.29073359536237\",\n        },\n{\n            'v': 236.43440698891138,\n            'f': \"236.43440698891138\",\n        },\n{\n            'v': 673.730782382991,\n            'f': \"673.730782382991\",\n        }],\n [{\n            'v': 26,\n            'f': \"26\",\n        },\n{\n            'v': 0.04152257286258697,\n            'f': \"0.04152257286258697\",\n        },\n{\n            'v': 1.0001437017807815,\n            'f': \"1.0001437017807815\",\n        },\n{\n            'v': 1.5594197586747556,\n            'f': \"1.5594197586747556\",\n        },\n{\n            'v': 0.9948194778306643,\n            'f': \"0.9948194778306643\",\n        },\n{\n            'v': 2.4874009660924092,\n            'f': \"2.4874009660924092\",\n        },\n{\n            'v': 1.8497177560959155,\n            'f': \"1.8497177560959155\",\n        },\n{\n            'v': 219.16828469721642,\n            'f': \"219.16828469721642\",\n        },\n{\n            'v': 90.28555307319303,\n            'f': \"90.28555307319303\",\n        },\n{\n            'v': 238.2841247450073,\n            'f': \"238.2841247450073\",\n        },\n{\n            'v': 676.2181833490835,\n            'f': \"676.2181833490835\",\n        }],\n [{\n            'v': 27,\n            'f': \"27\",\n        },\n{\n            'v': 0.013552562911882135,\n            'f': \"0.013552562911882135\",\n        },\n{\n            'v': 1.0000153062779236,\n            'f': \"1.0000153062779236\",\n        },\n{\n            'v': 13.93495664357187,\n            'f': \"13.93495664357187\",\n        },\n{\n            'v': 9.722228461888308,\n            'f': \"9.722228461888308\",\n        },\n{\n            'v': 23.005276296105034,\n            'f': \"23.005276296105034\",\n        },\n{\n            'v': 16.991313749188993,\n            'f': \"16.991313749188993\",\n        },\n{\n            'v': 233.1032413407883,\n            'f': \"233.1032413407883\",\n        },\n{\n            'v': 100.00778153508134,\n            'f': \"100.00778153508134\",\n        },\n{\n            'v': 255.2754384941963,\n            'f': \"255.2754384941963\",\n        },\n{\n            'v': 699.2234596451885,\n            'f': \"699.2234596451885\",\n        }],\n [{\n            'v': 28,\n            'f': \"28\",\n        },\n{\n            'v': 0.025052912734850902,\n            'f': \"0.025052912734850902\",\n        },\n{\n            'v': 1.0000523073194383,\n            'f': \"1.0000523073194383\",\n        },\n{\n            'v': 7.39681823242264,\n            'f': \"7.39681823242264\",\n        },\n{\n            'v': 5.385736553311161,\n            'f': \"5.385736553311161\",\n        },\n{\n            'v': 12.011619217282906,\n            'f': \"12.011619217282906\",\n        },\n{\n            'v': 9.149813013672572,\n            'f': \"9.149813013672572\",\n        },\n{\n            'v': 240.50005957321093,\n            'f': \"240.50005957321093\",\n        },\n{\n            'v': 105.3935180883925,\n            'f': \"105.3935180883925\",\n        },\n{\n            'v': 264.4252515078689,\n            'f': \"264.4252515078689\",\n        },\n{\n            'v': 711.2350788624715,\n            'f': \"711.2350788624715\",\n        }],\n [{\n            'v': 29,\n            'f': \"29\",\n        },\n{\n            'v': 0.03898076169462987,\n            'f': \"0.03898076169462987\",\n        },\n{\n            'v': 1.00012664422548,\n            'f': \"1.00012664422548\",\n        },\n{\n            'v': 10.747743182493975,\n            'f': \"10.747743182493975\",\n        },\n{\n            'v': 8.193136449110797,\n            'f': \"8.193136449110797\",\n        },\n{\n            'v': 16.71974886701734,\n            'f': \"16.71974886701734\",\n        },\n{\n            'v': 13.514491051852216,\n            'f': \"13.514491051852216\",\n        },\n{\n            'v': 251.2478027557049,\n            'f': \"251.2478027557049\",\n        },\n{\n            'v': 113.58665453750329,\n            'f': \"113.58665453750329\",\n        },\n{\n            'v': 277.9397425597211,\n            'f': \"277.9397425597211\",\n        },\n{\n            'v': 727.9548277294888,\n            'f': \"727.9548277294888\",\n        }],\n [{\n            'v': 30,\n            'f': \"30\",\n        },\n{\n            'v': 0.013985066591274523,\n            'f': \"0.013985066591274523\",\n        },\n{\n            'v': 1.0000162988260728,\n            'f': \"1.0000162988260728\",\n        },\n{\n            'v': 11.255035812490647,\n            'f': \"11.255035812490647\",\n        },\n{\n            'v': 8.753831380400046,\n            'f': \"8.753831380400046\",\n        },\n{\n            'v': 16.753707547792892,\n            'f': \"16.753707547792892\",\n        },\n{\n            'v': 14.258520083687632,\n            'f': \"14.258520083687632\",\n        },\n{\n            'v': 262.50283856819556,\n            'f': \"262.50283856819556\",\n        },\n{\n            'v': 122.34048591790334,\n            'f': \"122.34048591790334\",\n        },\n{\n            'v': 292.1982626434087,\n            'f': \"292.1982626434087\",\n        },\n{\n            'v': 744.7085352772817,\n            'f': \"744.7085352772817\",\n        }],\n [{\n            'v': 31,\n            'f': \"31\",\n        },\n{\n            'v': 0.028262947928882884,\n            'f': \"0.028262947928882884\",\n        },\n{\n            'v': 1.0000665715031676,\n            'f': \"1.0000665715031676\",\n        },\n{\n            'v': 28.898083424626655,\n            'f': \"28.898083424626655\",\n        },\n{\n            'v': 23.246771183649965,\n            'f': \"23.246771183649965\",\n        },\n{\n            'v': 42.22224726626382,\n            'f': \"42.22224726626382\",\n        },\n{\n            'v': 37.087890154087496,\n            'f': \"37.087890154087496\",\n        },\n{\n            'v': 291.4009219928222,\n            'f': \"291.4009219928222\",\n        },\n{\n            'v': 145.5872571015533,\n            'f': \"145.5872571015533\",\n        },\n{\n            'v': 329.28615279749624,\n            'f': \"329.28615279749624\",\n        },\n{\n            'v': 786.9307825435455,\n            'f': \"786.9307825435455\",\n        }],\n [{\n            'v': 32,\n            'f': \"32\",\n        },\n{\n            'v': 0.006363717718626411,\n            'f': \"0.006363717718626411\",\n        },\n{\n            'v': 1.0000033747556003,\n            'f': \"1.0000033747556003\",\n        },\n{\n            'v': 11.944594450280398,\n            'f': \"11.944594450280398\",\n        },\n{\n            'v': 9.996249887509741,\n            'f': \"9.996249887509741\",\n        },\n{\n            'v': 17.328872424183146,\n            'f': \"17.328872424183146\",\n        },\n{\n            'v': 15.575568958956453,\n            'f': \"15.575568958956453\",\n        },\n{\n            'v': 303.3455164431026,\n            'f': \"303.3455164431026\",\n        },\n{\n            'v': 155.58350698906304,\n            'f': \"155.58350698906304\",\n        },\n{\n            'v': 344.8617217564527,\n            'f': \"344.8617217564527\",\n        },\n{\n            'v': 804.2596549677287,\n            'f': \"804.2596549677287\",\n        }],\n [{\n            'v': 33,\n            'f': \"33\",\n        },\n{\n            'v': 0.04017448267855492,\n            'f': \"0.04017448267855492\",\n        },\n{\n            'v': 1.000134520799759,\n            'f': \"1.000134520799759\",\n        },\n{\n            'v': 16.330613480781636,\n            'f': \"16.330613480781636\",\n        },\n{\n            'v': 13.77523798990812,\n            'f': \"13.77523798990812\",\n        },\n{\n            'v': 24.62053917162731,\n            'f': \"24.62053917162731\",\n        },\n{\n            'v': 21.36459965310127,\n            'f': \"21.36459965310127\",\n        },\n{\n            'v': 319.6761299238842,\n            'f': \"319.6761299238842\",\n        },\n{\n            'v': 169.35874497897117,\n            'f': \"169.35874497897117\",\n        },\n{\n            'v': 366.226321409554,\n            'f': \"366.226321409554\",\n        },\n{\n            'v': 828.880194139356,\n            'f': \"828.880194139356\",\n        }],\n [{\n            'v': 34,\n            'f': \"34\",\n        },\n{\n            'v': 0.07332126217911684,\n            'f': \"0.07332126217911684\",\n        },\n{\n            'v': 1.0004482416005238,\n            'f': \"1.0004482416005238\",\n        },\n{\n            'v': 21.777632685425118,\n            'f': \"21.777632685425118\",\n        },\n{\n            'v': 18.370036125538142,\n            'f': \"18.370036125538142\",\n        },\n{\n            'v': 36.86276985591588,\n            'f': \"36.86276985591588\",\n        },\n{\n            'v': 28.490761882316747,\n            'f': \"28.490761882316747\",\n        },\n{\n            'v': 341.45376260930936,\n            'f': \"341.45376260930936\",\n        },\n{\n            'v': 187.72878110450932,\n            'f': \"187.72878110450932\",\n        },\n{\n            'v': 394.7170832918707,\n            'f': \"394.7170832918707\",\n        },\n{\n            'v': 865.7429639952719,\n            'f': \"865.7429639952719\",\n        }],\n [{\n            'v': 35,\n            'f': \"35\",\n        },\n{\n            'v': 0.024731393149680665,\n            'f': \"0.024731393149680665\",\n        },\n{\n            'v': 1.0000509732683343,\n            'f': \"1.0000509732683343\",\n        },\n{\n            'v': 13.587092496926106,\n            'f': \"13.587092496926106\",\n        },\n{\n            'v': 11.815258313334692,\n            'f': \"11.815258313334692\",\n        },\n{\n            'v': 24.7407126621684,\n            'f': \"24.7407126621684\",\n        },\n{\n            'v': 18.005816047345654,\n            'f': \"18.005816047345654\",\n        },\n{\n            'v': 355.0408551062355,\n            'f': \"355.0408551062355\",\n        },\n{\n            'v': 199.544039417844,\n            'f': \"199.544039417844\",\n        },\n{\n            'v': 412.7228993392164,\n            'f': \"412.7228993392164\",\n        },\n{\n            'v': 890.4836766574404,\n            'f': \"890.4836766574404\",\n        }],\n [{\n            'v': 36,\n            'f': \"36\",\n        },\n{\n            'v': 0.02720397696831025,\n            'f': \"0.02720397696831025\",\n        },\n{\n            'v': 1.0000616759279446,\n            'f': \"1.0000616759279446\",\n        },\n{\n            'v': 16.61243397778861,\n            'f': \"16.61243397778861\",\n        },\n{\n            'v': 15.108746873670038,\n            'f': \"15.108746873670038\",\n        },\n{\n            'v': 29.530965481226648,\n            'f': \"29.530965481226648\",\n        },\n{\n            'v': 22.455449110606086,\n            'f': \"22.455449110606086\",\n        },\n{\n            'v': 371.6532890840241,\n            'f': \"371.6532890840241\",\n        },\n{\n            'v': 214.65278629151405,\n            'f': \"214.65278629151405\",\n        },\n{\n            'v': 435.17834844982247,\n            'f': \"435.17834844982247\",\n        },\n{\n            'v': 920.014642138667,\n            'f': \"920.014642138667\",\n        }],\n [{\n            'v': 37,\n            'f': \"37\",\n        },\n{\n            'v': 0.021906910041668604,\n            'f': \"0.021906910041668604\",\n        },\n{\n            'v': 1.000039994645026,\n            'f': \"1.000039994645026\",\n        },\n{\n            'v': 23.20501776452118,\n            'f': \"23.20501776452118\",\n        },\n{\n            'v': 21.585232524113096,\n            'f': \"21.585232524113096\",\n        },\n{\n            'v': 39.700650904635594,\n            'f': \"39.700650904635594\",\n        },\n{\n            'v': 31.692193243317405,\n            'f': \"31.692193243317405\",\n        },\n{\n            'v': 394.8583068485453,\n            'f': \"394.8583068485453\",\n        },\n{\n            'v': 236.23801881562713,\n            'f': \"236.23801881562713\",\n        },\n{\n            'v': 466.8705416931399,\n            'f': \"466.8705416931399\",\n        },\n{\n            'v': 959.7152930433026,\n            'f': \"959.7152930433026\",\n        }],\n [{\n            'v': 38,\n            'f': \"38\",\n        },\n{\n            'v': 0.01659794074822655,\n            'f': \"0.01659794074822655\",\n        },\n{\n            'v': 1.0000229582689049,\n            'f': \"1.0000229582689049\",\n        },\n{\n            'v': 23.319657587286724,\n            'f': \"23.319657587286724\",\n        },\n{\n            'v': 22.365626210533275,\n            'f': \"22.365626210533275\",\n        },\n{\n            'v': 39.19889143039146,\n            'f': \"39.19889143039146\",\n        },\n{\n            'v': 32.3114169571313,\n            'f': \"32.3114169571313\",\n        },\n{\n            'v': 418.177964435832,\n            'f': \"418.177964435832\",\n        },\n{\n            'v': 258.6036450261604,\n            'f': \"258.6036450261604\",\n        },\n{\n            'v': 499.1819586502712,\n            'f': \"499.1819586502712\",\n        },\n{\n            'v': 998.914184473694,\n            'f': \"998.914184473694\",\n        }],\n [{\n            'v': 39,\n            'f': \"39\",\n        },\n{\n            'v': 0.01615225620293883,\n            'f': \"0.01615225620293883\",\n        },\n{\n            'v': 1.0000217418489388,\n            'f': \"1.0000217418489388\",\n        },\n{\n            'v': 13.149103373380353,\n            'f': \"13.149103373380353\",\n        },\n{\n            'v': 12.9434272808517,\n            'f': \"12.9434272808517\",\n        },\n{\n            'v': 22.5024523136214,\n            'f': \"22.5024523136214\",\n        },\n{\n            'v': 18.450778555349327,\n            'f': \"18.450778555349327\",\n        },\n{\n            'v': 431.32706780921234,\n            'f': \"431.32706780921234\",\n        },\n{\n            'v': 271.5470723070121,\n            'f': \"271.5470723070121\",\n        },\n{\n            'v': 517.6327372056205,\n            'f': \"517.6327372056205\",\n        },\n{\n            'v': 1021.4166367873154,\n            'f': \"1021.4166367873154\",\n        }],\n [{\n            'v': 40,\n            'f': \"40\",\n        },\n{\n            'v': 0.0017487745361996568,\n            'f': \"0.0017487745361996568\",\n        },\n{\n            'v': 1.0000002548511095,\n            'f': \"1.0000002548511095\",\n        },\n{\n            'v': 8.755762609560422,\n            'f': \"8.755762609560422\",\n        },\n{\n            'v': 8.66908577490318,\n            'f': \"8.66908577490318\",\n        },\n{\n            'v': 15.242817162481128,\n            'f': \"15.242817162481128\",\n        },\n{\n            'v': 12.321380890452378,\n            'f': \"12.321380890452378\",\n        },\n{\n            'v': 440.08283041877274,\n            'f': \"440.08283041877274\",\n        },\n{\n            'v': 280.2161580819153,\n            'f': \"280.2161580819153\",\n        },\n{\n            'v': 529.9541180960729,\n            'f': \"529.9541180960729\",\n        },\n{\n            'v': 1036.6594539497964,\n            'f': \"1036.6594539497964\",\n        }],\n [{\n            'v': 41,\n            'f': \"41\",\n        },\n{\n            'v': 0.023166295486869503,\n            'f': \"0.023166295486869503\",\n        },\n{\n            'v': 1.0000447255041998,\n            'f': \"1.0000447255041998\",\n        },\n{\n            'v': 2.0330872175056043,\n            'f': \"2.0330872175056043\",\n        },\n{\n            'v': 2.027621142134482,\n            'f': \"2.027621142134482\",\n        },\n{\n            'v': 3.464737110277211,\n            'f': \"3.464737110277211\",\n        },\n{\n            'v': 2.871357018905072,\n            'f': \"2.871357018905072\",\n        },\n{\n            'v': 442.11591763627837,\n            'f': \"442.11591763627837\",\n        },\n{\n            'v': 282.2437792240498,\n            'f': \"282.2437792240498\",\n        },\n{\n            'v': 532.825475114978,\n            'f': \"532.825475114978\",\n        },\n{\n            'v': 1040.1241910600736,\n            'f': \"1040.1241910600736\",\n        }],\n [{\n            'v': 42,\n            'f': \"42\",\n        },\n{\n            'v': 0.01580120511401969,\n            'f': \"0.01580120511401969\",\n        },\n{\n            'v': 1.0000208070264271,\n            'f': \"1.0000208070264271\",\n        },\n{\n            'v': 15.322785496278032,\n            'f': \"15.322785496278032\",\n        },\n{\n            'v': 15.569536645137608,\n            'f': \"15.569536645137608\",\n        },\n{\n            'v': 25.397409777036497,\n            'f': \"25.397409777036497\",\n        },\n{\n            'v': 21.844867285228155,\n            'f': \"21.844867285228155\",\n        },\n{\n            'v': 457.4387031325564,\n            'f': \"457.4387031325564\",\n        },\n{\n            'v': 297.81331586918736,\n            'f': \"297.81331586918736\",\n        },\n{\n            'v': 554.6703424002061,\n            'f': \"554.6703424002061\",\n        },\n{\n            'v': 1065.52160083711,\n            'f': \"1065.52160083711\",\n        }],\n [{\n            'v': 43,\n            'f': \"43\",\n        },\n{\n            'v': 0.03231380534093479,\n            'f': \"0.03231380534093479\",\n        },\n{\n            'v': 1.000087024254895,\n            'f': \"1.000087024254895\",\n        },\n{\n            'v': 10.166952747605745,\n            'f': \"10.166952747605745\",\n        },\n{\n            'v': 10.820112714947296,\n            'f': \"10.820112714947296\",\n        },\n{\n            'v': 16.637456608418525,\n            'f': \"16.637456608418525\",\n        },\n{\n            'v': 14.847281479658562,\n            'f': \"14.847281479658562\",\n        },\n{\n            'v': 467.60565588016215,\n            'f': \"467.60565588016215\",\n        },\n{\n            'v': 308.63342858413466,\n            'f': \"308.63342858413466\",\n        },\n{\n            'v': 569.5176238798647,\n            'f': \"569.5176238798647\",\n        },\n{\n            'v': 1082.1590574455286,\n            'f': \"1082.1590574455286\",\n        }],\n [{\n            'v': 44,\n            'f': \"44\",\n        },\n{\n            'v': 0.018786857154731086,\n            'f': \"0.018786857154731086\",\n        },\n{\n            'v': 1.0000294132049403,\n            'f': \"1.0000294132049403\",\n        },\n{\n            'v': 11.481335394032351,\n            'f': \"11.481335394032351\",\n        },\n{\n            'v': 12.883649904144024,\n            'f': \"12.883649904144024\",\n        },\n{\n            'v': 18.636832547052762,\n            'f': \"18.636832547052762\",\n        },\n{\n            'v': 17.257157856460903,\n            'f': \"17.257157856460903\",\n        },\n{\n            'v': 479.0869912741945,\n            'f': \"479.0869912741945\",\n        },\n{\n            'v': 321.5170784882787,\n            'f': \"321.5170784882787\",\n        },\n{\n            'v': 586.7747817363256,\n            'f': \"586.7747817363256\",\n        },\n{\n            'v': 1100.7958899925814,\n            'f': \"1100.7958899925814\",\n        }],\n [{\n            'v': 45,\n            'f': \"45\",\n        },\n{\n            'v': 0.03201616365044273,\n            'f': \"0.03201616365044273\",\n        },\n{\n            'v': 1.0000854283179512,\n            'f': \"1.0000854283179512\",\n        },\n{\n            'v': 7.071907857492964,\n            'f': \"7.071907857492964\",\n        },\n{\n            'v': 8.378352768569854,\n            'f': \"8.378352768569854\",\n        },\n{\n            'v': 11.925137625906887,\n            'f': \"11.925137625906887\",\n        },\n{\n            'v': 10.96397171920253,\n            'f': \"10.96397171920253\",\n        },\n{\n            'v': 486.15889913168746,\n            'f': \"486.15889913168746\",\n        },\n{\n            'v': 329.89543125684855,\n            'f': \"329.89543125684855\",\n        },\n{\n            'v': 597.7387534555281,\n            'f': \"597.7387534555281\",\n        },\n{\n            'v': 1112.7210276184883,\n            'f': \"1112.7210276184883\",\n        }],\n [{\n            'v': 46,\n            'f': \"46\",\n        },\n{\n            'v': 0.015244797434989223,\n            'f': \"0.015244797434989223\",\n        },\n{\n            'v': 1.0000193674375097,\n            'f': \"1.0000193674375097\",\n        },\n{\n            'v': 1.9684360785973354,\n            'f': \"1.9684360785973354\",\n        },\n{\n            'v': 2.397096649301528,\n            'f': \"2.397096649301528\",\n        },\n{\n            'v': 3.396877574494572,\n            'f': \"3.396877574494572\",\n        },\n{\n            'v': 3.101743532533963,\n            'f': \"3.101743532533963\",\n        },\n{\n            'v': 488.1273352102848,\n            'f': \"488.1273352102848\",\n        },\n{\n            'v': 332.2925279061501,\n            'f': \"332.2925279061501\",\n        },\n{\n            'v': 600.8404969880621,\n            'f': \"600.8404969880621\",\n        },\n{\n            'v': 1116.1179051929828,\n            'f': \"1116.1179051929828\",\n        }],\n [{\n            'v': 47,\n            'f': \"47\",\n        },\n{\n            'v': 0.06124160762215677,\n            'f': \"0.06124160762215677\",\n        },\n{\n            'v': 1.0003126618074254,\n            'f': \"1.0003126618074254\",\n        },\n{\n            'v': 10.639077243063076,\n            'f': \"10.639077243063076\",\n        },\n{\n            'v': 14.004600950432948,\n            'f': \"14.004600950432948\",\n        },\n{\n            'v': 19.414084355945405,\n            'f': \"19.414084355945405\",\n        },\n{\n            'v': 17.58746179426497,\n            'f': \"17.58746179426497\",\n        },\n{\n            'v': 498.76641245334787,\n            'f': \"498.76641245334787\",\n        },\n{\n            'v': 346.2971288565831,\n            'f': \"346.2971288565831\",\n        },\n{\n            'v': 618.4279587823271,\n            'f': \"618.4279587823271\",\n        },\n{\n            'v': 1135.531989548928,\n            'f': \"1135.531989548928\",\n        }],\n [{\n            'v': 48,\n            'f': \"48\",\n        },\n{\n            'v': 0.012007239283491062,\n            'f': \"0.012007239283491062\",\n        },\n{\n            'v': 1.0000120146561542,\n            'f': \"1.0000120146561542\",\n        },\n{\n            'v': 4.67120932519543,\n            'f': \"4.67120932519543\",\n        },\n{\n            'v': 6.800078591542848,\n            'f': \"6.800078591542848\",\n        },\n{\n            'v': 9.390785767714604,\n            'f': \"9.390785767714604\",\n        },\n{\n            'v': 8.24992517608203,\n            'f': \"8.24992517608203\",\n        },\n{\n            'v': 503.4376217785433,\n            'f': \"503.4376217785433\",\n        },\n{\n            'v': 353.0972074481259,\n            'f': \"353.0972074481259\",\n        },\n{\n            'v': 626.6778839584091,\n            'f': \"626.6778839584091\",\n        },\n{\n            'v': 1144.9227753166426,\n            'f': \"1144.9227753166426\",\n        }],\n [{\n            'v': 49,\n            'f': \"49\",\n        },\n{\n            'v': 0.012007239283491062,\n            'f': \"0.012007239283491062\",\n        },\n{\n            'v': 1.0000120146561542,\n            'f': \"1.0000120146561542\",\n        },\n{\n            'v': 3.288531364937566,\n            'f': \"3.288531364937566\",\n        },\n{\n            'v': 4.7872553284461405,\n            'f': \"4.7872553284461405\",\n        },\n{\n            'v': 6.6111131804710475,\n            'f': \"6.6111131804710475\",\n        },\n{\n            'v': 5.80794732396172,\n            'f': \"5.80794732396172\",\n        },\n{\n            'v': 506.7261531434809,\n            'f': \"506.7261531434809\",\n        },\n{\n            'v': 357.88446277657204,\n            'f': \"357.88446277657204\",\n        },\n{\n            'v': 632.4858312823708,\n            'f': \"632.4858312823708\",\n        },\n{\n            'v': 1151.5338884971136,\n            'f': \"1151.5338884971136\",\n        }],\n [{\n            'v': 50,\n            'f': \"50\",\n        },\n{\n            'v': 0.012124508093889893,\n            'f': \"0.012124508093889893\",\n        },\n{\n            'v': 1.0000122504881301,\n            'f': \"1.0000122504881301\",\n        },\n{\n            'v': 2.9468753824880776,\n            'f': \"2.9468753824880776\",\n        },\n{\n            'v': 4.307541958603807,\n            'f': \"4.307541958603807\",\n        },\n{\n            'v': 5.930450507084284,\n            'f': \"5.930450507084284\",\n        },\n{\n            'v': 5.219098796252719,\n            'f': \"5.219098796252719\",\n        },\n{\n            'v': 509.67302852596896,\n            'f': \"509.67302852596896\",\n        },\n{\n            'v': 362.19200473517583,\n            'f': \"362.19200473517583\",\n        },\n{\n            'v': 637.7049300786235,\n            'f': \"637.7049300786235\",\n        },\n{\n            'v': 1157.4643390041979,\n            'f': \"1157.4643390041979\",\n        }],\n [{\n            'v': 51,\n            'f': \"51\",\n        },\n{\n            'v': 0.058024920790130066,\n            'f': \"0.058024920790130066\",\n        },\n{\n            'v': 1.0002806687845698,\n            'f': \"1.0002806687845698\",\n        },\n{\n            'v': 3.275508891106089,\n            'f': \"3.275508891106089\",\n        },\n{\n            'v': 5.337266140793301,\n            'f': \"5.337266140793301\",\n        },\n{\n            'v': 7.274529319636578,\n            'f': \"7.274529319636578\",\n        },\n{\n            'v': 6.26221752683294,\n            'f': \"6.26221752683294\",\n        },\n{\n            'v': 512.948537417075,\n            'f': \"512.948537417075\",\n        },\n{\n            'v': 367.52927087596913,\n            'f': \"367.52927087596913\",\n        },\n{\n            'v': 643.9671476054565,\n            'f': \"643.9671476054565\",\n        },\n{\n            'v': 1164.7388683238344,\n            'f': \"1164.7388683238344\",\n        }],\n [{\n            'v': 52,\n            'f': \"52\",\n        },\n{\n            'v': 0.006560842962374003,\n            'f': \"0.006560842962374003\",\n        },\n{\n            'v': 1.0000035870704718,\n            'f': \"1.0000035870704718\",\n        },\n{\n            'v': 1.364703271892862,\n            'f': \"1.364703271892862\",\n        },\n{\n            'v': 2.4298848009200205,\n            'f': \"2.4298848009200205\",\n        },\n{\n            'v': 3.2746264686818836,\n            'f': \"3.2746264686818836\",\n        },\n{\n            'v': 2.7868898733278304,\n            'f': \"2.7868898733278304\",\n        },\n{\n            'v': 514.3132406889679,\n            'f': \"514.3132406889679\",\n        },\n{\n            'v': 369.95915567688917,\n            'f': \"369.95915567688917\",\n        },\n{\n            'v': 646.7540374787843,\n            'f': \"646.7540374787843\",\n        },\n{\n            'v': 1168.0134947925162,\n            'f': \"1168.0134947925162\",\n        }],\n [{\n            'v': 53,\n            'f': \"53\",\n        },\n{\n            'v': 0.010477421847621187,\n            'f': \"0.010477421847621187\",\n        },\n{\n            'v': 1.0000091481311393,\n            'f': \"1.0000091481311393\",\n        },\n{\n            'v': 5.14122402691453,\n            'f': \"5.14122402691453\",\n        },\n{\n            'v': 9.141465770210822,\n            'f': \"9.141465770210822\",\n        },\n{\n            'v': 12.215115546926812,\n            'f': \"12.215115546926812\",\n        },\n{\n            'v': 10.488020829635083,\n            'f': \"10.488020829635083\",\n        },\n{\n            'v': 519.4544647158824,\n            'f': \"519.4544647158824\",\n        },\n{\n            'v': 379.10062144709997,\n            'f': \"379.10062144709997\",\n        },\n{\n            'v': 657.2420583084194,\n            'f': \"657.2420583084194\",\n        },\n{\n            'v': 1180.228610339443,\n            'f': \"1180.228610339443\",\n        }],\n [{\n            'v': 54,\n            'f': \"54\",\n        },\n{\n            'v': 0.013985976598628764,\n            'f': \"0.013985976598628764\",\n        },\n{\n            'v': 1.0000163009473104,\n            'f': \"1.0000163009473104\",\n        },\n{\n            'v': -1.372198010558271,\n            'f': \"-1.372198010558271\",\n        },\n{\n            'v': -2.4354720338347757,\n            'f': \"-2.4354720338347757\",\n        },\n{\n            'v': -3.267299679486618,\n            'f': \"-3.267299679486618\",\n        },\n{\n            'v': 2.7954340285135286,\n            'f': \"2.7954340285135286\",\n        },\n{\n            'v': 518.0822667053242,\n            'f': \"518.0822667053242\",\n        },\n{\n            'v': 376.66514941326517,\n            'f': \"376.66514941326517\",\n        },\n{\n            'v': 660.0374923369329,\n            'f': \"660.0374923369329\",\n        },\n{\n            'v': 1176.9613106599566,\n            'f': \"1176.9613106599566\",\n        }],\n [{\n            'v': 55,\n            'f': \"55\",\n        },\n{\n            'v': 0.010647780838968484,\n            'f': \"0.010647780838968484\",\n        },\n{\n            'v': 1.0000094480435169,\n            'f': \"1.0000094480435169\",\n        },\n{\n            'v': 3.290669054429469,\n            'f': \"3.290669054429469\",\n        },\n{\n            'v': 5.749200454542091,\n            'f': \"5.749200454542091\",\n        },\n{\n            'v': 7.756107809212423,\n            'f': \"7.756107809212423\",\n        },\n{\n            'v': 6.624334584868636,\n            'f': \"6.624334584868636\",\n        },\n{\n            'v': 521.3729357597537,\n            'f': \"521.3729357597537\",\n        },\n{\n            'v': 382.41434986780723,\n            'f': \"382.41434986780723\",\n        },\n{\n            'v': 666.6618269218015,\n            'f': \"666.6618269218015\",\n        },\n{\n            'v': 1184.717418469169,\n            'f': \"1184.717418469169\",\n        }],\n [{\n            'v': 56,\n            'f': \"56\",\n        },\n{\n            'v': 0.008762715609122939,\n            'f': \"0.008762715609122939\",\n        },\n{\n            'v': 1.0000063988145373,\n            'f': \"1.0000063988145373\",\n        },\n{\n            'v': 3.9135474167189943,\n            'f': \"3.9135474167189943\",\n        },\n{\n            'v': 6.823720649764072,\n            'f': \"6.823720649764072\",\n        },\n{\n            'v': 9.194022311819152,\n            'f': \"9.194022311819152\",\n        },\n{\n            'v': 7.866321687353278,\n            'f': \"7.866321687353278\",\n        },\n{\n            'v': 525.2864831764726,\n            'f': \"525.2864831764726\",\n        },\n{\n            'v': 389.2380705175713,\n            'f': \"389.2380705175713\",\n        },\n{\n            'v': 674.5281486091549,\n            'f': \"674.5281486091549\",\n        },\n{\n            'v': 1193.9114407809882,\n            'f': \"1193.9114407809882\",\n        }],\n [{\n            'v': 57,\n            'f': \"57\",\n        },\n{\n            'v': 0.003556028830980604,\n            'f': \"0.003556028830980604\",\n        },\n{\n            'v': 1.0000010537797532,\n            'f': \"1.0000010537797532\",\n        },\n{\n            'v': 0.6757871205260111,\n            'f': \"0.6757871205260111\",\n        },\n{\n            'v': 1.1814277389066412,\n            'f': \"1.1814277389066412\",\n        },\n{\n            'v': 1.5992296952945337,\n            'f': \"1.5992296952945337\",\n        },\n{\n            'v': 1.3610509669100919,\n            'f': \"1.3610509669100919\",\n        },\n{\n            'v': 525.9622702969987,\n            'f': \"525.9622702969987\",\n        },\n{\n            'v': 390.41949825647794,\n            'f': \"390.41949825647794\",\n        },\n{\n            'v': 675.8891995760649,\n            'f': \"675.8891995760649\",\n        },\n{\n            'v': 1195.5106704762827,\n            'f': \"1195.5106704762827\",\n        }],\n [{\n            'v': 58,\n            'f': \"58\",\n        },\n{\n            'v': 0.002081735345474912,\n            'f': \"0.002081735345474912\",\n        },\n{\n            'v': 1.0000003611353272,\n            'f': \"1.0000003611353272\",\n        },\n{\n            'v': 2.9392120393601373,\n            'f': \"2.9392120393601373\",\n        },\n{\n            'v': 5.134220584960441,\n            'f': \"5.134220584960441\",\n        },\n{\n            'v': 6.914534088935581,\n            'f': \"6.914534088935581\",\n        },\n{\n            'v': 5.916011192294274,\n            'f': \"5.916011192294274\",\n        },\n{\n            'v': 528.9014823363588,\n            'f': \"528.9014823363588\",\n        },\n{\n            'v': 395.55371884143835,\n            'f': \"395.55371884143835\",\n        },\n{\n            'v': 681.8052107683592,\n            'f': \"681.8052107683592\",\n        },\n{\n            'v': 1202.4252045652183,\n            'f': \"1202.4252045652183\",\n        }],\n [{\n            'v': 59,\n            'f': \"59\",\n        },\n{\n            'v': 0.01163899072025642,\n            'f': \"0.01163899072025642\",\n        },\n{\n            'v': 1.00001128899501,\n            'f': \"1.00001128899501\",\n        },\n{\n            'v': 1.7579879155859104,\n            'f': \"1.7579879155859104\",\n        },\n{\n            'v': 3.092558317431706,\n            'f': \"3.092558317431706\",\n        },\n{\n            'v': 4.194665666773324,\n            'f': \"4.194665666773324\",\n        },\n{\n            'v': 3.557307754195878,\n            'f': \"3.557307754195878\",\n        },\n{\n            'v': 530.6594702519446,\n            'f': \"530.6594702519446\",\n        },\n{\n            'v': 398.6462771588701,\n            'f': \"398.6462771588701\",\n        },\n{\n            'v': 685.3625185225551,\n            'f': \"685.3625185225551\",\n        },\n{\n            'v': 1206.6198702319916,\n            'f': \"1206.6198702319916\",\n        }],\n [{\n            'v': 60,\n            'f': \"60\",\n        },\n{\n            'v': 0.030370670355532394,\n            'f': \"0.030370670355532394\",\n        },\n{\n            'v': 1.000076871891986,\n            'f': \"1.000076871891986\",\n        },\n{\n            'v': 2.237804925588159,\n            'f': \"2.237804925588159\",\n        },\n{\n            'v': 4.201867724139917,\n            'f': \"4.201867724139917\",\n        },\n{\n            'v': 5.665009069430001,\n            'f': \"5.665009069430001\",\n        },\n{\n            'v': 4.760615848412408,\n            'f': \"4.760615848412408\",\n        },\n{\n            'v': 532.8972751775328,\n            'f': \"532.8972751775328\",\n        },\n{\n            'v': 402.84814488301,\n            'f': \"402.84814488301\",\n        },\n{\n            'v': 690.1231343709675,\n            'f': \"690.1231343709675\",\n        },\n{\n            'v': 1212.2848793014216,\n            'f': \"1212.2848793014216\",\n        }],\n [{\n            'v': 61,\n            'f': \"61\",\n        },\n{\n            'v': 0.003310823273288943,\n            'f': \"0.003310823273288943\",\n        },\n{\n            'v': 1.0000009134635635,\n            'f': \"1.0000009134635635\",\n        },\n{\n            'v': 1.3089292307783522,\n            'f': \"1.3089292307783522\",\n        },\n{\n            'v': 2.5895401519589116,\n            'f': \"2.5895401519589116\",\n        },\n{\n            'v': 3.439617358456675,\n            'f': \"3.439617358456675\",\n        },\n{\n            'v': 2.9015537096172097,\n            'f': \"2.9015537096172097\",\n        },\n{\n            'v': 534.2062044083112,\n            'f': \"534.2062044083112\",\n        },\n{\n            'v': 405.43768503496887,\n            'f': \"405.43768503496887\",\n        },\n{\n            'v': 693.0246880805847,\n            'f': \"693.0246880805847\",\n        },\n{\n            'v': 1215.7244966598782,\n            'f': \"1215.7244966598782\",\n        }],\n [{\n            'v': 62,\n            'f': \"62\",\n        },\n{\n            'v': 0.003907330022421745,\n            'f': \"0.003907330022421745\",\n        },\n{\n            'v': 1.0000012722709346,\n            'f': \"1.0000012722709346\",\n        },\n{\n            'v': 1.019092834650635,\n            'f': \"1.019092834650635\",\n        },\n{\n            'v': 2.018787977934653,\n            'f': \"2.018787977934653\",\n        },\n{\n            'v': 2.671316025711491,\n            'f': \"2.671316025711491\",\n        },\n{\n            'v': 2.2614276697453204,\n            'f': \"2.2614276697453204\",\n        },\n{\n            'v': 535.2252972429619,\n            'f': \"535.2252972429619\",\n        },\n{\n            'v': 407.45647301290353,\n            'f': \"407.45647301290353\",\n        },\n{\n            'v': 695.28611575033,\n            'f': \"695.28611575033\",\n        },\n{\n            'v': 1218.3958126855898,\n            'f': \"1218.3958126855898\",\n        }],\n [{\n            'v': 63,\n            'f': \"63\",\n        },\n{\n            'v': 0.002592565500401671,\n            'f': \"0.002592565500401671\",\n        },\n{\n            'v': 1.0000005601166992,\n            'f': \"1.0000005601166992\",\n        },\n{\n            'v': 3.7249238034891254,\n            'f': \"3.7249238034891254\",\n        },\n{\n            'v': 7.456341504589278,\n            'f': \"7.456341504589278\",\n        },\n{\n            'v': 9.845700625968949,\n            'f': \"9.845700625968949\",\n        },\n{\n            'v': 8.334991660155431,\n            'f': \"8.334991660155431\",\n        },\n{\n            'v': 538.950221046451,\n            'f': \"538.950221046451\",\n        },\n{\n            'v': 414.9128145174928,\n            'f': \"414.9128145174928\",\n        },\n{\n            'v': 703.6211074104855,\n            'f': \"703.6211074104855\",\n        },\n{\n            'v': 1228.2415133115587,\n            'f': \"1228.2415133115587\",\n        }],\n [{\n            'v': 64,\n            'f': \"64\",\n        },\n{\n            'v': 0.01150327975175824,\n            'f': \"0.01150327975175824\",\n        },\n{\n            'v': 1.0000110272663394,\n            'f': \"1.0000110272663394\",\n        },\n{\n            'v': 5.218133116427288,\n            'f': \"5.218133116427288\",\n        },\n{\n            'v': 10.388068318370731,\n            'f': \"10.388068318370731\",\n        },\n{\n            'v': 13.611230297369916,\n            'f': \"13.611230297369916\",\n        },\n{\n            'v': 11.625010821839819,\n            'f': \"11.625010821839819\",\n        },\n{\n            'v': 544.1683541628784,\n            'f': \"544.1683541628784\",\n        },\n{\n            'v': 425.30088283586355,\n            'f': \"425.30088283586355\",\n        },\n{\n            'v': 715.2461182323253,\n            'f': \"715.2461182323253\",\n        },\n{\n            'v': 1241.8527436089287,\n            'f': \"1241.8527436089287\",\n        }],\n [{\n            'v': 65,\n            'f': \"65\",\n        },\n{\n            'v': 0.007978203843108213,\n            'f': \"0.007978203843108213\",\n        },\n{\n            'v': 1.0000053043451431,\n            'f': \"1.0000053043451431\",\n        },\n{\n            'v': -0.4680195076567783,\n            'f': \"-0.4680195076567783\",\n        },\n{\n            'v': -0.9301207539787926,\n            'f': \"-0.9301207539787926\",\n        },\n{\n            'v': -1.2148331344109538,\n            'f': \"-1.2148331344109538\",\n        },\n{\n            'v': 1.0412333439385095,\n            'f': \"1.0412333439385095\",\n        },\n{\n            'v': 543.7003346552216,\n            'f': \"543.7003346552216\",\n        },\n{\n            'v': 424.3707620818848,\n            'f': \"424.3707620818848\",\n        },\n{\n            'v': 716.2873515762639,\n            'f': \"716.2873515762639\",\n        },\n{\n            'v': 1240.6379104745176,\n            'f': \"1240.6379104745176\",\n        }],\n [{\n            'v': 66,\n            'f': \"66\",\n        },\n{\n            'v': 0.00011311826177490313,\n            'f': \"0.00011311826177490313\",\n        },\n{\n            'v': 1.0000000010663117,\n            'f': \"1.0000000010663117\",\n        },\n{\n            'v': 1.1585805713683455,\n            'f': \"1.1585805713683455\",\n        },\n{\n            'v': 2.3191898415747274,\n            'f': \"2.3191898415747274\",\n        },\n{\n            'v': 3.046153233395096,\n            'f': \"3.046153233395096\",\n        },\n{\n            'v': 2.592479597145484,\n            'f': \"2.592479597145484\",\n        },\n{\n            'v': 544.8589152265899,\n            'f': \"544.8589152265899\",\n        },\n{\n            'v': 426.6899519234595,\n            'f': \"426.6899519234595\",\n        },\n{\n            'v': 718.8798311734093,\n            'f': \"718.8798311734093\",\n        },\n{\n            'v': 1243.6840637079126,\n            'f': \"1243.6840637079126\",\n        }],\n [{\n            'v': 67,\n            'f': \"67\",\n        },\n{\n            'v': 0.012336237786974335,\n            'f': \"0.012336237786974335\",\n        },\n{\n            'v': 1.0000126820898942,\n            'f': \"1.0000126820898942\",\n        },\n{\n            'v': 2.6771782900008083,\n            'f': \"2.6771782900008083\",\n        },\n{\n            'v': 5.375586414081128,\n            'f': \"5.375586414081128\",\n        },\n{\n            'v': 6.969556206673958,\n            'f': \"6.969556206673958\",\n        },\n{\n            'v': 6.005348690268139,\n            'f': \"6.005348690268139\",\n        },\n{\n            'v': 547.5360935165908,\n            'f': \"547.5360935165908\",\n        },\n{\n            'v': 432.0655383375406,\n            'f': \"432.0655383375406\",\n        },\n{\n            'v': 724.8851798636775,\n            'f': \"724.8851798636775\",\n        },\n{\n            'v': 1250.6536199145867,\n            'f': \"1250.6536199145867\",\n        }],\n [{\n            'v': 68,\n            'f': \"68\",\n        },\n{\n            'v': 0.01137832611899929,\n            'f': \"0.01137832611899929\",\n        },\n{\n            'v': 1.0000107889984537,\n            'f': \"1.0000107889984537\",\n        },\n{\n            'v': 11.431609271647515,\n            'f': \"11.431609271647515\",\n        },\n{\n            'v': 23.429501483509668,\n            'f': \"23.429501483509668\",\n        },\n{\n            'v': 29.675072644398803,\n            'f': \"29.675072644398803\",\n        },\n{\n            'v': 26.069584390730114,\n            'f': \"26.069584390730114\",\n        },\n{\n            'v': 558.9677027882383,\n            'f': \"558.9677027882383\",\n        },\n{\n            'v': 455.4950398210503,\n            'f': \"455.4950398210503\",\n        },\n{\n            'v': 750.9547642544077,\n            'f': \"750.9547642544077\",\n        },\n{\n            'v': 1280.3286925589855,\n            'f': \"1280.3286925589855\",\n        }],\n [{\n            'v': 69,\n            'f': \"69\",\n        },\n{\n            'v': 0.010031926329306632,\n            'f': \"0.010031926329306632\",\n        },\n{\n            'v': 1.0000083867132266,\n            'f': \"1.0000083867132266\",\n        },\n{\n            'v': 2.263018948937621,\n            'f': \"2.263018948937621\",\n        },\n{\n            'v': 4.7646041067763525,\n            'f': \"4.7646041067763525\",\n        },\n{\n            'v': 6.01471164728577,\n            'f': \"6.01471164728577\",\n        },\n{\n            'v': 5.274723410526927,\n            'f': \"5.274723410526927\",\n        },\n{\n            'v': 561.2307217371759,\n            'f': \"561.2307217371759\",\n        },\n{\n            'v': 460.25964392782663,\n            'f': \"460.25964392782663\",\n        },\n{\n            'v': 756.2294876649346,\n            'f': \"756.2294876649346\",\n        },\n{\n            'v': 1286.3434042062713,\n            'f': \"1286.3434042062713\",\n        }]],\n        columns: [[\"number\", \"index\"], [\"number\", \"brad\"], [\"number\", \"rf\"], [\"number\", \"north\"], [\"number\", \"east\"], [\"number\", \"dtvd\"], [\"number\", \"dr\"], [\"number\", \"yoff\"], [\"number\", \"xoff\"], [\"number\", \"r\"], [\"number\", \"tvd\"]],\n        columnOptions: [{\"width\": \"1px\", \"className\": \"index_column\"}],\n        rowsPerPage: 25,\n        helpUrl: \"https://colab.research.google.com/notebooks/data_table.ipynb\",\n        suppressOutputScrolling: true,\n        minimumWidth: undefined,\n      });\n    ",
            "text/html": [
              "<div>\n",
              "<style scoped>\n",
              "    .dataframe tbody tr th:only-of-type {\n",
              "        vertical-align: middle;\n",
              "    }\n",
              "\n",
              "    .dataframe tbody tr th {\n",
              "        vertical-align: top;\n",
              "    }\n",
              "\n",
              "    .dataframe thead th {\n",
              "        text-align: right;\n",
              "    }\n",
              "</style>\n",
              "<table border=\"1\" class=\"dataframe\">\n",
              "  <thead>\n",
              "    <tr style=\"text-align: right;\">\n",
              "      <th></th>\n",
              "      <th>brad</th>\n",
              "      <th>rf</th>\n",
              "      <th>north</th>\n",
              "      <th>east</th>\n",
              "      <th>dtvd</th>\n",
              "      <th>dr</th>\n",
              "      <th>yoff</th>\n",
              "      <th>xoff</th>\n",
              "      <th>r</th>\n",
              "      <th>tvd</th>\n",
              "    </tr>\n",
              "  </thead>\n",
              "  <tbody>\n",
              "    <tr>\n",
              "      <th>0</th>\n",
              "      <td>0.000000</td>\n",
              "      <td>0.000000</td>\n",
              "      <td>0.000000</td>\n",
              "      <td>0.000000</td>\n",
              "      <td>0.000000</td>\n",
              "      <td>0.000000</td>\n",
              "      <td>0.000000</td>\n",
              "      <td>0.000000</td>\n",
              "      <td>0.000000</td>\n",
              "      <td>0.000000</td>\n",
              "    </tr>\n",
              "    <tr>\n",
              "      <th>1</th>\n",
              "      <td>0.000000</td>\n",
              "      <td>0.000000</td>\n",
              "      <td>0.000000</td>\n",
              "      <td>0.000000</td>\n",
              "      <td>168.900000</td>\n",
              "      <td>0.000000</td>\n",
              "      <td>0.000000</td>\n",
              "      <td>0.000000</td>\n",
              "      <td>0.000000</td>\n",
              "      <td>168.900000</td>\n",
              "    </tr>\n",
              "    <tr>\n",
              "      <th>2</th>\n",
              "      <td>0.043633</td>\n",
              "      <td>1.000159</td>\n",
              "      <td>0.209374</td>\n",
              "      <td>0.003655</td>\n",
              "      <td>9.596954</td>\n",
              "      <td>0.209406</td>\n",
              "      <td>0.209374</td>\n",
              "      <td>0.003655</td>\n",
              "      <td>0.209406</td>\n",
              "      <td>178.496954</td>\n",
              "    </tr>\n",
              "    <tr>\n",
              "      <th>3</th>\n",
              "      <td>0.034908</td>\n",
              "      <td>1.000102</td>\n",
              "      <td>0.726281</td>\n",
              "      <td>0.015122</td>\n",
              "      <td>11.877201</td>\n",
              "      <td>0.726438</td>\n",
              "      <td>0.935655</td>\n",
              "      <td>0.018777</td>\n",
              "      <td>0.935845</td>\n",
              "      <td>190.374155</td>\n",
              "    </tr>\n",
              "    <tr>\n",
              "      <th>4</th>\n",
              "      <td>0.024439</td>\n",
              "      <td>1.000050</td>\n",
              "      <td>1.857304</td>\n",
              "      <td>0.047667</td>\n",
              "      <td>20.415123</td>\n",
              "      <td>1.857915</td>\n",
              "      <td>2.792959</td>\n",
              "      <td>0.066443</td>\n",
              "      <td>2.793760</td>\n",
              "      <td>210.789278</td>\n",
              "    </tr>\n",
              "    <tr>\n",
              "      <th>...</th>\n",
              "      <td>...</td>\n",
              "      <td>...</td>\n",
              "      <td>...</td>\n",
              "      <td>...</td>\n",
              "      <td>...</td>\n",
              "      <td>...</td>\n",
              "      <td>...</td>\n",
              "      <td>...</td>\n",
              "      <td>...</td>\n",
              "      <td>...</td>\n",
              "    </tr>\n",
              "    <tr>\n",
              "      <th>65</th>\n",
              "      <td>0.007978</td>\n",
              "      <td>1.000005</td>\n",
              "      <td>-0.468020</td>\n",
              "      <td>-0.930121</td>\n",
              "      <td>-1.214833</td>\n",
              "      <td>1.041233</td>\n",
              "      <td>543.700335</td>\n",
              "      <td>424.370762</td>\n",
              "      <td>716.287352</td>\n",
              "      <td>1240.637910</td>\n",
              "    </tr>\n",
              "    <tr>\n",
              "      <th>66</th>\n",
              "      <td>0.000113</td>\n",
              "      <td>1.000000</td>\n",
              "      <td>1.158581</td>\n",
              "      <td>2.319190</td>\n",
              "      <td>3.046153</td>\n",
              "      <td>2.592480</td>\n",
              "      <td>544.858915</td>\n",
              "      <td>426.689952</td>\n",
              "      <td>718.879831</td>\n",
              "      <td>1243.684064</td>\n",
              "    </tr>\n",
              "    <tr>\n",
              "      <th>67</th>\n",
              "      <td>0.012336</td>\n",
              "      <td>1.000013</td>\n",
              "      <td>2.677178</td>\n",
              "      <td>5.375586</td>\n",
              "      <td>6.969556</td>\n",
              "      <td>6.005349</td>\n",
              "      <td>547.536094</td>\n",
              "      <td>432.065538</td>\n",
              "      <td>724.885180</td>\n",
              "      <td>1250.653620</td>\n",
              "    </tr>\n",
              "    <tr>\n",
              "      <th>68</th>\n",
              "      <td>0.011378</td>\n",
              "      <td>1.000011</td>\n",
              "      <td>11.431609</td>\n",
              "      <td>23.429501</td>\n",
              "      <td>29.675073</td>\n",
              "      <td>26.069584</td>\n",
              "      <td>558.967703</td>\n",
              "      <td>455.495040</td>\n",
              "      <td>750.954764</td>\n",
              "      <td>1280.328693</td>\n",
              "    </tr>\n",
              "    <tr>\n",
              "      <th>69</th>\n",
              "      <td>0.010032</td>\n",
              "      <td>1.000008</td>\n",
              "      <td>2.263019</td>\n",
              "      <td>4.764604</td>\n",
              "      <td>6.014712</td>\n",
              "      <td>5.274723</td>\n",
              "      <td>561.230722</td>\n",
              "      <td>460.259644</td>\n",
              "      <td>756.229488</td>\n",
              "      <td>1286.343404</td>\n",
              "    </tr>\n",
              "  </tbody>\n",
              "</table>\n",
              "<p>70 rows × 10 columns</p>\n",
              "</div>"
            ],
            "text/plain": [
              "        brad        rf      north  ...        xoff           r          tvd\n",
              "0   0.000000  0.000000   0.000000  ...    0.000000    0.000000     0.000000\n",
              "1   0.000000  0.000000   0.000000  ...    0.000000    0.000000   168.900000\n",
              "2   0.043633  1.000159   0.209374  ...    0.003655    0.209406   178.496954\n",
              "3   0.034908  1.000102   0.726281  ...    0.018777    0.935845   190.374155\n",
              "4   0.024439  1.000050   1.857304  ...    0.066443    2.793760   210.789278\n",
              "..       ...       ...        ...  ...         ...         ...          ...\n",
              "65  0.007978  1.000005  -0.468020  ...  424.370762  716.287352  1240.637910\n",
              "66  0.000113  1.000000   1.158581  ...  426.689952  718.879831  1243.684064\n",
              "67  0.012336  1.000013   2.677178  ...  432.065538  724.885180  1250.653620\n",
              "68  0.011378  1.000011  11.431609  ...  455.495040  750.954764  1280.328693\n",
              "69  0.010032  1.000008   2.263019  ...  460.259644  756.229488  1286.343404\n",
              "\n",
              "[70 rows x 10 columns]"
            ]
          },
          "metadata": {
            "tags": []
          },
          "execution_count": 51
        }
      ]
    },
    {
      "cell_type": "markdown",
      "metadata": {
        "id": "2xRp0d_-C3yV",
        "colab_type": "text"
      },
      "source": [
        "We calculated the TVD. \n",
        "\n",
        "Now let's put it on our main dataframe."
      ]
    },
    {
      "cell_type": "code",
      "metadata": {
        "id": "PaT3XdFGx_3H",
        "colab_type": "code",
        "colab": {}
      },
      "source": [
        "df_raw['tvd']=df_com['tvd']"
      ],
      "execution_count": 52,
      "outputs": []
    },
    {
      "cell_type": "markdown",
      "metadata": {
        "id": "nON7vj-KC_-g",
        "colab_type": "text"
      },
      "source": [
        "---\n",
        "Now some visualization!\n",
        "\n",
        "Let's plot it into a polar map.\n",
        "\n",
        "---"
      ]
    },
    {
      "cell_type": "code",
      "metadata": {
        "id": "ckZYpyD1D_vN",
        "colab_type": "code",
        "colab": {
          "base_uri": "https://localhost:8080/",
          "height": 308
        },
        "outputId": "2cacdc9a-cc89-42b7-f571-17024dccc06f"
      },
      "source": [
        "ax = plt.subplot(111, polar=True)\n",
        "ax.plot( df_raw['Azimuth'].astype('float').values*np.pi/180.0, df_raw['tvd'].values,'or', alpha=0.5, linewidth=3)\n",
        "ax.set_theta_direction(-1)\n",
        "ax.grid(True)\n",
        "ax.set_theta_zero_location(\"N\")\n",
        "ax.set_title(\"Drilling Direction\",pad=20)\n",
        "pos=ax.get_rlabel_position()\n",
        "ax.set_rlabel_position(pos+110)\n",
        "plt.show()"
      ],
      "execution_count": 53,
      "outputs": [
        {
          "output_type": "display_data",
          "data": {
            "image/png": "[encoded data removed]",
            "text/plain": [
              "<Figure size 432x288 with 1 Axes>"
            ]
          },
          "metadata": {
            "tags": [],
            "needs_background": "light"
          }
        }
      ]
    },
    {
      "cell_type": "markdown",
      "metadata": {
        "id": "-IXAjFgqDPBr",
        "colab_type": "text"
      },
      "source": [
        "...and some well path position. Let's put the r into our main dataframe first."
      ]
    },
    {
      "cell_type": "code",
      "metadata": {
        "id": "T2y1Acw9Gq2u",
        "colab_type": "code",
        "colab": {}
      },
      "source": [
        "df_raw['r']=df_com['r']"
      ],
      "execution_count": 54,
      "outputs": []
    },
    {
      "cell_type": "code",
      "metadata": {
        "id": "GV5YZen_RBAu",
        "colab_type": "code",
        "colab": {
          "base_uri": "https://localhost:8080/",
          "height": 309
        },
        "outputId": "7f4eac1b-0dc2-4bed-accf-eb3075aa337b"
      },
      "source": [
        "ax2 = plt.subplot(111, aspect=2)\n",
        "ax2.plot( df_raw['r'].values, df_raw['tvd'].values, linewidth=3)\n",
        "ax2.grid(True)\n",
        "ax2.set_title(\"Drilling Deviation\",pad=20)\n",
        "ax2.set_ylabel('TVD(m)')\n",
        "ax2.set_xlabel('Horizontal Displacement(m)')\n",
        "ax2.set_ylim([0, df_raw['tvd'].max()])\n",
        "ax2.invert_yaxis()\n",
        "plt.show()"
      ],
      "execution_count": 60,
      "outputs": [
        {
          "output_type": "display_data",
          "data": {
            "image/png": "[encoded data removed]",
            "text/plain": [
              "<Figure size 432x288 with 1 Axes>"
            ]
          },
          "metadata": {
            "tags": [],
            "needs_background": "light"
          }
        }
      ]
    },
    {
      "cell_type": "markdown",
      "metadata": {
        "id": "7AshCWegaMVI",
        "colab_type": "text"
      },
      "source": [
        "---\n",
        "We see that we can handle, calculate, and visualize the well deviation survey too.\n",
        "\n",
        "Alright, that's it!\n",
        "I hope you can learn something from this tutorial.\n",
        "\n",
        "---"
      ]
    },
    {
      "cell_type": "markdown",
      "metadata": {
        "id": "XoWzrsN9M5ep",
        "colab_type": "text"
      },
      "source": [
        "# **EXERCISES**\n",
        "\n",
        "1. Can you calculate the deviation survey using different method? \n",
        "  - Average angle\n",
        "  - Tangential\n",
        "  - Radius of curvature\n"
      ]
    },
    {
      "cell_type": "code",
      "metadata": {
        "id": "3_NRVxaDM_oh",
        "colab_type": "code",
        "colab": {}
      },
      "source": [
        "(code here)"
      ],
      "execution_count": null,
      "outputs": []
    }
  ]
}