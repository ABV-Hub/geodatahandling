{
  "nbformat": 4,
  "nbformat_minor": 0,
  "metadata": {
    "colab": {
      "name": "02-Handling Seismic Data (SEGY).ipynb",
      "provenance": [],
      "collapsed_sections": [
        "EUyJEI5fzDbg",
        "9cGBeq6h13AJ",
        "E22A6e_pARoY",
        "9MAbYBflC09A",
        "g68V8mQoryya",
        "ZpjZEdmCu20b"
      ],
      "toc_visible": true
    },
    "kernelspec": {
      "name": "python3",
      "display_name": "Python 3"
    }
  },
  "cells": [
    {
      "cell_type": "markdown",
      "metadata": {
        "id": "PDXxiK1CzLWN",
        "colab_type": "text"
      },
      "source": [
        "***Handling Seismic Data (SEGY)***\n",
        "\n",
        "by : leocd91@gmail.com\n",
        "\n",
        "<table align=\"center\">\n",
        "  <td align=\"center\"><a target=\"_blank\" href=\"https://colab.research.google.com/drive/1nDTLksdQOaCWY3I5OK9c_aTqboIZg5gA\">\n",
        "        <img src=\"https://i.ibb.co/3723Hm9/colab.png\"  style=\"padding-bottom:5px;\" />Run in Google Colab</a></td>\n",
        "  <td align=\"center\"><a target=\"_blank\" href=\"https://github.com/leocd91/geodatahandling\">\n",
        "        <img src=\"https://i.ibb.co/L5p10GH/github.png\"  height=\"70px\" style=\"padding-bottom:5px;\"  />View Source on GitHub</a></td>\n",
        "</table>"
      ]
    },
    {
      "cell_type": "markdown",
      "metadata": {
        "id": "EUyJEI5fzDbg",
        "colab_type": "text"
      },
      "source": [
        "# **Introduction** (you can read it or skip it)"
      ]
    },
    {
      "cell_type": "markdown",
      "metadata": {
        "id": "6qy6Mcq5zHyu",
        "colab_type": "text"
      },
      "source": [
        "\n",
        "---\n",
        "Welcome to the second episode of \"***Digital Geoscience Data Handling using Python***\" Series.\n",
        "During this physical-distancing-new-normal year, I try to compile my experiences in handling digital geoscience / petrotechnical data. \n",
        "\n",
        "This will include: Parsing any type of data, QC analysis, database, feeding data for geophysical inversion - machine learning / deep learning stuffs, and maybe handling those data to do some GP-GPU too.\n",
        "\n",
        "I made this tutorial as beginner-friendly as possible, so some explanation might not be as \"*cool & marketing-friendly*\" as developers intended. \n",
        "And some code are not *pythonic* for that reason too.\n",
        "\n",
        "\n",
        "\n",
        "\n",
        "any feedback just hmu.\n",
        "\n",
        "---"
      ]
    },
    {
      "cell_type": "markdown",
      "metadata": {
        "id": "Jwg3LODIctIj",
        "colab_type": "text"
      },
      "source": [
        "**- Why don't we just install X to read those files?**\n",
        "\n",
        "> Yes you can do that too. \n",
        "\n",
        "> This tutorial for those who wish how to parse any digital geoscience data content without dependencies. \n",
        "> People who work with geoscience data for some years often struggles with python package that evolve really fast which make their code obsolete quickly. Also some package use their own class/data-type which you will find challenging to inspect your own array."
      ]
    },
    {
      "cell_type": "markdown",
      "metadata": {
        "id": "2ZguU1ugJUAd",
        "colab_type": "text"
      },
      "source": [
        "**- Is there any Prereq.?**\n",
        "\n",
        "> Just knowing basic stuff about programming is enough.\n",
        "If you don't even know what an array is, I suggest watching some crash course python on youtube."
      ]
    },
    {
      "cell_type": "markdown",
      "metadata": {
        "id": "IPdihNIKLSie",
        "colab_type": "text"
      },
      "source": [
        " **- Who are you giving some tutorials on the internet!?**\n",
        "\n",
        " \n",
        "\n",
        "> I'm a Petrotechnical Data Management on a NOC in Indonesia. More than 5 years here and still going strong.\n",
        "\n",
        "> I code my way to finish my undergraduate thesis (FDTD Elastic Wave in cuda) and get some side-gigs from there too (Inversion Method, Numerical Simulation, Etc.).\n",
        "\n",
        "> I know some C, F95, and Matlab (Now I'm Python *Muallaf* tho).\n",
        "\n",
        "> My main interest is in computational geophysics and GP-GPU.\n",
        "\n",
        "> I also *(lazily)* wrote some stuff on my blog about computational geophysics here http://redigitize.blogspot.com/ \n",
        "\n",
        "> I also ***love*** deep-fried banana.\n",
        " \n",
        "\n",
        " \n",
        " **TL;DR** I'm not a PhD, CEO, or Someone famous. I'm just glad that I can share something that I learn and learn more from this."
      ]
    },
    {
      "cell_type": "markdown",
      "metadata": {
        "id": "MKxxEXbmRZIb",
        "colab_type": "text"
      },
      "source": [
        "**- Which Python or Software or IDE or whatever that means to learn python? What is this stuff called Notebook!? Even this google colab thing!?   I hate you!**\n",
        "\n",
        "\n",
        "> Grab your towel and don't panic! \n",
        "> You can use this stuff inside google colab thing which people usually call by \"notebook format\", it's easy to make a step-by-step tutorial here. Also to run your specific line of code you just have to click the \"play\" button (it's actually RUN button tho) on the left.\n",
        "\n",
        "> Try this one below!\n",
        "\n",
        "\n",
        "\n"
      ]
    },
    {
      "cell_type": "code",
      "metadata": {
        "id": "7jhWkegLUSjJ",
        "colab_type": "code",
        "colab": {}
      },
      "source": [
        "print(\"hello stranger, what are you buyin'?\") #click run button on the left and see result below."
      ],
      "execution_count": 0,
      "outputs": []
    },
    {
      "cell_type": "markdown",
      "metadata": {
        "id": "2FToGcsCUrPR",
        "colab_type": "text"
      },
      "source": [
        "\n",
        "> As for what \"*software*\" to use, For me, I rarely use a notebook, some people that prefer IDE or Editor type of python use pycharm (https://www.jetbrains.com/pycharm/) or SPYDER (https://www.spyder-ide.org/) (for former Matlab user, maybe spyder is your favorite editor. It got variable explorer!)\n",
        "\n",
        "**TL;DR** you can use google colab notebook or install pycharm or install anaconda (got spyder and stuff installed in your pc already like google colab)\n",
        "\n",
        "---"
      ]
    },
    {
      "cell_type": "markdown",
      "metadata": {
        "id": "MdgIiJcuzbmG",
        "colab_type": "text"
      },
      "source": [
        "#**SEGY Data: Understanding their Binary Format**\n",
        "\n",
        "---\n",
        "Let's try to parse seismic data from the SEGY file!\n",
        "\n",
        "---\n"
      ]
    },
    {
      "cell_type": "markdown",
      "metadata": {
        "id": "1JMegY5qUYd3",
        "colab_type": "text"
      },
      "source": [
        "**What data to use?**\n",
        "\n",
        "You can try to download open data below from USGS, change to your own url, or upload your own data here using folder icon in the left.\n",
        "\n",
        "---"
      ]
    },
    {
      "cell_type": "code",
      "metadata": {
        "id": "V5gBw6w5lzSP",
        "colab_type": "code",
        "colab": {}
      },
      "source": [
        "!wget http://certmapper.cr.usgs.gov/data/NPRA/seismic/1981/31_81/PROCESSED/31_81_PR.SGY\n",
        "\n",
        "#open alaska data from #https://wiki.seg.org/wiki/Alaska_2D_land_line_31-81"
      ],
      "execution_count": 0,
      "outputs": []
    },
    {
      "cell_type": "markdown",
      "metadata": {
        "id": "O0tNiP2JUnX3",
        "colab_type": "text"
      },
      "source": [
        "---\n",
        "Just like the last episode, first let's <strike>summon our Dark Lord</strike> call some common modules using command below.\n",
        "\n",
        "Also let's try to set pandas because we will need some large table to show our data.\n",
        "\n",
        "---"
      ]
    },
    {
      "cell_type": "code",
      "metadata": {
        "id": "Ca8607yq_YGz",
        "colab_type": "code",
        "colab": {}
      },
      "source": [
        "import numpy as np\n",
        "import pandas as pd\n",
        "import matplotlib.pyplot as plt\n",
        "import os                       #OS module in Python provides functions for interacting with the operating system.\n",
        "\n",
        "pd.set_option('max_rows', 99999) #we change the view setting of pandas because handling lot of data\n",
        "pd.set_option('max_colwidth', 400) \n",
        "%load_ext google.colab.data_table"
      ],
      "execution_count": 0,
      "outputs": []
    },
    {
      "cell_type": "markdown",
      "metadata": {
        "id": "osrZ_kekWBcl",
        "colab_type": "text"
      },
      "source": [
        "---\n",
        "**\"What's the OS stuff?\"**\n",
        "\n",
        "\n",
        "> OS module in Python provides functions for interacting with the operating system. We can get info from the file like their size, time modified, etc.\n",
        "\n",
        "Let's try to open the file and get it's size.\n",
        "\n",
        "\n",
        "\n",
        "---"
      ]
    },
    {
      "cell_type": "code",
      "metadata": {
        "id": "u0AL85W3_tRY",
        "colab_type": "code",
        "colab": {}
      },
      "source": [
        "filename='31_81_PR.SGY'\n",
        "file_size = os.stat(filename)[6]  #getting the 7th value of what os.stat get, which is st_size or file size in bytes\n",
        "                                  #for more info : https://www.geeksforgeeks.org/python-os-stat-method/ \n",
        "print(\"file name : \",filename)\n",
        "print(\"file size : \",file_size , \" bytes\")"
      ],
      "execution_count": 0,
      "outputs": []
    },
    {
      "cell_type": "markdown",
      "metadata": {
        "id": "UN1WFY52BXbB",
        "colab_type": "text"
      },
      "source": [
        "---\n",
        "**\"Why do we need the file size?\"**\n",
        "\n",
        "That's because SEGY is a binary file. \n",
        "\n",
        "> A binary file is a file stored in binary format. *duh*\n",
        "\n",
        "ELI5, Binary format is a 1-D series of 0 and 1 in a group of eight ( for example '01010101') which called a byte.\n",
        "\n",
        "This website got really nice simple explanation about what a binary file is : https://betterexplained.com/articles/a-little-diddy-about-binary-file-formats/\n",
        "\n",
        "And for a SEGY data, that series of data is formatted like this.\n",
        "\n",
        "![alt text](https://upload.wikimedia.org/wikipedia/commons/thumb/4/4f/SEGY_file_byte_stream_structure.svg/733px-SEGY_file_byte_stream_structure.svg.png)\n",
        "\n",
        "And as why you need the filesize, it's because you can only calculate some information like the number of traces (which in pic above stated as `m`) by knowing the filesize.\n",
        "\n",
        "**\"So How do you know where each certain position of seismic information and data in the binary file?\"**\n",
        "\n",
        "SEG got it all documented here : \n",
        "\n",
        ">www.seg.org/documents/10161/77915/seg_y_rev1.pdf\n",
        "\n",
        ">https://seg.org/Portals/0/SEG/News%20and%20Resources/Technical%20Standards/seg_y_rev2_0-mar2017.pdf\n",
        "\n",
        "Using those documentation as a clue, Let's dive in!\n",
        "\n",
        "First, open the SEGY file.\n"
      ]
    },
    {
      "cell_type": "code",
      "metadata": {
        "id": "aIgMO_QFUnwU",
        "colab_type": "code",
        "colab": {}
      },
      "source": [
        "f = open(filename, 'rb')                        # open the file"
      ],
      "execution_count": 0,
      "outputs": []
    },
    {
      "cell_type": "markdown",
      "metadata": {
        "id": "1s_AgBXvosH7",
        "colab_type": "text"
      },
      "source": [
        "---\n",
        "Then, Let's parse all of the info and data from each section of SEGY file:\n",
        "1. Textual Header\n",
        "2. 400-byte Binary Header\n",
        "3. 240-byte Trace Headers\n",
        "4. Trace Data (the seismic recording itself)\n",
        "\n",
        "---"
      ]
    },
    {
      "cell_type": "markdown",
      "metadata": {
        "id": "9258fpYw1DeR",
        "colab_type": "text"
      },
      "source": [
        "#**Textual header, 400-byte Header, 240-byte Trace Header :** So many headers!\n",
        "\n",
        "---\n",
        "Well we paid so much for seismic acquisition, why don't we just add everything there :))\n",
        "\n",
        "Alright, let's get those important infos.\n",
        "\n",
        "---"
      ]
    },
    {
      "cell_type": "markdown",
      "metadata": {
        "id": "iy1CEHZ5PbX6",
        "colab_type": "text"
      },
      "source": [
        "\n",
        "In reading a binary files, to get certain value its generally like this:\n",
        "1. open the file\n",
        "2. go to byte position you want\n",
        "3. read for specific byte size\n",
        "4. decode it from binary format to certain value format (int, float, string, etc)\n",
        "\n",
        "Let's try it out first by getting the number of sample of each trace from the SEGY.\n",
        "\n",
        "If you read the documentation (www.seg.org/documents/10161/77915/seg_y_rev1.pdf), \n",
        "\n",
        "it's on the 3221th byte of the file.\n",
        "\n",
        "---"
      ]
    },
    {
      "cell_type": "code",
      "metadata": {
        "id": "WJs3AAkdgBb0",
        "colab_type": "code",
        "colab": {}
      },
      "source": [
        "f.seek(3220,0)                                  # Locate our position to 3221th byte of file\n",
        "data = f.read(2)                                # Read 2 byte from our position\n",
        "tr_sample=int.from_bytes(data, byteorder='big') # decode our binary into int\n",
        "print(\"no. of trace sample : \", tr_sample)     "
      ],
      "execution_count": 0,
      "outputs": []
    },
    {
      "cell_type": "markdown",
      "metadata": {
        "id": "kRdvjUZiRDV1",
        "colab_type": "text"
      },
      "source": [
        "---\n",
        "That what you have to do to get everything you want in a SEGY file.\n",
        "\n",
        "Let's start with the textual header first.\n",
        "\n",
        "---"
      ]
    },
    {
      "cell_type": "markdown",
      "metadata": {
        "id": "9cGBeq6h13AJ",
        "colab_type": "text"
      },
      "source": [
        "**Textual Header handling**\n",
        "---\n",
        "Textual header is the first 3200-byte size record that contains 40 lines (with each 80 length of character) of textual information, providing a human-readable description of the seismic data of the SEG Y file. Commonly in a EBDCID format (https://en.wikipedia.org/wiki/EBCDIC). \n",
        "\n",
        "It's the easiest part of reading a SEGY file.\n",
        "\n",
        "Now let's parse it.\n",
        "\n",
        "---"
      ]
    },
    {
      "cell_type": "code",
      "metadata": {
        "id": "Ks4PWZS2W5t1",
        "colab_type": "code",
        "colab": {}
      },
      "source": [
        "f.seek(0,0)                 #Locate our position to first byte of file\n",
        "data = f.read(3200)         #Read the first 3200 byte from our position\n",
        "data = data.decode('cp500') #EBCDIC encoding source:https://kite.com/python/docs/encodings.cp500\n",
        "n = 80                      #A textual header is made of 40x80 characters, we split the string every 80 char.\n",
        "txt_header=[]               #Empty string list to put the splitted textual header\n",
        "\n",
        "for i in range(0, len(data), n):  \n",
        "  txt_header.append(data[i:i+n])  #splitting the data and put it to txt_header\n",
        "\n",
        "for i in range(0,len(txt_header)):\n",
        "  print(txt_header[i])              #print to see the content"
      ],
      "execution_count": 0,
      "outputs": []
    },
    {
      "cell_type": "markdown",
      "metadata": {
        "id": "HMnWmXIhSXsp",
        "colab_type": "text"
      },
      "source": [
        "---\n",
        "Great, we already put the textual header data on `txt_header`. \n",
        "\n",
        "As I said from the previous episode, textual data doesn't always get special pattern.\n",
        "\n",
        "You can try to parse it using RegEx but don't expect it all SEGY to be written in the same format.\n",
        "\n",
        "---"
      ]
    },
    {
      "cell_type": "markdown",
      "metadata": {
        "id": "E22A6e_pARoY",
        "colab_type": "text"
      },
      "source": [
        "**400-byte Header handling**\n",
        "---\n",
        "\n",
        "\n",
        "---"
      ]
    },
    {
      "cell_type": "markdown",
      "metadata": {
        "id": "QhQ_auQOu_Yj",
        "colab_type": "text"
      },
      "source": [
        "As the documentation said, The 400-byte Binary File Header record contains binary values relevant to the whole SEG-Y file.\n",
        "\n",
        "**\"We already got the number of trace sample don't we?\"**\n",
        "\n",
        "Well, there are more important headers info (see the documentation) than number of the trace sample `tr_sample`, for example we have to know :\n",
        "1. **Is there any extended header?** So you know exactly where the position of the byte your trace data is.\n",
        "2. **What's the version of the SEGY?** It really matter because specific header position also affected. This infographic from SEG put it out nicely what really changed on each version : https://www.troika-int.com/images/Articles/SEGY_format_chart.png \n",
        "3. **What's the sampling for each trace sample?** Wrong sampling time makes your data got different recording length than it actually is. Total bad news if you are already interpreted it.\n",
        "4. **What's the format type of each sample?** Wrong decode/unpacking data from a binary makes wrong amplitude/energy value for each sample of trace. \n",
        "\n",
        "In my experience, other header than these rarely being written by data processor.\n",
        "We can try to parse them all just as listed on the documentation, or, like in this example, try to get only these important values :\n",
        "\n",
        "1. **Byte-3505 (Size 2 bytes)** : Number of 3200-byte Extended Textual File Header records following the Binary Header. A value of zero indicates there are no Extended Textual File Header records (i.e. this file has no Extended Textual File Header(s)).\n",
        "2. **Byte-3501 (Size 1 byte)** : Major SEG-Y Format Revision Number. This is an 8-bit unsigned value. Thus for SEG-Y Revision 2.0, as defined in this document, this will be recorded as 0216.  This field is mandatory for all versions of SEG-Y, although a value of zero indicates “traditional” SEG-Y conforming to the 1975 standard.\n",
        "3. **Byte-3217 (Size 2 bytes)**\t: Sample interval, microseconds, this file (reel).\n",
        "4. **Byte-3225 (Size 2 bytes)** : Data sample format code: 1 = floating point (4 bytes) 2 = fixed point (4 bytes) 3 = fixed point (2 bytes) 4 = fixed point with gain code (4 bytes). \n",
        "\n",
        "Now, let's read it from the SEGY file by using codes below.\n",
        "\n",
        "---"
      ]
    },
    {
      "cell_type": "code",
      "metadata": {
        "id": "WwcVJUtNsZ7b",
        "colab_type": "code",
        "colab": {}
      },
      "source": [
        "f.seek(3500,0)                                  # Go to segy ver header position\n",
        "data = f.read(1)                                # Read 1 byte from our position\n",
        "segy_ver=int.from_bytes(data, byteorder='big')  \n",
        "f.seek(3504,0)                                  # Change where the other header located\n",
        "data = f.read(2)                                # Read 2 byte from our position\n",
        "ext_header=int.from_bytes(data, byteorder='big')  \n",
        "f.seek(3216,0)                                  # Change where the other header located\n",
        "data = f.read(2)                                # Read 2 byte from our position\n",
        "dt_sample=int.from_bytes(data, byteorder='big')  \n",
        "f.seek(3224,0)                                  # Change where the other header located\n",
        "data = f.read(2)                                # Read 2 byte from our position\n",
        "data_format=int.from_bytes(data, byteorder='big')  "
      ],
      "execution_count": 0,
      "outputs": []
    },
    {
      "cell_type": "markdown",
      "metadata": {
        "id": "umgiTuk2wIIm",
        "colab_type": "text"
      },
      "source": [
        "---\n",
        "Let's print out what we already got.\n",
        "\n",
        "This is our SEGY file :\n",
        "\n",
        "---"
      ]
    },
    {
      "cell_type": "code",
      "metadata": {
        "id": "MzQN7FPdu7ot",
        "colab_type": "code",
        "colab": {}
      },
      "source": [
        "size_trace=file_size-3200-400\n",
        "n_trace=int(size_trace/(tr_sample*4+240))\n",
        "print('SEGY Filename           : ',filename)\n",
        "print('SEGY Version            : ',segy_ver, '( 0 means ver. 1.0 (1975) ) ')\n",
        "print('Filesize                : ',round(file_size/1048576.0,2),'MB')\n",
        "print('No. of sample per trace : ',tr_sample)\n",
        "print(\"Sampling interval       : \", dt_sample, ' ms') \n",
        "jml_trheader=int(size_trace/(tr_sample*4+240))\n",
        "print('No. of trace            : ',n_trace)"
      ],
      "execution_count": 0,
      "outputs": []
    },
    {
      "cell_type": "markdown",
      "metadata": {
        "id": "Gmmiwbxix5Tu",
        "colab_type": "text"
      },
      "source": [
        "---\n",
        "Next, getting the trace header infos.\n",
        "\n",
        "---"
      ]
    },
    {
      "cell_type": "markdown",
      "metadata": {
        "id": "iPLkJ_q214C0",
        "colab_type": "text"
      },
      "source": [
        "**Trace Header handling**\n",
        "---\n",
        "---\n",
        "Back to our SEGY format schematic, \n",
        "\n",
        "![alt text](https://upload.wikimedia.org/wikipedia/commons/thumb/4/4f/SEGY_file_byte_stream_structure.svg/733px-SEGY_file_byte_stream_structure.svg.png)\n",
        "\n",
        "\n",
        "Each our traces of seismic which displayed in 2D like the image below, Is actually being flatten in a 1D form (because that's how we write stuff in binary). So we have to be tricky getting values of certain sequence of bytes then put it back into a 2D Array.\n",
        "\n",
        "![sie](https://pubs.usgs.gov/of/2003/ofr-03-218/images/figure6.jpg)\n",
        "\n",
        "source : USGS (https://pubs.usgs.gov/of/2003/ofr-03-218/)\n",
        "\n",
        "Before we try to get the values, let's see what info on the Trace header.\n",
        "\n",
        "You can try to write it down yourself, or just download what I resume here in a text files then load it to `trh_byte_pos` variable\n",
        "\n",
        "---"
      ]
    },
    {
      "cell_type": "code",
      "metadata": {
        "id": "jHCQJ_NOyEcM",
        "colab_type": "code",
        "colab": {}
      },
      "source": [
        "!wget https://textuploader.com/1quim/raw -O trace_header_byte_pos.txt\n",
        "trh_byte_pos=np.genfromtxt('trace_header_byte_pos.txt', delimiter='\\t',dtype=str,encoding='windows-1252')"
      ],
      "execution_count": 0,
      "outputs": []
    },
    {
      "cell_type": "markdown",
      "metadata": {
        "id": "rePW1kZ2OHaR",
        "colab_type": "text"
      },
      "source": [
        "---\n",
        "Let's put it on pandas to make it more readable.\n",
        "\n",
        "---"
      ]
    },
    {
      "cell_type": "code",
      "metadata": {
        "id": "MlXlY9fzz28u",
        "colab_type": "code",
        "colab": {}
      },
      "source": [
        "pd_byte_pos=pd.DataFrame(data=trh_byte_pos,columns=['Position','Size(Byte)','Desc'])\n",
        "pd_byte_pos"
      ],
      "execution_count": 0,
      "outputs": []
    },
    {
      "cell_type": "markdown",
      "metadata": {
        "id": "NOVDOYxdNb5r",
        "colab_type": "text"
      },
      "source": [
        "---\n",
        "That's all the info that you can get from the trace header part.\n",
        " \n",
        "Now, let's try to get those all trace headers info's value from the SEGY file.\n",
        "\n",
        "---"
      ]
    },
    {
      "cell_type": "code",
      "metadata": {
        "id": "iPQ_gS6M1Af7",
        "colab_type": "code",
        "colab": {}
      },
      "source": [
        "trace_header=np.zeros([75,n_trace],dtype=int)       #create 75 x n_trace array to put all important trace header info\n",
        "\n",
        "for i in range(0,n_trace):                          #for each number trace headers of number of trace available\n",
        "  for j in range(0,75):                             \n",
        "    off= int(trh_byte_pos[j,0])-1                   #get the position of current header\n",
        "    siz= int(trh_byte_pos[j,1])                     #get the size of current header\n",
        "    f.seek(3600+(off)+i*(tr_sample*4+240),0)        #go to position of that header on current trace \n",
        "    temp=f.read(siz)                                #read with size of that header\n",
        "    trace_header[j,i]=int.from_bytes(temp, byteorder='big') #convert it to int from bytes\n"
      ],
      "execution_count": 0,
      "outputs": []
    },
    {
      "cell_type": "markdown",
      "metadata": {
        "id": "akPgtRgM-f17",
        "colab_type": "text"
      },
      "source": [
        "---\n",
        "If there's no errors then let's see the info of the first trace headers.\n",
        "\n",
        "Let's print it with their respective description so we can understand it more easily.\n",
        "\n",
        "---"
      ]
    },
    {
      "cell_type": "code",
      "metadata": {
        "id": "749a_xTX4EOq",
        "colab_type": "code",
        "colab": {}
      },
      "source": [
        "for i in range(0,75):\n",
        "  print(trh_byte_pos[i,2],\": \",trace_header[i,0])"
      ],
      "execution_count": 0,
      "outputs": []
    },
    {
      "cell_type": "markdown",
      "metadata": {
        "id": "R8xnvP4e-9HL",
        "colab_type": "text"
      },
      "source": [
        "---\n",
        "Ugh, that's actually not quite fun to look at. \n",
        "\n",
        "Let's put it on `Pandas` to make it more readable. First make the column labels.\n",
        "\n",
        "---"
      ]
    },
    {
      "cell_type": "code",
      "metadata": {
        "id": "1padWhyG5vp0",
        "colab_type": "code",
        "colab": {}
      },
      "source": [
        "col_label=[]                #empty variable\n",
        "for i in range(0,n_trace):\n",
        "  lab='Trace-%03d'%(i+1)    #making label trace-001, trace-002, etc for all available traces with string formatting\n",
        "  col_label.append(lab)     #append it\n",
        "col_label[0]                #test it if its right"
      ],
      "execution_count": 0,
      "outputs": []
    },
    {
      "cell_type": "code",
      "metadata": {
        "id": "laH_Ssjr5L-1",
        "colab_type": "code",
        "colab": {}
      },
      "source": [
        "pd_trace_header=pd.DataFrame(data=trace_header,index=trh_byte_pos[:,2],columns=col_label)\n",
        "pd_trace_header"
      ],
      "execution_count": 0,
      "outputs": []
    },
    {
      "cell_type": "markdown",
      "metadata": {
        "id": "vswiUKCh_rus",
        "colab_type": "text"
      },
      "source": [
        "---\n",
        "Well, that's better... But I think we can do more.\n",
        "\n",
        "Let's add the slider to make it easier see info of each trace headers then!\n",
        "\n",
        "Select `trace_no` you want to see and then click `run`. (*those play button, son*)\n",
        "\n",
        "---"
      ]
    },
    {
      "cell_type": "code",
      "metadata": {
        "id": "zluwBoKQ71Y-",
        "colab_type": "code",
        "colab": {},
        "cellView": "form"
      },
      "source": [
        "#@Trace header Explorer. {display-mode: \"form\" , run: \"auto\" }\n",
        "trace_no = 95 #@param {type:\"slider\", min:1, max:534, step:1}\n",
        "index_sel = 'Trace-%03d'%(trace_no)\n",
        "pd_selected=pd_trace_header[[index_sel]]\n",
        "pd_selected"
      ],
      "execution_count": 0,
      "outputs": []
    },
    {
      "cell_type": "markdown",
      "metadata": {
        "id": "YLg4xz1MATv3",
        "colab_type": "text"
      },
      "source": [
        "---\n",
        "As you can see, every info we can get from trace header already been parsed.\n",
        "\n",
        "Info like position of each trace on the maps and etc can be used QC your data.\n",
        "\n",
        "---"
      ]
    },
    {
      "cell_type": "markdown",
      "metadata": {
        "id": "9MAbYBflC09A",
        "colab_type": "text"
      },
      "source": [
        "#**Trace Data Handling**\n",
        "---\n",
        "Now let's get those wiggly expensive recording.\n",
        "\n",
        "---"
      ]
    },
    {
      "cell_type": "markdown",
      "metadata": {
        "id": "uwNY-wBNA8cg",
        "colab_type": "text"
      },
      "source": [
        "Just like getting the trace header, we have to be tricky getting the trace data.\n",
        "\n",
        "Let's change the code a little bit so we can skip the trace header part and get only the trace data.\n",
        "\n",
        "**Some important notes :**\n",
        "\n",
        ">to decode the trace data, we have to know the information on 400-byte Header on **byte-3225**. As the documentation said,  Data sample format code is 1 = floating point (4 bytes), 2 = fixed point (4 bytes), 3 = fixed point (2 bytes), 4 = fixed point with gain code (4 bytes).\n",
        "\n",
        "\n",
        "\n"
      ]
    },
    {
      "cell_type": "code",
      "metadata": {
        "id": "uy1c90DwBRPs",
        "colab_type": "code",
        "colab": {}
      },
      "source": [
        "import struct                                              #This module performs conversions between Python values and C structs represented as Python bytes objects\n",
        "trace_data=np.zeros([tr_sample,n_trace],dtype=float)       #create tr_sample x n_trace array to put all trace data (the wave recording, or \"the wiggly seismic stuff\" \n",
        "                                                           #as my geologist co-worker said)\n",
        "                   \n",
        "for i in range(0,n_trace):                                #for each number of sample of number of trace available\n",
        "  for j in range(0,tr_sample):                            \n",
        "    pos_bt=3600+240+(i*(tr_sample*4+240))+j*4             #calculate byte position of trace, skipping first headers and trace header for each loop\n",
        "    #print(pos_bt)\n",
        "    f.seek(pos_bt,0)                                      # go to that byte position in the file\n",
        "    temp=f.read(4)                                        # read it\n",
        "    if data_format==1:                                    # if its a no.1 format, then\n",
        "      trace_data[j,i]=struct.unpack('>f',temp)[0]         # decoding from binary to float\n",
        "    if data_format==2 or data_format==4:                  # if its a no.2 and 4 format, then\n",
        "      trace_data[j,i]=struct.unpack('>i',temp)[0]         # decoding from binary to int"
      ],
      "execution_count": 0,
      "outputs": []
    },
    {
      "cell_type": "markdown",
      "metadata": {
        "id": "4bcqrgO1IlQS",
        "colab_type": "text"
      },
      "source": [
        "---\n",
        "We can check it if its work by using `imshow`.\n",
        "\n",
        "---"
      ]
    },
    {
      "cell_type": "code",
      "metadata": {
        "id": "GXE-OSYXIkta",
        "colab_type": "code",
        "colab": {}
      },
      "source": [
        "plt.imshow(trace_data, cmap='seismic',interpolation='none') #plotting 2d array image with colormap 'seismic'\n",
        "                                                            #with no interpolation (2d array to plot figure size)"
      ],
      "execution_count": 0,
      "outputs": []
    },
    {
      "cell_type": "markdown",
      "metadata": {
        "id": "jJpvZL6P2VcG",
        "colab_type": "text"
      },
      "source": [
        "---\n",
        "Well, but that's not quite good to look at.\n",
        "Let's make it prettier.\n",
        "\n",
        "First make the y-axis array by using `np.linspace`. \n",
        "\n",
        "**\"what's that np.linspace(a,b,n)?\"**\n",
        "\n",
        ">For some who don't know what linspace is, just like in matlab, you can make 1D array from `a` to `b` with `n` samples. For example `np.linspace(0,3,4)` makes [0, 1, 2, 3].\n",
        "\n",
        "---"
      ]
    },
    {
      "cell_type": "code",
      "metadata": {
        "id": "_Tf1Mz9Plf93",
        "colab_type": "code",
        "colab": {}
      },
      "source": [
        "t_seis=np.linspace(0,float(dt_sample*1e-6)*(tr_sample-1),tr_sample) #making the time axis using linspace (see doc)\n",
        "print(t_seis)"
      ],
      "execution_count": 0,
      "outputs": []
    },
    {
      "cell_type": "markdown",
      "metadata": {
        "id": "3tPeP_8oH8tR",
        "colab_type": "text"
      },
      "source": [
        "---\n",
        "Then let's put it all on the plot figure.\n",
        "\n",
        "---"
      ]
    },
    {
      "cell_type": "code",
      "metadata": {
        "id": "5GSQ8m4_IRyB",
        "colab_type": "code",
        "colab": {}
      },
      "source": [
        "plt.figure(figsize = (10,10))                                     #setting the size of the figure\n",
        "plt.imshow(trace_data, aspect='auto', cmap='seismic', \n",
        "           interpolation='none', \n",
        "           extent=[1,n_trace,float(dt_sample*1e-6)*tr_sample,0])  #the axis of imshow [xmin,xmax,ymax,ymin]\n",
        "plt.xlabel('Trace')\n",
        "plt.ylabel('Time(s)')\n",
        "plt.title(filename)"
      ],
      "execution_count": 0,
      "outputs": []
    },
    {
      "cell_type": "markdown",
      "metadata": {
        "id": "g68V8mQoryya",
        "colab_type": "text"
      },
      "source": [
        "#**WRAPPING UP!** Let's Put it on a function\n",
        "\n",
        "---\n",
        "Alright, we understand how to parse all those important data and headers info, now we can summ it up into a **function**, which you can use it by calling a simple command everytime you need to fetch one or multiple SEGY file.\n",
        "\n",
        "---\n",
        "\n"
      ]
    },
    {
      "cell_type": "code",
      "metadata": {
        "id": "dUYC9gmHryOj",
        "colab_type": "code",
        "colab": {}
      },
      "source": [
        "def read_segy(filename):\n",
        "  import numpy as np\n",
        "  import os\n",
        "  import struct\n",
        "\n",
        "  f = open(filename, 'rb')                        \n",
        "\n",
        "  f.seek(0,0)                 \n",
        "  data = f.read(3200)         \n",
        "  data = data.decode('cp500') \n",
        "  n = 80                      \n",
        "  txt_header=[]               \n",
        "  for i in range(0, len(data), n):  \n",
        "    txt_header.append(data[i:i+n])        \n",
        "\n",
        "  f.seek(3500,0)                                  \n",
        "  data = f.read(1)                                \n",
        "  segy_ver=int.from_bytes(data, byteorder='big')  \n",
        "  f.seek(3504,0)                                  \n",
        "  data = f.read(2)                                \n",
        "  ext_header=int.from_bytes(data, byteorder='big')  \n",
        "  f.seek(3216,0)                                  \n",
        "  data = f.read(2)                               \n",
        "  dt_sample=int.from_bytes(data, byteorder='big')  \n",
        "  f.seek(3224,0)                                  \n",
        "  data = f.read(2)                                \n",
        "  data_format=int.from_bytes(data, byteorder='big')  \n",
        "  f.seek(3220,0)                                  \n",
        "  data = f.read(2)                                \n",
        "  tr_sample=int.from_bytes(data, byteorder='big') \n",
        "\n",
        "  size_trace=file_size-3200-400\n",
        "  n_trace=int(size_trace/(tr_sample*4+240))\n",
        "\n",
        "  trace_header=np.zeros([75,n_trace],dtype=int)\n",
        "  for i in range(0,n_trace):\n",
        "    for j in range(0,75):\n",
        "      off= int(trh_byte_pos[j,0])-1\n",
        "      siz= int(trh_byte_pos[j,1]) \n",
        "      f.seek(3600+(off)+i*(tr_sample*4+240),0)\n",
        "      temp=f.read(siz)\n",
        "      trace_header[j,i]=int.from_bytes(temp, byteorder='big')\n",
        "\n",
        "  trace_data=np.zeros([tr_sample,n_trace],dtype=float)                                                     \n",
        "  for i in range(0,n_trace):\n",
        "    for j in range(0,tr_sample):\n",
        "      pos_bt=3600+240+(i*(tr_sample*4+240))+j*4\n",
        "      f.seek(pos_bt,0)\n",
        "      temp=f.read(4)\n",
        "      if data_format==1:\n",
        "        trace_data[j,i]=struct.unpack('>f',temp)[0]\n",
        "      if data_format==2 or data_format==4:\n",
        "        trace_data[j,i]=struct.unpack('>i',temp)[0]\n",
        "  print(\"reading\", filename, \"is successful.\")\n",
        "  return txt_header, trace_header, trace_data, dt_sample"
      ],
      "execution_count": 0,
      "outputs": []
    },
    {
      "cell_type": "markdown",
      "metadata": {
        "id": "hceJ7svO5l42",
        "colab_type": "text"
      },
      "source": [
        "---\n",
        "Let's try calling it by one line command bellow.\n",
        "\n",
        "---"
      ]
    },
    {
      "cell_type": "code",
      "metadata": {
        "id": "uNwRRcCV2e-O",
        "colab_type": "code",
        "colab": {}
      },
      "source": [
        "txt_header, trace_header, trace_data,dt_sample = read_segy('31_81_PR.SGY')"
      ],
      "execution_count": 0,
      "outputs": []
    },
    {
      "cell_type": "markdown",
      "metadata": {
        "id": "i4DS7-995vil",
        "colab_type": "text"
      },
      "source": [
        "---\n",
        "Now, let's plot the seismic to test if its actually works.\n",
        "\n",
        "---"
      ]
    },
    {
      "cell_type": "code",
      "metadata": {
        "id": "yIElB6Xi25VR",
        "colab_type": "code",
        "colab": {}
      },
      "source": [
        "plt.figure(figsize = (10,10))\n",
        "plt.imshow(trace_data, aspect='auto', cmap='seismic', \n",
        "           interpolation='none', \n",
        "           extent=[1,trace_data.shape[1],float(dt_sample*1e-6)*trace_data.shape[0],0])\n",
        "plt.xlabel('Trace')\n",
        "plt.ylabel('Time(s)')\n",
        "plt.title(filename)"
      ],
      "execution_count": 0,
      "outputs": []
    },
    {
      "cell_type": "markdown",
      "metadata": {
        "id": "kUpHHBSD2fdm",
        "colab_type": "text"
      },
      "source": [
        "---\n",
        "Congratulation!\n",
        "\n",
        "Good luck on experimenting your data now after understanding how to parse your seismic.\n",
        "\n",
        "---"
      ]
    },
    {
      "cell_type": "markdown",
      "metadata": {
        "id": "ZpjZEdmCu20b",
        "colab_type": "text"
      },
      "source": [
        "#**Exercises**\n"
      ]
    },
    {
      "cell_type": "markdown",
      "metadata": {
        "id": "Ff3uo9FKu7Sg",
        "colab_type": "text"
      },
      "source": [
        "---\n",
        "1. There's something not quite finished yet in handling when parsing the trace data from binary file. Can you find and modify it?\n",
        "2. Try to put the trace data into a pandas format!\n",
        "3. Try to experiment with the data! How about the data spectrum (use FFT)? Interpolation of missing/null traces?\n",
        "\n",
        "---"
      ]
    },
    {
      "cell_type": "code",
      "metadata": {
        "id": "uXx1Ncr-ysmA",
        "colab_type": "code",
        "colab": {}
      },
      "source": [
        "(code here)"
      ],
      "execution_count": 0,
      "outputs": []
    }
  ]
}