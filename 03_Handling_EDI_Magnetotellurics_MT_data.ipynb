{
  "nbformat": 4,
  "nbformat_minor": 0,
  "metadata": {
    "colab": {
      "name": "03-Handling EDI Magnetotellurics MT data.ipynb",
      "provenance": [],
      "collapsed_sections": [
        "EUyJEI5fzDbg",
        "H2GHz0NUpUMv",
        "o2bz6JTvwZFP",
        "hH0KAPf6xz4l",
        "VZ8PCvUEYQRX",
        "Ej7ddqGHwONd"
      ],
      "toc_visible": true
    },
    "kernelspec": {
      "name": "python3",
      "display_name": "Python 3"
    }
  },
  "cells": [
    {
      "cell_type": "markdown",
      "metadata": {
        "id": "PDXxiK1CzLWN",
        "colab_type": "text"
      },
      "source": [
        "***Handling Magnetotellurics MT EDI Data (let's do inversion too)***\n",
        "\n",
        "by : leocd91@gmail.com\n",
        "\n",
        "<table align=\"center\">\n",
        "  <td align=\"center\"><a target=\"_blank\" href=\"https://colab.research.google.com/drive/1nzIoBg8-NuT5XpSYAnG4N6fgJReJMhin\">\n",
        "        <img src=\"https://i.ibb.co/3723Hm9/colab.png\"  style=\"padding-bottom:5px;\" />Run in Google Colab</a></td>\n",
        "  <td align=\"center\"><a target=\"_blank\" href=\"https://github.com/leocd91/geodatahandling\">\n",
        "        <img src=\"https://i.ibb.co/L5p10GH/github.png\"  height=\"70px\" style=\"padding-bottom:5px;\"  />View Source on GitHub</a></td>\n",
        "</table>"
      ]
    },
    {
      "cell_type": "markdown",
      "metadata": {
        "id": "EUyJEI5fzDbg",
        "colab_type": "text"
      },
      "source": [
        "# **Introduction** (you can read it or skip it)"
      ]
    },
    {
      "cell_type": "markdown",
      "metadata": {
        "id": "6qy6Mcq5zHyu",
        "colab_type": "text"
      },
      "source": [
        "\n",
        "---\n",
        "Welcome to the third episode of \"***Digital Geoscience Data Handling using Python***\" Series.\n",
        "During this physical-distancing-new-normal year, I try to compile my experiences in handling digital geoscience / petrotechnical data. \n",
        "\n",
        "This will include: Parsing any type of data, QC analysis, database, feeding data for geophysical inversion - machine learning / deep learning stuffs, and maybe handling those data to do some GP-GPU too.\n",
        "\n",
        "I made this tutorial as beginner-friendly as possible, so some explanation might not be as \"*cool & marketing-friendly*\" as developers intended. \n",
        "And some code are not *pythonic* for that reason too.\n",
        "\n",
        "\n",
        "\n",
        "\n",
        "any feedback just hmu.\n",
        "\n",
        "---"
      ]
    },
    {
      "cell_type": "markdown",
      "metadata": {
        "id": "Jwg3LODIctIj",
        "colab_type": "text"
      },
      "source": [
        "**- Why don't we just install X to read those files?**\n",
        "\n",
        "> Yes you can do that too. \n",
        "\n",
        "> This tutorial for those who wish how to parse any digital geoscience data content without dependencies. \n",
        "> People who work with geoscience data for some years often struggles with python package that evolve really fast which make their code obsolete quickly. Also some package use their own class/data-type which you will find challenging to inspect your own array."
      ]
    },
    {
      "cell_type": "markdown",
      "metadata": {
        "id": "2ZguU1ugJUAd",
        "colab_type": "text"
      },
      "source": [
        "**- Is there any Prereq.?**\n",
        "\n",
        "> Just knowing basic stuff about programming is enough.\n",
        "If you don't even know what an array is, I suggest watching some crash course python on youtube."
      ]
    },
    {
      "cell_type": "markdown",
      "metadata": {
        "id": "IPdihNIKLSie",
        "colab_type": "text"
      },
      "source": [
        " **- Who are you giving some tutorials on the internet!?**\n",
        "\n",
        " \n",
        "\n",
        "> I'm a Petrotechnical Data Management on a NOC in Indonesia. More than 5 years here and still going strong.\n",
        "\n",
        "> I code my way to finish my undergraduate thesis (FDTD Elastic Wave in cuda) and get some side-gigs from there too (Inversion Method, Numerical Simulation, Etc.).\n",
        "\n",
        "> I know some C, F95, and Matlab (Now I'm Python *Muallaf* tho).\n",
        "\n",
        "> My main interest is in computational geophysics and GP-GPU.\n",
        "\n",
        "> I also *(lazily)* wrote some stuff on my blog about computational geophysics here http://redigitize.blogspot.com/ \n",
        "\n",
        "> I also ***love*** deep-fried banana.\n",
        " \n",
        "\n",
        " \n",
        " **TL;DR** I'm not a PhD, CEO, or Someone famous. I'm just glad that I can share something that I learn and learn more from this."
      ]
    },
    {
      "cell_type": "markdown",
      "metadata": {
        "id": "MKxxEXbmRZIb",
        "colab_type": "text"
      },
      "source": [
        "**- Which Python or Software or IDE or whatever that means to learn python? What is this stuff called Notebook!? Even this google colab thing!?   I hate you!**\n",
        "\n",
        "\n",
        "> Grab your towel and don't panic! \n",
        "> You can use this stuff inside google colab thing which people usually call by \"notebook format\", it's easy to make a step-by-step tutorial here. Also to run your specific line of code you just have to click the \"play\" button (it's actually RUN button tho) on the left.\n",
        "\n",
        "> Try this one below!\n",
        "\n",
        "\n",
        "\n"
      ]
    },
    {
      "cell_type": "code",
      "metadata": {
        "id": "7jhWkegLUSjJ",
        "colab_type": "code",
        "colab": {}
      },
      "source": [
        "print(\"hello stranger, what are you buyin'?\") #click run button on the left and see result below."
      ],
      "execution_count": 0,
      "outputs": []
    },
    {
      "cell_type": "markdown",
      "metadata": {
        "id": "2FToGcsCUrPR",
        "colab_type": "text"
      },
      "source": [
        "\n",
        "> As for what \"*software*\" to use, For me, I rarely use a notebook, some people that prefer IDE or Editor type of python use pycharm (https://www.jetbrains.com/pycharm/) or SPYDER (https://www.spyder-ide.org/) (for former Matlab user, maybe spyder is your favorite editor. It got variable explorer!)\n",
        "\n",
        "**TL;DR** you can use google colab notebook or install pycharm or install anaconda (got spyder and stuff installed in your pc already like google colab)\n",
        "\n",
        "---"
      ]
    },
    {
      "cell_type": "markdown",
      "metadata": {
        "id": "H2GHz0NUpUMv",
        "colab_type": "text"
      },
      "source": [
        "# **Magnetotelluric (MT) : Handling Data and a little processing with inversion twist~**\n",
        "\n",
        "---\n",
        "Most requested tutorial on my inbox is handling wrapped textual data, and EDI is one of them.\n",
        "\n",
        "This tutorial is very short, so I'll try to add inversion as a twist.\n",
        "\n",
        "I remember that a already made some MT inversion program before [here](https://http://redigitize.blogspot.com/2014/04/inversi-1d-occam-magnetotellurik.html) and [here](http://redigitize.blogspot.com/2014/04/inversi-1d-magnetotelurrik-menggunakan.html) *(its in Bahasa Indonesia, btw, and it's written by my young-and-naive 5 years ago. So be wary.)*.\n",
        "\n",
        "And if anyone not really familiar with MT (just like me) or need some refreshments, [here's a good material](https://digital.library.adelaide.edu.au/dspace/bitstream/2440/48492/8/02chapters1-3.pdf)\n",
        "\n",
        "Ok, let's do it.\n",
        "\n",
        "---"
      ]
    },
    {
      "cell_type": "markdown",
      "metadata": {
        "id": "o2bz6JTvwZFP",
        "colab_type": "text"
      },
      "source": [
        "#**Handling EDI (Common MT Data)**\n",
        "---\n",
        "It's a textual files!\n",
        "\n",
        "Let's try to use our magic from the first episode in [handling LAS files](https://colab.research.google.com/drive/1lwfD4diA6-Pn6yiWfzUtt9BqQCVfK7NO).\n",
        "\n",
        "---"
      ]
    },
    {
      "cell_type": "markdown",
      "metadata": {
        "id": "WY7MmJtgySAg",
        "colab_type": "text"
      },
      "source": [
        "**- \"What is EDI?\"**\n",
        "\n",
        "\n",
        "\n",
        "EDI, *Electronic Data Interchange*, is a textual file formatting standard used in storing magnetotelluric data. \n",
        "\n",
        "There's a documentation by SEG you can read here : http://www.mtnet.info/docs/ediformat.txt\n",
        "\n",
        "\n",
        "\n",
        "\n",
        "**- \"What is EID\"?**\n",
        "\n",
        "It's a typo a college student commonly made when looking for some open Magnetotellurics (MT) data on internet and confused why there's picture of mosque and [delicious rhombus soup](https://travelingyuk.com/ketupat-and-opor-ayam/204435/). Stay woke student.\n",
        "\n",
        "\n",
        "\n",
        "**- \"Hey, I already read the docs, seems pretty easy, I'm confident enough to do it!\"**\n",
        "\n",
        "Awesome! Let's load the data and parse it!"
      ]
    },
    {
      "cell_type": "markdown",
      "metadata": {
        "id": "d13LTECN1jP-",
        "colab_type": "text"
      },
      "source": [
        "---\n",
        "You can download open data on the internet or upload your own EDI files using folder button on the left.\n",
        "\n",
        "The open data that we use is from [ds.iris.edu/spud/emtf/18043842](https://ds.iris.edu/spud/emtf/18043842) (There's quick resume on the site.)\n",
        "\n",
        "Let's download it using command below.\n",
        "\n",
        "---"
      ]
    },
    {
      "cell_type": "code",
      "metadata": {
        "id": "GrEXNZLJ1u5u",
        "colab_type": "code",
        "colab": {}
      },
      "source": [
        "!wget --content-disposition --tries=1 'http://ds.iris.edu/spudservice/emtf/18043842/edi'"
      ],
      "execution_count": 0,
      "outputs": []
    },
    {
      "cell_type": "markdown",
      "metadata": {
        "id": "q-Fd6zR5q8iD",
        "colab_type": "text"
      },
      "source": [
        "---\n",
        "Just like the last tutorial, let's call these there 3 module first.\n",
        "\n",
        "---"
      ]
    },
    {
      "cell_type": "code",
      "metadata": {
        "id": "qR3PTO3QGzc_",
        "colab_type": "code",
        "colab": {}
      },
      "source": [
        "import numpy as np\n",
        "import matplotlib.pyplot as plt\n",
        "import pandas as pd"
      ],
      "execution_count": 0,
      "outputs": []
    },
    {
      "cell_type": "markdown",
      "metadata": {
        "id": "JyY70EFrrY7D",
        "colab_type": "text"
      },
      "source": [
        "---\n",
        "Still remember how we handle LAS?\n",
        "\n",
        "Great, now let's try to open those file and read all of the data by using command below.\n",
        "\n",
        "---"
      ]
    },
    {
      "cell_type": "code",
      "metadata": {
        "id": "Eu-zotGVFNIY",
        "colab_type": "code",
        "colab": {}
      },
      "source": [
        "filename=\"USMTArray.REU09.2019.edi\"       #put file's name to \"filename\" variable\n",
        "myfile = open(filename)                   #open EDI file\n",
        "data = myfile.read()                      #read myfile content, then put it to \"data\" variable\n",
        "print(data)                               #print the \"data\" variable contents\n",
        "myfile.close()                            #close EDI file"
      ],
      "execution_count": 0,
      "outputs": []
    },
    {
      "cell_type": "markdown",
      "metadata": {
        "id": "0M52fO2Frq4c",
        "colab_type": "text"
      },
      "source": [
        "---\n",
        "**- \"Thats a lot of stuff!\"**\n",
        "\n",
        "Yes, For your information, there are serveral type of EDI as the documentation says. \n",
        "\n",
        "Some of them are : `impedance type`, and `processed type`.\n",
        "\n",
        "> The `Impedance type` got the value of `Impedance` or `Z` on each type of tensor and you can use and parse depend on what case you will use (1D, 2D, etc. I don't know much about MT, please MT Master you can comment or revise on this tutorial). To compute the `apparent resistivities` and `phase`  here's a [good course slide](https://hendragrandis.files.wordpress.com/2010/01/mt_1.pdf) by ***the MT legendary Hendra Grandis***. \n",
        "\n",
        "\n",
        "\n",
        "> The `Processed type` got the value of `apparent resistivities` and `phase` that you can directly use for interpretaion or inversion.\n",
        "\n",
        "<br>\n",
        "\n",
        "\n",
        "**- \"Seeing the output, this one is the impedance type, right?\"**\n",
        "\n",
        "You're right! So we'll need to..\n",
        "\n",
        "<br>\n",
        "\n",
        "**- \"Find the flag of frequencies and Z tensor that we use!\"**\n",
        "\n",
        "Right again! Seems I don't have to continue this tutorial.\n",
        "\n",
        "Now let's parse the frequency first.\n",
        "\n",
        "---"
      ]
    },
    {
      "cell_type": "code",
      "metadata": {
        "id": "62rBtzF2E9qU",
        "colab_type": "code",
        "colab": {}
      },
      "source": [
        "flag_freq=\">FREQ\"     #this is the flag when the frequency record starts\n",
        "flag_stop=\">\"         #this is where it stops\n",
        "frow_start=0          #starting values, just like tutorial first we don't know where the data starting at\n",
        "frow_end=999999       #starting values, just like tutorial first we don't know where the data ending at\n",
        "temp_freq=[]\n",
        "temp=[]\n",
        "myfile = open(filename)\n",
        "for num, line in enumerate(myfile, 1):\n",
        "  if flag_freq in line:\n",
        "    frow_start=num\n",
        "  if (flag_stop in line) and (num > frow_start) and (frow_start is not 0) and (frow_end == 999999):\n",
        "    frow_end=num \n",
        "  if (frow_start<num<frow_end) and (frow_start > 0) :\n",
        "    temp.append(line)   #the magic spell to get wrapped data on each lines!\n",
        "\n",
        "temp_freq=\",\".join(temp)                            #change from a list it to a string\n",
        "temp_freq=temp_freq.replace(',','')                 #remove the string from other unwanted delimiter\n",
        "freq=np.fromstring(temp_freq, dtype=float, sep=\" \") #change the string to array using space as a delimiter"
      ],
      "execution_count": 0,
      "outputs": []
    },
    {
      "cell_type": "markdown",
      "metadata": {
        "id": "5lywTeLAwL9l",
        "colab_type": "text"
      },
      "source": [
        "---\n",
        "Nice. Let's print to see the content.\n",
        "\n",
        "Also, let's calculate it's period because it's commonly to plot the MT data curve using `T` as the `x-axis`.\n",
        "\n",
        "---"
      ]
    },
    {
      "cell_type": "code",
      "metadata": {
        "id": "TqyAHTutLsis",
        "colab_type": "code",
        "colab": {}
      },
      "source": [
        "print('frequency:', freq)\n",
        "per=1/freq\n",
        "print('Period:',per)"
      ],
      "execution_count": 0,
      "outputs": []
    },
    {
      "cell_type": "markdown",
      "metadata": {
        "id": "ig5mt6p8KSL2",
        "colab_type": "text"
      },
      "source": [
        "---\n",
        "\n",
        "Now, let's get the data. As the slides and tutorial that I shared before, in 1D case, We only need to parse the XY tensor of impedance Z which is `ZXY`.\n",
        "\n",
        "Based on the EDI Documentation, they split the records into real and imagery part of ZXY with these flag :\n",
        "\n",
        "1. ZXY Real : `>ZXYR`\n",
        "\n",
        "2. ZXY Imaginary : `>>ZXYI`\n",
        "\n",
        "\n",
        "Now, let's get those two records.\n",
        "\n",
        "---\n"
      ]
    },
    {
      "cell_type": "code",
      "metadata": {
        "id": "FacPBKv7KR92",
        "colab_type": "code",
        "colab": {}
      },
      "source": [
        "flag_zxyr=\">ZXYR\" #this is the flag when the ZXY Real record starts\n",
        "flag_zxyi=\">ZXYI\" #this is the flag when the ZXY Imaginary record starts\n",
        "flag_stop=\">\"\n",
        "rrow_start=0\n",
        "rrow_end=999999\n",
        "irow_start=0\n",
        "irow_end=999999\n",
        "temp_zxyr=[]\n",
        "temp_zxyi=[]\n",
        "temp1=[]\n",
        "temp2=[]\n",
        "\n",
        "myfile = open(filename)\n",
        "for num, line in enumerate(myfile, 1):\n",
        "  if flag_zxyr in line:\n",
        "    rrow_start=num\n",
        "  if (flag_stop in line) and (num > rrow_start) and (rrow_start is not 0) and (rrow_end == 999999):\n",
        "    rrow_end=num \n",
        "  if (rrow_start<num<rrow_end) and (rrow_start > 0) :\n",
        "    temp1.append(line)\n",
        "  if flag_zxyi in line:\n",
        "    irow_start=num\n",
        "  if (flag_stop in line) and (num > irow_start) and (irow_start is not 0) and (irow_end == 999999):\n",
        "    irow_end=num \n",
        "  if (irow_start<num<irow_end) and (irow_start > 0) :\n",
        "    temp2.append(line)\n",
        "\n",
        "temp_zxyr=\",\".join(temp1)\n",
        "temp_zxyr=temp_zxyr.replace(',','')\n",
        "zxyr=np.fromstring(temp_zxyr, dtype=float, sep=\" \")\n",
        "\n",
        "temp_zxyi=\",\".join(temp2)\n",
        "temp_zxyi=temp_zxyi.replace(',','')\n",
        "zxyi=np.fromstring(temp_zxyi, dtype=float, sep=\" \")"
      ],
      "execution_count": 0,
      "outputs": []
    },
    {
      "cell_type": "markdown",
      "metadata": {
        "id": "8qNz9g7U-FhH",
        "colab_type": "text"
      },
      "source": [
        "---\n",
        "Then join them together into a complex array.\n",
        "\n",
        "---"
      ]
    },
    {
      "cell_type": "code",
      "metadata": {
        "id": "9FwWjpRRH25i",
        "colab_type": "code",
        "colab": {}
      },
      "source": [
        "zxy=np.vectorize(complex)(zxyr, zxyi)\n",
        "print('zxy:',zxy)"
      ],
      "execution_count": 0,
      "outputs": []
    },
    {
      "cell_type": "code",
      "metadata": {
        "id": "35aY-8fYf4WA",
        "colab_type": "code",
        "colab": {}
      },
      "source": [
        "zxy.shape # the length of data"
      ],
      "execution_count": 0,
      "outputs": []
    },
    {
      "cell_type": "markdown",
      "metadata": {
        "id": "tP1u2844_4FT",
        "colab_type": "text"
      },
      "source": [
        "---\n",
        "**That's it! That's how you parse EDI file.**\n",
        "\n",
        "You can stop here or continue fiddling the data. \n",
        "\n",
        "I added some simple processing and inversion to experiment around with your data.\n",
        "\n",
        "---"
      ]
    },
    {
      "cell_type": "markdown",
      "metadata": {
        "id": "hH0KAPf6xz4l",
        "colab_type": "text"
      },
      "source": [
        "# **A little Data Processing**\n",
        "---\n",
        "As I said before, commonly, the data used for inversion is in apperent resistivity and phase format.\n",
        "\n",
        "Let's calculate it.\n",
        "\n",
        "---"
      ]
    },
    {
      "cell_type": "code",
      "metadata": {
        "id": "I5_a0kKqcEZw",
        "colab_type": "code",
        "colab": {}
      },
      "source": [
        "amu = np.pi*4.0E-07\n",
        "roaobs = np.zeros([len(per)])\n",
        "phaobs = np.zeros([len(per)])\n",
        "for i in range(0,len(per)):\n",
        "  roaobs[i] = per[i]/(20.0*np.pi*amu)*(zxy[i].real*zxy[i].real+zxy[i].imag*zxy[i].imag)*1e-4\n",
        "  phaobs[i] = np.arctan2(zxy[i].imag,zxy[i].real)/np.pi*180.0"
      ],
      "execution_count": 0,
      "outputs": []
    },
    {
      "cell_type": "markdown",
      "metadata": {
        "id": "C-yD7zVqk-oE",
        "colab_type": "text"
      },
      "source": [
        "---\n",
        "Now, let's try to plot the data.\n",
        "\n",
        "---"
      ]
    },
    {
      "cell_type": "code",
      "metadata": {
        "id": "qAY9RHWEgnkS",
        "colab_type": "code",
        "colab": {}
      },
      "source": [
        "fig, axs = plt.subplots(2)\n",
        "\n",
        "axs[0].loglog(per,roaobs,'ob')\n",
        "axs[0].set(ylabel=r'$App. Resistivity ( \\omega m) $')\n",
        "axs[0].set_ylim([2.0e1,2.0e4])\n",
        "\n",
        "axs[1].semilogx(per,phaobs,'*r')\n",
        "axs[1].set(xlabel=r'period (s)', ylabel=r'$Phase (\\phi) $')\n",
        "axs[1].set_ylim([0,90])\n",
        "fig.tight_layout()"
      ],
      "execution_count": 0,
      "outputs": []
    },
    {
      "cell_type": "markdown",
      "metadata": {
        "id": "N9ug7ULaxwJo",
        "colab_type": "text"
      },
      "source": [
        "---\n",
        "and as a comparison, this is the processed result from the site:\n",
        "\n",
        "<img src=\"http://ds.iris.edu/spudservice/data/18043840?nolog=y\" width=\"500\">\n",
        "\n",
        "See something interesting? \n",
        "\n",
        "Yes, the data got weights. Let's try to make array of weight to add them later on consideration when doing inversion.\n",
        "\n",
        "Sum of weight in RMS Error is 1. But of course it will get hard for us to define the weight in a small scale.\n",
        "\n",
        "Let's just define it in a 1-5 scale as 1 for the worst quality and 5 is the best. Then rescale it to a 0-1 scale.\n",
        "\n",
        "---"
      ]
    },
    {
      "cell_type": "code",
      "metadata": {
        "id": "9G8qcO0bB0T_",
        "colab_type": "code",
        "colab": {}
      },
      "source": [
        "#making array of weight with the same length as the data\n",
        "w_roaobs=np.zeros([len(roaobs)])+5.0      \n",
        "w_phaobs=np.zeros([len(phaobs)])+5.0\n",
        "\n",
        "#define the weight of data that aren't in good quality\n",
        "w_roaobs[0:3]=[1.0,1.0,4.0]\n",
        "w_phaobs[0:2]=[1.0, 4.0]\n",
        "w_roaobs[-7:]=[4.0, 4.0, 4.0, 4.0, 3.0, 2.0, 1.0]\n",
        "w_phaobs[-7:]=[4.0, 4.0, 4.0, 4.0, 3.0, 2.0, 1.0]\n",
        "\n",
        "#print the weight\n",
        "print('data weight (1-5):')\n",
        "print(w_roaobs)\n",
        "print(w_phaobs)\n",
        "\n",
        "totw_roaobs=np.sum(w_roaobs)\n",
        "totw_phaobs=np.sum(w_phaobs)\n",
        "\n",
        "#rescale the data\n",
        "for i in range(0,len(roaobs)):\n",
        "  w_roaobs[i]=(w_roaobs[i]/totw_roaobs)\n",
        "  w_phaobs[i]=(w_phaobs[i]/totw_phaobs)\n",
        "\n",
        "#print the rescal\n",
        "print('data weight (0-1):')\n",
        "print(w_roaobs)\n",
        "print(w_phaobs)\n"
      ],
      "execution_count": 0,
      "outputs": []
    },
    {
      "cell_type": "markdown",
      "metadata": {
        "id": "VZ8PCvUEYQRX",
        "colab_type": "text"
      },
      "source": [
        "# **Inversion**\n",
        "---\n",
        "Before putting our data in an inversion algorithm, we need to make the forward operator that scores our data.\n",
        "\n",
        "\n",
        "I already made it here based on this paper :\n",
        "\n",
        "\n",
        "\n",
        "*H. Grandis, M. Menvielle, M. Roussignol. 1999. [Bayesian inversion with Markov chains—I. The magnetotelluric one-dimensional case](https://academic.oup.com/gji/article/138/3/757/578816)\n",
        "\n",
        "But I won't go too deep.\n",
        "\n",
        "Here's the forward code.\n",
        "\n",
        "---"
      ]
    },
    {
      "cell_type": "code",
      "metadata": {
        "id": "JAEX8UsrPQLT",
        "colab_type": "code",
        "colab": {}
      },
      "source": [
        "def mt_forward(res_model,thi_model,per):\n",
        "# 1D MT forward Modelling\n",
        "# Implemented from H. Grandis, M. Menvielle, M. Roussignol. 1999. Bayesian inversion with Markov chains—I. The magnetotelluric one-dimensional case\n",
        "# Make sure to cite this paper and credit this notebook to use the code somewhere else.\n",
        "  mu_0 =  4e-7*np.pi\n",
        "  ndat=len(per)\n",
        "  amu = np.pi*4.0E-07\n",
        "  num_layer=len(res_model)\n",
        "  zint=np.zeros([num_layer-1], dtype=complex)\n",
        "  tran=np.zeros([2,2,num_layer-1], dtype=complex)\n",
        "  a=np.zeros([2,2], dtype=complex)\n",
        "  zre=np.zeros([ndat])\n",
        "  zim=np.zeros([ndat])\n",
        "  roa=np.zeros([ndat])\n",
        "  pha=np.zeros([ndat])\n",
        "  for i in range(0,ndat):\n",
        "    for j in range(0,num_layer-1):\n",
        "          z = np.sqrt(np.pi*amu*res_model[j]/per[i])\n",
        "          zint[j] = z + 1j*z\n",
        "          expo = np.exp(-2.0 * zint[j]/res_model[j]*thi_model[j])\n",
        "          \n",
        "          exp1 = (1 + 1j*0) + (expo)\n",
        "          exp2 = (1 + 1j*0) - (expo)\n",
        "          \n",
        "          tran[0,0,j] = (exp1)\n",
        "          tran[0,1,j]= (zint[j]* exp2)\n",
        "          tran[1,0,j] = (exp2/zint[j])\n",
        "          tran[1,1,j] = (exp1)\n",
        "      \n",
        "    a[0,0] = (1+1j*0)\n",
        "    a[0,1] = (0+1j*0)\n",
        "    a[1,0] = (0+1j*0)\n",
        "    a[1,1] = (1+1j*0)\n",
        "\n",
        "    cmultip = np.zeros([2,2], dtype=complex)\n",
        "\n",
        "    for k in range(0,num_layer-1):\n",
        "    #Complex Matrix Multiplication      \n",
        "      bmultip = np.array([ [tran[0,0,k], tran[0,1,k]] , [tran[1,0,k], tran[1,1,k]] ])\n",
        "      for l in range(0,2):\n",
        "        for m in range(0,2): \n",
        "          cmultip[l,m] = 0+1j*0\n",
        "          for n in range(0,2): \n",
        "            cmultip[l,m] = cmultip[l,m]+a[l,n]*bmultip[n,m];\n",
        "      for o in range(0,2):\n",
        "        for p in range(0,2): \n",
        "          a[o,p] = cmultip[o,p];\n",
        "      \n",
        "      rnom = zint[-1]*cmultip[0,0]+cmultip[0,1];\n",
        "      rden = zint[-1]*cmultip[1,0]+cmultip[1,1];\n",
        "      zre[i] = np.real(rnom/rden);\n",
        "      zim[i] = np.imag(rnom/rden);\n",
        "\n",
        "\n",
        "  for i in range(0,ndat):\n",
        "    #roa[i] = per[i]/(20*np.pi*amu)*(zre[i]*zre[i]+zim[i]*zim[i])\n",
        "    zxy_temp=zre[i] + 1j*zim[i]\n",
        "    roa[i] = np.abs(zxy_temp)**2 / (mu_0*2*np.pi*freq[i])\n",
        "    pha[i] = np.arctan2(zim[i],zre[i])/np.pi*180.0\n",
        "  \n",
        "  return roa,pha "
      ],
      "execution_count": 0,
      "outputs": []
    },
    {
      "cell_type": "markdown",
      "metadata": {
        "id": "ju3WWuxhH00d",
        "colab_type": "text"
      },
      "source": [
        "---\n",
        "Now, before testing our forward code, let's make the plotting function because it's a little to long (but not that complex) to rewrite and run it on another cell.\n",
        "\n",
        "---"
      ]
    },
    {
      "cell_type": "code",
      "metadata": {
        "id": "jyRJ8yHcJA0k",
        "colab_type": "code",
        "colab": {}
      },
      "source": [
        "def plot_test(res_inv,thi_model,per,roafin,phafin):\n",
        "  num_layer=len(res_inv)\n",
        "  res_plot=np.zeros([num_layer*2])\n",
        "  dep_plot=np.zeros([num_layer*2])\n",
        "\n",
        "  dep_model=np.zeros([len(thi_model)])\n",
        "  for i in range(1,len(dep_model)):\n",
        "    dep_model[i]=dep_model[i-1]+thi_model[i-1]\n",
        "\n",
        "  j=1\n",
        "  dep_plot[0]=0\n",
        "  dep_plot[-1]=float('inf')\n",
        "  for i in range(1,num_layer):\n",
        "    dep_plot[j]=dep_model[i]\n",
        "    dep_plot[j+1]=dep_model[i]\n",
        "    j=j+2\n",
        "\n",
        "  j=0\n",
        "  for i in range(0,num_layer):\n",
        "    res_plot[j]=res_inv[i]\n",
        "    res_plot[j+1]=res_inv[i]\n",
        "    j=j+2\n",
        "\n",
        "\n",
        "  figure, axes = plt.subplots(nrows=2, ncols=2)\n",
        "\n",
        "  plt.subplot(1, 2, 1)\n",
        "  plt.semilogx(res_plot,dep_plot)\n",
        "\n",
        "  plt.gca().invert_yaxis()\n",
        "  plt.ylabel('Depth (m)')\n",
        "  plt.xlabel(r'$Resistivity ( \\omega) $')\n",
        "\n",
        "\n",
        "\n",
        "  plt.subplot(2, 2, 2)\n",
        "  plt.scatter(per,roafin,color='blue')\n",
        "\n",
        "  plt.ylabel(r'$App. Resistivity ( \\omega m) $')\n",
        "  ax = plt.gca()\n",
        "  ax.set_yscale('log')\n",
        "  ax.set_xscale('log')\n",
        " \n",
        "  from matplotlib.colors import to_rgb, to_rgba\n",
        "  r, g, b = to_rgb('red')\n",
        "  color2 = [(r, g, b, alpha) for alpha in w_phaobs*20]\n",
        "\n",
        "  plt.subplot(2, 2, 4)\n",
        "  plt.scatter(per,phafin,color='blue')\n",
        "\n",
        "  plt.ylabel(r'$App. Resistivity ( \\omega m) $')\n",
        "  ax = plt.gca()\n",
        "  ax.set_xscale('log')\n",
        "\n",
        "  plt.ylabel(r'$Phase (\\phi) $')\n",
        "  plt.xlabel('period (s)')\n",
        "  figure.tight_layout()"
      ],
      "execution_count": 0,
      "outputs": []
    },
    {
      "cell_type": "code",
      "metadata": {
        "id": "V9B1_2kPoFkz",
        "colab_type": "code",
        "colab": {}
      },
      "source": [
        "def plot_compare(res_inv,thi_model,per):\n",
        "  num_layer=len(res_inv)\n",
        "  res_plot=np.zeros([num_layer*2])\n",
        "  dep_plot=np.zeros([num_layer*2])\n",
        "\n",
        "  dep_model=np.zeros([len(thi_model)])\n",
        "  for i in range(1,len(dep_model)):\n",
        "    dep_model[i]=dep_model[i-1]+thi_model[i-1]\n",
        "\n",
        "  j=1\n",
        "  dep_plot[0]=0\n",
        "  dep_plot[-1]=float('inf')\n",
        "  for i in range(1,num_layer):\n",
        "    dep_plot[j]=dep_model[i]\n",
        "    dep_plot[j+1]=dep_model[i]\n",
        "    j=j+2\n",
        "\n",
        "  j=0\n",
        "  for i in range(0,num_layer):\n",
        "    res_plot[j]=res_inv[i]\n",
        "    res_plot[j+1]=res_inv[i]\n",
        "    j=j+2\n",
        "\n",
        "\n",
        "  figure, axes = plt.subplots(nrows=2, ncols=2)\n",
        "\n",
        "  plt.subplot(1, 2, 1)\n",
        "  plt.semilogx(res_plot,dep_plot)\n",
        "\n",
        "  plt.gca().invert_yaxis()\n",
        "  plt.ylabel('Depth (m)')\n",
        "  plt.xlabel(r'$Resistivity ( \\omega) $')\n",
        "\n",
        "  from matplotlib.colors import to_rgb, to_rgba\n",
        "  r, g, b = to_rgb('red')\n",
        "  color1 = [(r, g, b, alpha) for alpha in w_roaobs*20]\n",
        "\n",
        "  plt.subplot(2, 2, 2)\n",
        "  plt.scatter(per,roafin,color='blue')\n",
        "  plt.scatter(per,roaobs,color=color1)\n",
        "  plt.ylabel(r'$App. Resistivity ( \\omega m) $')\n",
        "  ax = plt.gca()\n",
        "  ax.set_yscale('log')\n",
        "  ax.set_xscale('log')\n",
        "  ax.legend(['Pred.','Meas.']) \n",
        "  from matplotlib.colors import to_rgb, to_rgba\n",
        "  r, g, b = to_rgb('red')\n",
        "  color2 = [(r, g, b, alpha) for alpha in w_phaobs*20]\n",
        "\n",
        "  plt.subplot(2, 2, 4)\n",
        "  plt.scatter(per,phafin,color='blue')\n",
        "  plt.scatter(per,phaobs,color=color1)\n",
        "  plt.ylabel(r'$App. Resistivity ( \\omega m) $')\n",
        "  ax = plt.gca()\n",
        "  ax.set_xscale('log')\n",
        "  ax.legend(['Pred.','Meas.'])  \n",
        "  plt.ylabel(r'$Phase (\\phi) $')\n",
        "  plt.xlabel('period (s)')\n",
        "  figure.tight_layout()"
      ],
      "execution_count": 0,
      "outputs": []
    },
    {
      "cell_type": "markdown",
      "metadata": {
        "id": "o1rhwecuIO8L",
        "colab_type": "text"
      },
      "source": [
        "---\n",
        "Let's test the forward code and plot it!\n",
        "\n",
        "---"
      ]
    },
    {
      "cell_type": "code",
      "metadata": {
        "id": "YhKbqpXPIUDe",
        "colab_type": "code",
        "colab": {}
      },
      "source": [
        "res_test=[1000.0, 300.0, 100.0, 2000.0, 10000.0] #resistivity of 3 layer\n",
        "thi_test=[1000.0, 1000.0, 1000.0, 1000.0, 1000.0]    #thickness each layer in m\n",
        "period_test=per                  #lets just use the period range from the online data or you can set it yourself\n",
        "\n",
        "[roatest,phatest]=mt_forward(res_test,thi_test,per)\n",
        "plot_test(res_test,thi_test,per,roatest,phatest)"
      ],
      "execution_count": 0,
      "outputs": []
    },
    {
      "cell_type": "markdown",
      "metadata": {
        "id": "PMPsP4dMKZK3",
        "colab_type": "text"
      },
      "source": [
        "---\n",
        "That's the syntechic data.\n",
        "\n",
        "Now let's invert our real data into an inversion algorithm!\n",
        "\n",
        "The algorithm that I use is **\"Continous Genetic Algorithm\"**.\n",
        "\n",
        "Genetic Algorithm is a opmitization method inspired by the process of natural selection in evolution. I wrote about this in my old blog [here](http://redigitize.blogspot.com/2016/03/tutorial-inversi-menggunakan-continous.html). (in  Bahasa Indonesia). \n",
        "\n",
        "Also Carr, J. in (2014) [An Introduction to Genetic Algorithms](https://www.researchgate.net/profile/Mohamed_Mourad_Lafifi/post/How_can_we_use_Genetic_Algorithm_in_Matlab_such_that_it_returns_same_answer_every_time_we_run_it/attachment/5aa19b874cde266d589024da/AS%3A602004858626049%401520540551775/download/An+Introduction+to+Genetic+Algorithms+Carrjk.pdf), covered this stuff very well explained.\n",
        "\n",
        "The steps of this algorithm is like this :\n",
        "\n",
        "1. Make a series of population random resistivity model\n",
        "2. Score each population fitness by run it into a forward calculation then calculate the error between measured data and calculated data from forward calculation.\n",
        "3. Eliminate some population by fitness score (survival of the fittest)\n",
        "4. Use a probability to mutate some parameter in a individual population (so it can escape local minima)\n",
        "5. Repeat the step after certain generation or lowest error score achieveable.\n",
        "\n",
        "So, let's inverse it. With assumption that only the resistivity model parameter that only need to be optimized.\n",
        "\n",
        "---"
      ]
    },
    {
      "cell_type": "code",
      "metadata": {
        "id": "49uDMw8jwosy",
        "colab_type": "code",
        "colab": {}
      },
      "source": [
        "num_layer=30 #number of variables / layer parameters\n",
        "npop=12 # number of population\n",
        "ns=6 #number of surviving candidate\n",
        "cm=0.5 #chance of mutation\n",
        "nm=int(np.ceil((npop-1)*num_layer*cm)) #number of mutation\n",
        "minvar=10.0 #minimum parameter\n",
        "maxvar=100000.0 #maximum parameter\n",
        "maxiter=100 #maximum generation/iteration\n",
        "thi_model=np.zeros([num_layer])+200.0 #thickness of each layer\n",
        "\n",
        "#print optimization parameters\n",
        "print('Genetic Algorithm Parameter Optimization')\n",
        "print('number of variables  : ',num_layer)\n",
        "print('min. resistivity     : ',minvar)\n",
        "print('max. resistivity     : ',maxvar)\n",
        "print('number of generation : ',maxiter)\n",
        "print('number of population : ',npop)\n",
        "print('chance of mutation   : ',cm*100.0,'%')\n",
        "\n",
        "\n",
        "#making first population\n",
        "respop=np.dot((maxvar-minvar),np.random.rand(npop,num_layer)) + minvar\n",
        "\n",
        "fx=np.zeros([npop,2])\n",
        "fx[:,1]=np.linspace(0,npop-1,npop)\n",
        "prob=np.zeros([ns])\n",
        "fx.shape\n",
        "\n",
        "errplot=np.zeros([maxiter])\n",
        "\n",
        "for i in range(0,maxiter):\n",
        "  for j in range(0,npop):\n",
        "    #calculate population fitness\n",
        "    res_temp=respop[j,:]\n",
        "    [roaest,phaest]=mt_forward(res_temp,thi_model,per)\n",
        "    err=(np.sqrt(np.sum(w_roaobs*(roaest-roaobs)**2))+np.sqrt(np.sum(w_phaobs*(phaest-phaobs)**2)))/2.0\n",
        "    fx[j,0]=err\n",
        "  best=fx[fx[:,0].argsort()]\n",
        "  respop0=respop\n",
        "  respop=np.dot(respop,0.0)\n",
        "  for k in range(0,ns):\n",
        "      respop[k,:]=respop0[int(best[k,1]),:]\n",
        "      prob[k]=(ns-k)/(np.sum(np.linspace(1,ns,ns))) #I am using linspace and sum to compute factorial\n",
        "\n",
        "  #MATING PROCESS\n",
        "  for k in range(ns,npop,2): #randomly choose who will mate (tinder's game on)\n",
        "    m=np.linspace(0,ns-1,ns)\n",
        "    pick1=np.random.choice(m, 1, p=prob)[0]\n",
        "    pick2=np.random.choice(m, 1, p=prob)[0]\n",
        "    if pick1==pick2:  #just making sure no one \"self mating\". I know its hard during this time of quarantine. please stay strong.\n",
        "      while True:\n",
        "        pick2=np.random.choice(m, 1, p=prob)[0]\n",
        "        if pick1!=pick2:\n",
        "          break\n",
        "    flag_crossover=0\n",
        "    pnt_crs=np.linspace(0,num_layer-1,num_layer,dtype=int)\n",
        "    np.random.shuffle(pnt_crs)\n",
        "    for ll in range(0,num_layer):\n",
        "      l=pnt_crs[ll]\n",
        "      if flag_crossover==0:\n",
        "        beta=np.random.rand(1)[0]\n",
        "        while True:\n",
        "          res1=(1.0-beta)*respop[int(pick2),l]+beta*respop[int(pick1),l]\n",
        "          res2=(1.0-beta)*respop[int(pick1),l]+beta*respop[int(pick2),l]\n",
        "          if res1>=minvar and res2>=minvar and res1<=maxvar and res2<=maxvar:\n",
        "            break\n",
        "        if res1<minvar and res2>minvar and res1<maxvar and res2>maxvar:\n",
        "          print('res1 res2',res1,res2)\n",
        "\n",
        "        respop[k,l]=res1\n",
        "        respop[k+1,l]=res2\n",
        "        flag_crossover==1\n",
        "      else: \n",
        "        respop[k,l]= respop[int(pick2),l]\n",
        "        respop[k+1,l]= respop[int(pick1),l]\n",
        "\n",
        "  #MUTATION CHANCE\n",
        "  mrow=np.sort(np.ceil(np.random.randint(npop,size=nm)))\n",
        "  mcol=np.ceil(np.random.randint(num_layer,size=nm))\n",
        "  for ii in range(0,nm):\n",
        "    respop[int(mrow[ii]),int(mcol[ii])]=(maxvar-minvar)*np.random.rand(1)+minvar\n",
        "    if respop[int(mrow[ii]),int(mcol[ii])]<minvar and respop[int(mrow[ii]),int(mcol[ii])]>maxvar:\n",
        "      print(respop[int(mrow[ii]),int(mcol[ii])])\n",
        "  #print('Mutation occured!')\n",
        "  if i%10==0 or i==maxiter-1:\n",
        "    print('generation : ',i+1,'of',maxiter,'error :',best[0,0])\n",
        "\n",
        "  errplot[i]=best[0,0]\n",
        "res_inv=respop0[int(best[0,1]),:] #get the best optimized parameter\n",
        "bestpd=pd.DataFrame(best,columns=['error','ID pop'])\n",
        "bestpd"
      ],
      "execution_count": 0,
      "outputs": []
    },
    {
      "cell_type": "markdown",
      "metadata": {
        "id": "AxcLC3tTMuS7",
        "colab_type": "text"
      },
      "source": [
        "---\n",
        "Now let's get the optimized parameter which is the first fittest parameter on the last generation.\n",
        "\n",
        "and... plot it.\n",
        "\n",
        "---"
      ]
    },
    {
      "cell_type": "code",
      "metadata": {
        "id": "Ph61FBFvPsCW",
        "colab_type": "code",
        "colab": {}
      },
      "source": [
        "[roafin,phafin]=mt_forward(res_inv,thi_model,per)\n",
        "plot_compare(res_inv,thi_model,per)"
      ],
      "execution_count": 0,
      "outputs": []
    },
    {
      "cell_type": "markdown",
      "metadata": {
        "id": "_YQ-g0LbOb3b",
        "colab_type": "text"
      },
      "source": [
        "---\n",
        "\n",
        "\n",
        "**- \"But wait, why it's not really that fit?\"**\n",
        "<br>\n",
        "That's because it's stuck on local minima, <br>\n",
        "the current setting of algorithm already doing his best. \n",
        "\n",
        "<br>\n",
        "\n",
        "**- \"But hey, you did it on your blog!?\"**\n",
        "\n",
        "<br>\n",
        "\n",
        "<img src=\"https://3.bp.blogspot.com/-e3dwNkCbPEA/U0n2hiFcD_I/AAAAAAAAAPE/9tyeU0cwmtk/s1600/inversi+occam.gif\" width=\"500\">\n",
        "\n",
        "<img src=\"http://4.bp.blogspot.com/-Dz8sKLaGIf4/Uz1d5tN14ZI/AAAAAAAAANY/cuRs5Adx4aI/s1600/test3.gif\" width=\"500\">\n",
        "\n",
        "\n",
        "\n",
        "Hehe. You can try to edit the inversion parameter, <br>\n",
        "fiddle with the setting, change the number of population etc., <br>\n",
        "or do the exercise below ;)\n",
        "\n",
        "---"
      ]
    },
    {
      "cell_type": "markdown",
      "metadata": {
        "id": "Ej7ddqGHwONd",
        "colab_type": "text"
      },
      "source": [
        "# **Exercises**"
      ]
    },
    {
      "cell_type": "markdown",
      "metadata": {
        "id": "Q5mRhnQVwD-7",
        "colab_type": "text"
      },
      "source": [
        "---\n",
        "1. Try to get other data from the EDI!\n",
        "2. As you can see, the inversion seems stuck on a local minima, how about try to add the depth as one of the variable and see the result!\n",
        "3. How about making the evolution chance bigger each generation?\n",
        "4. Why don't you try apply it to another type of inversion? This book really helps! \n",
        "\n",
        "\n",
        "> [Global Optimization Methods in Geophysical Inversion, by Mrinal K. Sen, Paul L. Stoffa](https://www.semanticscholar.org/paper/Global-Optimization-Methods-in-Geophysical-Sen-Stoffa/c86814951cb9884dbd4570c0284e81031bfc0fcd)\n",
        "\n",
        "\n",
        "> [Parameter Estimation and Inverse Problems by Richard C Aster, Brian Borchers, Clifford H. Thurber](https://cds.cern.ch/record/830998/files/0120656043_TOC.pdf)\n",
        "\n",
        "\n",
        "\n",
        "\n",
        "\n",
        "---"
      ]
    },
    {
      "cell_type": "code",
      "metadata": {
        "id": "rb1pONbJwLSu",
        "colab_type": "code",
        "colab": {}
      },
      "source": [
        "(code here)"
      ],
      "execution_count": 0,
      "outputs": []
    },
    {
      "cell_type": "markdown",
      "metadata": {
        "id": "gXjf1ttvW_gT",
        "colab_type": "text"
      },
      "source": [
        ""
      ]
    }
  ]
}